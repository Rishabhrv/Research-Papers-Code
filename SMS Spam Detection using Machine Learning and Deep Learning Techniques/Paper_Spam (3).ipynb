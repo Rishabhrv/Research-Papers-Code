{
  "nbformat": 4,
  "nbformat_minor": 0,
  "metadata": {
    "colab": {
      "name": "Paper_Spam",
      "provenance": [],
      "collapsed_sections": [
        "CpBVoIZwGBNt",
        "hZOCFdMKGN6o",
        "jCHcU9XdGV4u",
        "6As-U-6zGb4e",
        "OTywbPztGwit",
        "hl70z4oEHE-c",
        "d7wgKaeJH-ZT",
        "VRCsyX9bIMt6",
        "gBLEMKTCIlyP",
        "AEbLarK_JTdA",
        "bM3nqFnvJghp",
        "H4-CF4j2BdfP",
        "G61lMgslKIbr",
        "im4StR0TKQo8",
        "5gTlexxpKaLn",
        "zBmGXyunK4DQ",
        "BJK92CY1LWjh",
        "oyxd0MTsLgJC",
        "7TduUwYkUyKE",
        "BqVC-bqDU21D"
      ]
    },
    "kernelspec": {
      "name": "python3",
      "display_name": "Python 3"
    },
    "language_info": {
      "name": "python"
    }
  },
  "cells": [
    {
      "cell_type": "code",
      "execution_count": null,
      "metadata": {
        "id": "h4FNhqJIGfoX"
      },
      "outputs": [],
      "source": [
        "import pandas as pd \n",
        "import numpy as np"
      ]
    },
    {
      "cell_type": "code",
      "source": [
        "df = pd.read_csv('/content/spam.csv',encoding='ISO-8859-1')\n",
        "df.head()"
      ],
      "metadata": {
        "colab": {
          "base_uri": "https://localhost:8080/",
          "height": 206
        },
        "id": "bClynKcpIOKC",
        "outputId": "86ff03c4-2011-406c-98cb-3769668927d9"
      },
      "execution_count": null,
      "outputs": [
        {
          "output_type": "execute_result",
          "data": {
            "text/plain": [
              "     v1                                                 v2 Unnamed: 2  \\\n",
              "0   ham  Go until jurong point, crazy.. Available only ...        NaN   \n",
              "1   ham                      Ok lar... Joking wif u oni...        NaN   \n",
              "2  spam  Free entry in 2 a wkly comp to win FA Cup fina...        NaN   \n",
              "3   ham  U dun say so early hor... U c already then say...        NaN   \n",
              "4   ham  Nah I don't think he goes to usf, he lives aro...        NaN   \n",
              "\n",
              "  Unnamed: 3 Unnamed: 4  \n",
              "0        NaN        NaN  \n",
              "1        NaN        NaN  \n",
              "2        NaN        NaN  \n",
              "3        NaN        NaN  \n",
              "4        NaN        NaN  "
            ],
            "text/html": [
              "\n",
              "  <div id=\"df-603daa37-183f-434e-b2c7-c32ce79a34cf\">\n",
              "    <div class=\"colab-df-container\">\n",
              "      <div>\n",
              "<style scoped>\n",
              "    .dataframe tbody tr th:only-of-type {\n",
              "        vertical-align: middle;\n",
              "    }\n",
              "\n",
              "    .dataframe tbody tr th {\n",
              "        vertical-align: top;\n",
              "    }\n",
              "\n",
              "    .dataframe thead th {\n",
              "        text-align: right;\n",
              "    }\n",
              "</style>\n",
              "<table border=\"1\" class=\"dataframe\">\n",
              "  <thead>\n",
              "    <tr style=\"text-align: right;\">\n",
              "      <th></th>\n",
              "      <th>v1</th>\n",
              "      <th>v2</th>\n",
              "      <th>Unnamed: 2</th>\n",
              "      <th>Unnamed: 3</th>\n",
              "      <th>Unnamed: 4</th>\n",
              "    </tr>\n",
              "  </thead>\n",
              "  <tbody>\n",
              "    <tr>\n",
              "      <th>0</th>\n",
              "      <td>ham</td>\n",
              "      <td>Go until jurong point, crazy.. Available only ...</td>\n",
              "      <td>NaN</td>\n",
              "      <td>NaN</td>\n",
              "      <td>NaN</td>\n",
              "    </tr>\n",
              "    <tr>\n",
              "      <th>1</th>\n",
              "      <td>ham</td>\n",
              "      <td>Ok lar... Joking wif u oni...</td>\n",
              "      <td>NaN</td>\n",
              "      <td>NaN</td>\n",
              "      <td>NaN</td>\n",
              "    </tr>\n",
              "    <tr>\n",
              "      <th>2</th>\n",
              "      <td>spam</td>\n",
              "      <td>Free entry in 2 a wkly comp to win FA Cup fina...</td>\n",
              "      <td>NaN</td>\n",
              "      <td>NaN</td>\n",
              "      <td>NaN</td>\n",
              "    </tr>\n",
              "    <tr>\n",
              "      <th>3</th>\n",
              "      <td>ham</td>\n",
              "      <td>U dun say so early hor... U c already then say...</td>\n",
              "      <td>NaN</td>\n",
              "      <td>NaN</td>\n",
              "      <td>NaN</td>\n",
              "    </tr>\n",
              "    <tr>\n",
              "      <th>4</th>\n",
              "      <td>ham</td>\n",
              "      <td>Nah I don't think he goes to usf, he lives aro...</td>\n",
              "      <td>NaN</td>\n",
              "      <td>NaN</td>\n",
              "      <td>NaN</td>\n",
              "    </tr>\n",
              "  </tbody>\n",
              "</table>\n",
              "</div>\n",
              "      <button class=\"colab-df-convert\" onclick=\"convertToInteractive('df-603daa37-183f-434e-b2c7-c32ce79a34cf')\"\n",
              "              title=\"Convert this dataframe to an interactive table.\"\n",
              "              style=\"display:none;\">\n",
              "        \n",
              "  <svg xmlns=\"http://www.w3.org/2000/svg\" height=\"24px\"viewBox=\"0 0 24 24\"\n",
              "       width=\"24px\">\n",
              "    <path d=\"M0 0h24v24H0V0z\" fill=\"none\"/>\n",
              "    <path d=\"M18.56 5.44l.94 2.06.94-2.06 2.06-.94-2.06-.94-.94-2.06-.94 2.06-2.06.94zm-11 1L8.5 8.5l.94-2.06 2.06-.94-2.06-.94L8.5 2.5l-.94 2.06-2.06.94zm10 10l.94 2.06.94-2.06 2.06-.94-2.06-.94-.94-2.06-.94 2.06-2.06.94z\"/><path d=\"M17.41 7.96l-1.37-1.37c-.4-.4-.92-.59-1.43-.59-.52 0-1.04.2-1.43.59L10.3 9.45l-7.72 7.72c-.78.78-.78 2.05 0 2.83L4 21.41c.39.39.9.59 1.41.59.51 0 1.02-.2 1.41-.59l7.78-7.78 2.81-2.81c.8-.78.8-2.07 0-2.86zM5.41 20L4 18.59l7.72-7.72 1.47 1.35L5.41 20z\"/>\n",
              "  </svg>\n",
              "      </button>\n",
              "      \n",
              "  <style>\n",
              "    .colab-df-container {\n",
              "      display:flex;\n",
              "      flex-wrap:wrap;\n",
              "      gap: 12px;\n",
              "    }\n",
              "\n",
              "    .colab-df-convert {\n",
              "      background-color: #E8F0FE;\n",
              "      border: none;\n",
              "      border-radius: 50%;\n",
              "      cursor: pointer;\n",
              "      display: none;\n",
              "      fill: #1967D2;\n",
              "      height: 32px;\n",
              "      padding: 0 0 0 0;\n",
              "      width: 32px;\n",
              "    }\n",
              "\n",
              "    .colab-df-convert:hover {\n",
              "      background-color: #E2EBFA;\n",
              "      box-shadow: 0px 1px 2px rgba(60, 64, 67, 0.3), 0px 1px 3px 1px rgba(60, 64, 67, 0.15);\n",
              "      fill: #174EA6;\n",
              "    }\n",
              "\n",
              "    [theme=dark] .colab-df-convert {\n",
              "      background-color: #3B4455;\n",
              "      fill: #D2E3FC;\n",
              "    }\n",
              "\n",
              "    [theme=dark] .colab-df-convert:hover {\n",
              "      background-color: #434B5C;\n",
              "      box-shadow: 0px 1px 3px 1px rgba(0, 0, 0, 0.15);\n",
              "      filter: drop-shadow(0px 1px 2px rgba(0, 0, 0, 0.3));\n",
              "      fill: #FFFFFF;\n",
              "    }\n",
              "  </style>\n",
              "\n",
              "      <script>\n",
              "        const buttonEl =\n",
              "          document.querySelector('#df-603daa37-183f-434e-b2c7-c32ce79a34cf button.colab-df-convert');\n",
              "        buttonEl.style.display =\n",
              "          google.colab.kernel.accessAllowed ? 'block' : 'none';\n",
              "\n",
              "        async function convertToInteractive(key) {\n",
              "          const element = document.querySelector('#df-603daa37-183f-434e-b2c7-c32ce79a34cf');\n",
              "          const dataTable =\n",
              "            await google.colab.kernel.invokeFunction('convertToInteractive',\n",
              "                                                     [key], {});\n",
              "          if (!dataTable) return;\n",
              "\n",
              "          const docLinkHtml = 'Like what you see? Visit the ' +\n",
              "            '<a target=\"_blank\" href=https://colab.research.google.com/notebooks/data_table.ipynb>data table notebook</a>'\n",
              "            + ' to learn more about interactive tables.';\n",
              "          element.innerHTML = '';\n",
              "          dataTable['output_type'] = 'display_data';\n",
              "          await google.colab.output.renderOutput(dataTable, element);\n",
              "          const docLink = document.createElement('div');\n",
              "          docLink.innerHTML = docLinkHtml;\n",
              "          element.appendChild(docLink);\n",
              "        }\n",
              "      </script>\n",
              "    </div>\n",
              "  </div>\n",
              "  "
            ]
          },
          "metadata": {},
          "execution_count": 2
        }
      ]
    },
    {
      "cell_type": "code",
      "source": [
        "df.shape"
      ],
      "metadata": {
        "colab": {
          "base_uri": "https://localhost:8080/"
        },
        "id": "VtWMdmWFIz9s",
        "outputId": "4730f8a9-214c-4e68-9d74-8051b21e7994"
      },
      "execution_count": null,
      "outputs": [
        {
          "output_type": "execute_result",
          "data": {
            "text/plain": [
              "(5572, 5)"
            ]
          },
          "metadata": {},
          "execution_count": 3
        }
      ]
    },
    {
      "cell_type": "markdown",
      "source": [
        "## **Cleaning Data**"
      ],
      "metadata": {
        "id": "CpBVoIZwGBNt"
      }
    },
    {
      "cell_type": "code",
      "source": [
        "df.drop(columns=['Unnamed: 2',\t'Unnamed: 3',\t'Unnamed: 4'], inplace=True)\n",
        "df.head(1)"
      ],
      "metadata": {
        "colab": {
          "base_uri": "https://localhost:8080/",
          "height": 81
        },
        "id": "OMfmZmAHI2W2",
        "outputId": "9226261e-756e-49cf-ba73-7a6fda57d822"
      },
      "execution_count": null,
      "outputs": [
        {
          "output_type": "execute_result",
          "data": {
            "text/plain": [
              "    v1                                                 v2\n",
              "0  ham  Go until jurong point, crazy.. Available only ..."
            ],
            "text/html": [
              "\n",
              "  <div id=\"df-bf92b63b-1216-4e73-ab48-8124f8a7ebad\">\n",
              "    <div class=\"colab-df-container\">\n",
              "      <div>\n",
              "<style scoped>\n",
              "    .dataframe tbody tr th:only-of-type {\n",
              "        vertical-align: middle;\n",
              "    }\n",
              "\n",
              "    .dataframe tbody tr th {\n",
              "        vertical-align: top;\n",
              "    }\n",
              "\n",
              "    .dataframe thead th {\n",
              "        text-align: right;\n",
              "    }\n",
              "</style>\n",
              "<table border=\"1\" class=\"dataframe\">\n",
              "  <thead>\n",
              "    <tr style=\"text-align: right;\">\n",
              "      <th></th>\n",
              "      <th>v1</th>\n",
              "      <th>v2</th>\n",
              "    </tr>\n",
              "  </thead>\n",
              "  <tbody>\n",
              "    <tr>\n",
              "      <th>0</th>\n",
              "      <td>ham</td>\n",
              "      <td>Go until jurong point, crazy.. Available only ...</td>\n",
              "    </tr>\n",
              "  </tbody>\n",
              "</table>\n",
              "</div>\n",
              "      <button class=\"colab-df-convert\" onclick=\"convertToInteractive('df-bf92b63b-1216-4e73-ab48-8124f8a7ebad')\"\n",
              "              title=\"Convert this dataframe to an interactive table.\"\n",
              "              style=\"display:none;\">\n",
              "        \n",
              "  <svg xmlns=\"http://www.w3.org/2000/svg\" height=\"24px\"viewBox=\"0 0 24 24\"\n",
              "       width=\"24px\">\n",
              "    <path d=\"M0 0h24v24H0V0z\" fill=\"none\"/>\n",
              "    <path d=\"M18.56 5.44l.94 2.06.94-2.06 2.06-.94-2.06-.94-.94-2.06-.94 2.06-2.06.94zm-11 1L8.5 8.5l.94-2.06 2.06-.94-2.06-.94L8.5 2.5l-.94 2.06-2.06.94zm10 10l.94 2.06.94-2.06 2.06-.94-2.06-.94-.94-2.06-.94 2.06-2.06.94z\"/><path d=\"M17.41 7.96l-1.37-1.37c-.4-.4-.92-.59-1.43-.59-.52 0-1.04.2-1.43.59L10.3 9.45l-7.72 7.72c-.78.78-.78 2.05 0 2.83L4 21.41c.39.39.9.59 1.41.59.51 0 1.02-.2 1.41-.59l7.78-7.78 2.81-2.81c.8-.78.8-2.07 0-2.86zM5.41 20L4 18.59l7.72-7.72 1.47 1.35L5.41 20z\"/>\n",
              "  </svg>\n",
              "      </button>\n",
              "      \n",
              "  <style>\n",
              "    .colab-df-container {\n",
              "      display:flex;\n",
              "      flex-wrap:wrap;\n",
              "      gap: 12px;\n",
              "    }\n",
              "\n",
              "    .colab-df-convert {\n",
              "      background-color: #E8F0FE;\n",
              "      border: none;\n",
              "      border-radius: 50%;\n",
              "      cursor: pointer;\n",
              "      display: none;\n",
              "      fill: #1967D2;\n",
              "      height: 32px;\n",
              "      padding: 0 0 0 0;\n",
              "      width: 32px;\n",
              "    }\n",
              "\n",
              "    .colab-df-convert:hover {\n",
              "      background-color: #E2EBFA;\n",
              "      box-shadow: 0px 1px 2px rgba(60, 64, 67, 0.3), 0px 1px 3px 1px rgba(60, 64, 67, 0.15);\n",
              "      fill: #174EA6;\n",
              "    }\n",
              "\n",
              "    [theme=dark] .colab-df-convert {\n",
              "      background-color: #3B4455;\n",
              "      fill: #D2E3FC;\n",
              "    }\n",
              "\n",
              "    [theme=dark] .colab-df-convert:hover {\n",
              "      background-color: #434B5C;\n",
              "      box-shadow: 0px 1px 3px 1px rgba(0, 0, 0, 0.15);\n",
              "      filter: drop-shadow(0px 1px 2px rgba(0, 0, 0, 0.3));\n",
              "      fill: #FFFFFF;\n",
              "    }\n",
              "  </style>\n",
              "\n",
              "      <script>\n",
              "        const buttonEl =\n",
              "          document.querySelector('#df-bf92b63b-1216-4e73-ab48-8124f8a7ebad button.colab-df-convert');\n",
              "        buttonEl.style.display =\n",
              "          google.colab.kernel.accessAllowed ? 'block' : 'none';\n",
              "\n",
              "        async function convertToInteractive(key) {\n",
              "          const element = document.querySelector('#df-bf92b63b-1216-4e73-ab48-8124f8a7ebad');\n",
              "          const dataTable =\n",
              "            await google.colab.kernel.invokeFunction('convertToInteractive',\n",
              "                                                     [key], {});\n",
              "          if (!dataTable) return;\n",
              "\n",
              "          const docLinkHtml = 'Like what you see? Visit the ' +\n",
              "            '<a target=\"_blank\" href=https://colab.research.google.com/notebooks/data_table.ipynb>data table notebook</a>'\n",
              "            + ' to learn more about interactive tables.';\n",
              "          element.innerHTML = '';\n",
              "          dataTable['output_type'] = 'display_data';\n",
              "          await google.colab.output.renderOutput(dataTable, element);\n",
              "          const docLink = document.createElement('div');\n",
              "          docLink.innerHTML = docLinkHtml;\n",
              "          element.appendChild(docLink);\n",
              "        }\n",
              "      </script>\n",
              "    </div>\n",
              "  </div>\n",
              "  "
            ]
          },
          "metadata": {},
          "execution_count": 4
        }
      ]
    },
    {
      "cell_type": "code",
      "source": [
        "df.rename(columns={'v1':'target','v2':'text'},inplace=True)"
      ],
      "metadata": {
        "id": "8WKrYSENJGWK"
      },
      "execution_count": null,
      "outputs": []
    },
    {
      "cell_type": "code",
      "source": [
        "df.isna().sum()"
      ],
      "metadata": {
        "colab": {
          "base_uri": "https://localhost:8080/"
        },
        "id": "QLrb0UY6JTAD",
        "outputId": "deffccf5-123e-4cf2-b4c8-760f7ea05eb9"
      },
      "execution_count": null,
      "outputs": [
        {
          "output_type": "execute_result",
          "data": {
            "text/plain": [
              "target    0\n",
              "text      0\n",
              "dtype: int64"
            ]
          },
          "metadata": {},
          "execution_count": 6
        }
      ]
    },
    {
      "cell_type": "code",
      "source": [
        "df.duplicated().sum()"
      ],
      "metadata": {
        "colab": {
          "base_uri": "https://localhost:8080/"
        },
        "id": "Ik_jA3-xJVXM",
        "outputId": "5cd268c2-4642-4834-e63e-ad3ea0831485"
      },
      "execution_count": null,
      "outputs": [
        {
          "output_type": "execute_result",
          "data": {
            "text/plain": [
              "403"
            ]
          },
          "metadata": {},
          "execution_count": 7
        }
      ]
    },
    {
      "cell_type": "code",
      "source": [
        "df = df.drop_duplicates(keep='first')\n",
        "df.shape"
      ],
      "metadata": {
        "colab": {
          "base_uri": "https://localhost:8080/"
        },
        "id": "CWxiVk8sJZ5r",
        "outputId": "2dbeaf13-e09c-4776-94e2-8d7fda925f16"
      },
      "execution_count": null,
      "outputs": [
        {
          "output_type": "execute_result",
          "data": {
            "text/plain": [
              "(5169, 2)"
            ]
          },
          "metadata": {},
          "execution_count": 8
        }
      ]
    },
    {
      "cell_type": "code",
      "source": [
        "from sklearn.preprocessing import LabelEncoder\n",
        "\n",
        "encoder=LabelEncoder()\n",
        "\n",
        "df['target']=encoder.fit_transform(df['target'])\n",
        "df.head()"
      ],
      "metadata": {
        "colab": {
          "base_uri": "https://localhost:8080/",
          "height": 206
        },
        "id": "qczwvg-rJfmq",
        "outputId": "224f146a-0e3c-4424-fdd9-89865e842c29"
      },
      "execution_count": null,
      "outputs": [
        {
          "output_type": "execute_result",
          "data": {
            "text/plain": [
              "   target                                               text\n",
              "0       0  Go until jurong point, crazy.. Available only ...\n",
              "1       0                      Ok lar... Joking wif u oni...\n",
              "2       1  Free entry in 2 a wkly comp to win FA Cup fina...\n",
              "3       0  U dun say so early hor... U c already then say...\n",
              "4       0  Nah I don't think he goes to usf, he lives aro..."
            ],
            "text/html": [
              "\n",
              "  <div id=\"df-ceccfeef-1881-45c1-a621-dc5eeabb54b5\">\n",
              "    <div class=\"colab-df-container\">\n",
              "      <div>\n",
              "<style scoped>\n",
              "    .dataframe tbody tr th:only-of-type {\n",
              "        vertical-align: middle;\n",
              "    }\n",
              "\n",
              "    .dataframe tbody tr th {\n",
              "        vertical-align: top;\n",
              "    }\n",
              "\n",
              "    .dataframe thead th {\n",
              "        text-align: right;\n",
              "    }\n",
              "</style>\n",
              "<table border=\"1\" class=\"dataframe\">\n",
              "  <thead>\n",
              "    <tr style=\"text-align: right;\">\n",
              "      <th></th>\n",
              "      <th>target</th>\n",
              "      <th>text</th>\n",
              "    </tr>\n",
              "  </thead>\n",
              "  <tbody>\n",
              "    <tr>\n",
              "      <th>0</th>\n",
              "      <td>0</td>\n",
              "      <td>Go until jurong point, crazy.. Available only ...</td>\n",
              "    </tr>\n",
              "    <tr>\n",
              "      <th>1</th>\n",
              "      <td>0</td>\n",
              "      <td>Ok lar... Joking wif u oni...</td>\n",
              "    </tr>\n",
              "    <tr>\n",
              "      <th>2</th>\n",
              "      <td>1</td>\n",
              "      <td>Free entry in 2 a wkly comp to win FA Cup fina...</td>\n",
              "    </tr>\n",
              "    <tr>\n",
              "      <th>3</th>\n",
              "      <td>0</td>\n",
              "      <td>U dun say so early hor... U c already then say...</td>\n",
              "    </tr>\n",
              "    <tr>\n",
              "      <th>4</th>\n",
              "      <td>0</td>\n",
              "      <td>Nah I don't think he goes to usf, he lives aro...</td>\n",
              "    </tr>\n",
              "  </tbody>\n",
              "</table>\n",
              "</div>\n",
              "      <button class=\"colab-df-convert\" onclick=\"convertToInteractive('df-ceccfeef-1881-45c1-a621-dc5eeabb54b5')\"\n",
              "              title=\"Convert this dataframe to an interactive table.\"\n",
              "              style=\"display:none;\">\n",
              "        \n",
              "  <svg xmlns=\"http://www.w3.org/2000/svg\" height=\"24px\"viewBox=\"0 0 24 24\"\n",
              "       width=\"24px\">\n",
              "    <path d=\"M0 0h24v24H0V0z\" fill=\"none\"/>\n",
              "    <path d=\"M18.56 5.44l.94 2.06.94-2.06 2.06-.94-2.06-.94-.94-2.06-.94 2.06-2.06.94zm-11 1L8.5 8.5l.94-2.06 2.06-.94-2.06-.94L8.5 2.5l-.94 2.06-2.06.94zm10 10l.94 2.06.94-2.06 2.06-.94-2.06-.94-.94-2.06-.94 2.06-2.06.94z\"/><path d=\"M17.41 7.96l-1.37-1.37c-.4-.4-.92-.59-1.43-.59-.52 0-1.04.2-1.43.59L10.3 9.45l-7.72 7.72c-.78.78-.78 2.05 0 2.83L4 21.41c.39.39.9.59 1.41.59.51 0 1.02-.2 1.41-.59l7.78-7.78 2.81-2.81c.8-.78.8-2.07 0-2.86zM5.41 20L4 18.59l7.72-7.72 1.47 1.35L5.41 20z\"/>\n",
              "  </svg>\n",
              "      </button>\n",
              "      \n",
              "  <style>\n",
              "    .colab-df-container {\n",
              "      display:flex;\n",
              "      flex-wrap:wrap;\n",
              "      gap: 12px;\n",
              "    }\n",
              "\n",
              "    .colab-df-convert {\n",
              "      background-color: #E8F0FE;\n",
              "      border: none;\n",
              "      border-radius: 50%;\n",
              "      cursor: pointer;\n",
              "      display: none;\n",
              "      fill: #1967D2;\n",
              "      height: 32px;\n",
              "      padding: 0 0 0 0;\n",
              "      width: 32px;\n",
              "    }\n",
              "\n",
              "    .colab-df-convert:hover {\n",
              "      background-color: #E2EBFA;\n",
              "      box-shadow: 0px 1px 2px rgba(60, 64, 67, 0.3), 0px 1px 3px 1px rgba(60, 64, 67, 0.15);\n",
              "      fill: #174EA6;\n",
              "    }\n",
              "\n",
              "    [theme=dark] .colab-df-convert {\n",
              "      background-color: #3B4455;\n",
              "      fill: #D2E3FC;\n",
              "    }\n",
              "\n",
              "    [theme=dark] .colab-df-convert:hover {\n",
              "      background-color: #434B5C;\n",
              "      box-shadow: 0px 1px 3px 1px rgba(0, 0, 0, 0.15);\n",
              "      filter: drop-shadow(0px 1px 2px rgba(0, 0, 0, 0.3));\n",
              "      fill: #FFFFFF;\n",
              "    }\n",
              "  </style>\n",
              "\n",
              "      <script>\n",
              "        const buttonEl =\n",
              "          document.querySelector('#df-ceccfeef-1881-45c1-a621-dc5eeabb54b5 button.colab-df-convert');\n",
              "        buttonEl.style.display =\n",
              "          google.colab.kernel.accessAllowed ? 'block' : 'none';\n",
              "\n",
              "        async function convertToInteractive(key) {\n",
              "          const element = document.querySelector('#df-ceccfeef-1881-45c1-a621-dc5eeabb54b5');\n",
              "          const dataTable =\n",
              "            await google.colab.kernel.invokeFunction('convertToInteractive',\n",
              "                                                     [key], {});\n",
              "          if (!dataTable) return;\n",
              "\n",
              "          const docLinkHtml = 'Like what you see? Visit the ' +\n",
              "            '<a target=\"_blank\" href=https://colab.research.google.com/notebooks/data_table.ipynb>data table notebook</a>'\n",
              "            + ' to learn more about interactive tables.';\n",
              "          element.innerHTML = '';\n",
              "          dataTable['output_type'] = 'display_data';\n",
              "          await google.colab.output.renderOutput(dataTable, element);\n",
              "          const docLink = document.createElement('div');\n",
              "          docLink.innerHTML = docLinkHtml;\n",
              "          element.appendChild(docLink);\n",
              "        }\n",
              "      </script>\n",
              "    </div>\n",
              "  </div>\n",
              "  "
            ]
          },
          "metadata": {},
          "execution_count": 9
        }
      ]
    },
    {
      "cell_type": "markdown",
      "source": [
        "Spam = 1  Ham = 0"
      ],
      "metadata": {
        "id": "okwUnDWMJ0wB"
      }
    },
    {
      "cell_type": "code",
      "source": [
        "df['target'].value_counts()"
      ],
      "metadata": {
        "colab": {
          "base_uri": "https://localhost:8080/"
        },
        "id": "2oX5X92IJrxn",
        "outputId": "a99df56e-b677-488e-b989-5e7a1dd88ff4"
      },
      "execution_count": null,
      "outputs": [
        {
          "output_type": "execute_result",
          "data": {
            "text/plain": [
              "0    4516\n",
              "1     653\n",
              "Name: target, dtype: int64"
            ]
          },
          "metadata": {},
          "execution_count": 10
        }
      ]
    },
    {
      "cell_type": "markdown",
      "source": [
        "## **Checking Distribution**"
      ],
      "metadata": {
        "id": "hZOCFdMKGN6o"
      }
    },
    {
      "cell_type": "markdown",
      "source": [
        "Data is Imbalanced"
      ],
      "metadata": {
        "id": "Sd2Tw_LGQkc_"
      }
    },
    {
      "cell_type": "code",
      "source": [
        "import matplotlib.pyplot as plt\n",
        "import seaborn as sns\n",
        "\n",
        "plt.pie(df['target'].value_counts(), \n",
        "        explode = [0,0.1], \n",
        "        labels=['ham', 'spam'],\n",
        "        autopct=\"%0.2f\")\n",
        "\n",
        "plt.title('Distribution')\n",
        "plt.show()"
      ],
      "metadata": {
        "colab": {
          "base_uri": "https://localhost:8080/",
          "height": 264
        },
        "id": "WiaDsNUCKHgm",
        "outputId": "b2217050-fb19-4f5d-9db1-c926eb989dfe"
      },
      "execution_count": null,
      "outputs": [
        {
          "output_type": "display_data",
          "data": {
            "text/plain": [
              "<Figure size 432x288 with 1 Axes>"
            ],
            "image/png": "[encoded data removed]"
          },
          "metadata": {}
        }
      ]
    },
    {
      "cell_type": "markdown",
      "source": [
        "## **Text PreProsseccing**"
      ],
      "metadata": {
        "id": "jCHcU9XdGV4u"
      }
    },
    {
      "cell_type": "code",
      "source": [
        "import nltk\n",
        "import string\n",
        "from nltk.stem.porter import PorterStemmer\n",
        "from nltk.corpus import stopwords\n",
        "\n",
        "nltk.download('punkt')\n",
        "nltk.download('stopwords')\n",
        "\n",
        "ps = PorterStemmer()"
      ],
      "metadata": {
        "colab": {
          "base_uri": "https://localhost:8080/"
        },
        "id": "WxXtTCLuKZUp",
        "outputId": "7ca66662-4737-4c9e-d4e6-11fa831dab67"
      },
      "execution_count": null,
      "outputs": [
        {
          "output_type": "stream",
          "name": "stderr",
          "text": [
            "[nltk_data] Downloading package punkt to /root/nltk_data...\n",
            "[nltk_data]   Unzipping tokenizers/punkt.zip.\n",
            "[nltk_data] Downloading package stopwords to /root/nltk_data...\n",
            "[nltk_data]   Unzipping corpora/stopwords.zip.\n"
          ]
        }
      ]
    },
    {
      "cell_type": "code",
      "source": [
        "def text_processing(text):\n",
        "    text = text.lower()\n",
        "    text = nltk.word_tokenize(text)\n",
        "    \n",
        "    y = []\n",
        "    for i in text:\n",
        "        if i.isalnum():\n",
        "            y.append(i)\n",
        "    \n",
        "    text = y[:]\n",
        "    y.clear()\n",
        "    \n",
        "    for i in text:\n",
        "        if i not in stopwords.words('english') and i not in string.punctuation:\n",
        "            y.append(i)\n",
        "            \n",
        "    text = y[:]\n",
        "    y.clear()\n",
        "    \n",
        "    for i in text:\n",
        "        y.append(ps.stem(i))\n",
        "    \n",
        "            \n",
        "    return \" \".join(y)"
      ],
      "metadata": {
        "id": "Iwid7JucRq3n"
      },
      "execution_count": null,
      "outputs": []
    },
    {
      "cell_type": "code",
      "source": [
        "text_processing(\"going to love this work!\")"
      ],
      "metadata": {
        "colab": {
          "base_uri": "https://localhost:8080/",
          "height": 35
        },
        "id": "70wKG_bjR89f",
        "outputId": "aaf74122-2f5a-41f8-edf8-e2715f90be3b"
      },
      "execution_count": null,
      "outputs": [
        {
          "output_type": "execute_result",
          "data": {
            "text/plain": [
              "'go love work'"
            ],
            "application/vnd.google.colaboratory.intrinsic+json": {
              "type": "string"
            }
          },
          "metadata": {},
          "execution_count": 14
        }
      ]
    },
    {
      "cell_type": "code",
      "source": [
        "df['transformed_text'] = df['text'].apply(text_processing)"
      ],
      "metadata": {
        "id": "L9SrHDV1S4O1"
      },
      "execution_count": null,
      "outputs": []
    },
    {
      "cell_type": "code",
      "source": [
        "df['transformed_text'][76]"
      ],
      "metadata": {
        "colab": {
          "base_uri": "https://localhost:8080/",
          "height": 35
        },
        "id": "jRCp4-PaTFaM",
        "outputId": "c94834fe-f873-42ff-df2a-684052c1cda9"
      },
      "execution_count": null,
      "outputs": [
        {
          "output_type": "execute_result",
          "data": {
            "text/plain": [
              "'that cool gentleman treat digniti respect'"
            ],
            "application/vnd.google.colaboratory.intrinsic+json": {
              "type": "string"
            }
          },
          "metadata": {},
          "execution_count": 16
        }
      ]
    },
    {
      "cell_type": "markdown",
      "source": [
        "## **Most Frequent Words**"
      ],
      "metadata": {
        "id": "6As-U-6zGb4e"
      }
    },
    {
      "cell_type": "markdown",
      "source": [
        "Most Frequent Word in Spam SMS"
      ],
      "metadata": {
        "id": "A7J337MLGiw8"
      }
    },
    {
      "cell_type": "code",
      "source": [
        "from wordcloud import WordCloud\n",
        "\n",
        "\n",
        "wc = WordCloud(width=500,\n",
        "               height=500,\n",
        "               min_font_size=10,\n",
        "               background_color='white')\n",
        "\n",
        "spam_wc = wc.generate(df[df['target'] == 1]['transformed_text'].str.cat(sep=\" \"))\n",
        "\n",
        "plt.figure(figsize=(10,8))\n",
        "plt.imshow(spam_wc)\n",
        "plt.title('Most Used Words in Spam SMSs')\n",
        "plt.axis('off')\n"
      ],
      "metadata": {
        "colab": {
          "base_uri": "https://localhost:8080/",
          "height": 499
        },
        "id": "YrC6TJpNTJR4",
        "outputId": "96199013-5840-4dee-af5f-5ed9fc8e07ec"
      },
      "execution_count": null,
      "outputs": [
        {
          "output_type": "execute_result",
          "data": {
            "text/plain": [
              "(-0.5, 499.5, 499.5, -0.5)"
            ]
          },
          "metadata": {},
          "execution_count": 17
        },
        {
          "output_type": "display_data",
          "data": {
            "text/plain": [
              "<Figure size 720x576 with 1 Axes>"
            ],
            "image/png": "[encoded data removed]"
          },
          "metadata": {
            "needs_background": "light"
          }
        }
      ]
    },
    {
      "cell_type": "markdown",
      "source": [
        "Most Frequent Words in Ham SMS"
      ],
      "metadata": {
        "id": "tASYTuDkGqY0"
      }
    },
    {
      "cell_type": "code",
      "source": [
        "from wordcloud import WordCloud\n",
        "\n",
        "\n",
        "wc = WordCloud(width=500,\n",
        "               height=500,m\n",
        "               in_font_size=10,\n",
        "               background_color='white')\n",
        "\n",
        "spam_wc = wc.generate(df[df['target'] == 0]['transformed_text'].str.cat(sep=\" \"))\n",
        "\n",
        "plt.figure(figsize=(10,8))\n",
        "plt.imshow(spam_wc)\n",
        "plt.title('Most Used Words in Non-Spam SMSs')\n",
        "plt.axis('off')\n"
      ],
      "metadata": {
        "colab": {
          "base_uri": "https://localhost:8080/",
          "height": 499
        },
        "id": "f8dhgGRMYxcJ",
        "outputId": "7ed756c9-13b0-4d5a-a3b3-d1d0de5300c3"
      },
      "execution_count": null,
      "outputs": [
        {
          "output_type": "execute_result",
          "data": {
            "text/plain": [
              "(-0.5, 499.5, 499.5, -0.5)"
            ]
          },
          "metadata": {},
          "execution_count": 18
        },
        {
          "output_type": "display_data",
          "data": {
            "text/plain": [
              "<Figure size 720x576 with 1 Axes>"
            ],
            "image/png": "[encoded data removed]"
          },
          "metadata": {
            "needs_background": "light"
          }
        }
      ]
    },
    {
      "cell_type": "markdown",
      "source": [
        "## **Text to Numbers**"
      ],
      "metadata": {
        "id": "OTywbPztGwit"
      }
    },
    {
      "cell_type": "markdown",
      "source": [
        "CountVectorizer"
      ],
      "metadata": {
        "id": "kWwclKUIG5Tf"
      }
    },
    {
      "cell_type": "code",
      "source": [
        "from sklearn.feature_extraction.text import CountVectorizer\n",
        "from sklearn.feature_extraction.text import TfidfVectorizer,HashingVectorizer\n",
        "cv = CountVectorizer(max_features=3000)"
      ],
      "metadata": {
        "id": "mROEvVU6ZrRB"
      },
      "execution_count": null,
      "outputs": []
    },
    {
      "cell_type": "code",
      "source": [
        "x = cv.fit_transform(df['transformed_text']).toarray()\n",
        "y = df['target'].values\n",
        "\n",
        "\n",
        "print(x.shape)\n",
        "print(y.shape)"
      ],
      "metadata": {
        "colab": {
          "base_uri": "https://localhost:8080/"
        },
        "id": "ZHNSEqibaQ0E",
        "outputId": "cb63d05c-3c5c-4db9-8a9f-1b7560d4b90d"
      },
      "execution_count": null,
      "outputs": [
        {
          "output_type": "stream",
          "name": "stdout",
          "text": [
            "(5169, 3000)\n",
            "(5169,)\n"
          ]
        }
      ]
    },
    {
      "cell_type": "code",
      "source": [
        "from sklearn.model_selection import train_test_split\n",
        "\n",
        "x_train,x_test,y_train,y_test = train_test_split(x,y,test_size=0.2,random_state=2)"
      ],
      "metadata": {
        "id": "wKS3p2LWd_cO"
      },
      "execution_count": null,
      "outputs": []
    },
    {
      "cell_type": "markdown",
      "source": [
        "## **Model Building & Evaluation**"
      ],
      "metadata": {
        "id": "hl70z4oEHE-c"
      }
    },
    {
      "cell_type": "code",
      "source": [
        "from sklearn.svm import SVC\n",
        "from sklearn.tree import DecisionTreeClassifier\n",
        "from sklearn.neighbors import KNeighborsClassifier\n",
        "from sklearn.ensemble import RandomForestClassifier\n",
        "from sklearn.linear_model import LogisticRegression\n",
        "from sklearn.naive_bayes import GaussianNB,MultinomialNB,BernoulliNB\n",
        "from sklearn.metrics import *\n",
        "\n",
        "svc = SVC(kernel='sigmoid', gamma=1.0)\n",
        "knc = KNeighborsClassifier()\n",
        "dtc = DecisionTreeClassifier(max_depth=5)\n",
        "lrc = LogisticRegression(solver='liblinear', penalty='l1')\n",
        "rfc = RandomForestClassifier(n_estimators=50, random_state=2)\n",
        "gnb = GaussianNB()\n",
        "mnb = MultinomialNB()\n",
        "bnb = BernoulliNB()"
      ],
      "metadata": {
        "id": "o3an_t9Xe9eu"
      },
      "execution_count": null,
      "outputs": []
    },
    {
      "cell_type": "code",
      "source": [
        "def train_classifier(clf,x_train,y_train,x_test,y_test):\n",
        "    clf.fit(x_train,y_train)\n",
        "    y_pred = clf.predict(x_test)\n",
        "\n",
        "    print('Accuracy Score = ',accuracy_score(y_test,y_pred))\n",
        "    print('precision Score = ',precision_score(y_test,y_pred))\n",
        "    print('recall Score = ',recall_score(y_test,y_pred))"
      ],
      "metadata": {
        "id": "o2C8i-vbBpla"
      },
      "execution_count": null,
      "outputs": []
    },
    {
      "cell_type": "markdown",
      "source": [
        "Support vector Machine"
      ],
      "metadata": {
        "id": "q1qwSIAoHNdn"
      }
    },
    {
      "cell_type": "code",
      "source": [
        "train_classifier(svc,x_train,y_train,x_test,y_test)"
      ],
      "metadata": {
        "colab": {
          "base_uri": "https://localhost:8080/"
        },
        "id": "uAGqvgD3a66j",
        "outputId": "f15e42eb-9301-47f1-b9f2-5fe3bd2184e2"
      },
      "execution_count": null,
      "outputs": [
        {
          "output_type": "stream",
          "name": "stdout",
          "text": [
            "Accuracy Score =  0.9303675048355899\n",
            "precision Score =  0.7578125\n",
            "recall Score =  0.7028985507246377\n"
          ]
        }
      ]
    },
    {
      "cell_type": "markdown",
      "source": [
        "KNeighborsClassifier"
      ],
      "metadata": {
        "id": "Xaon7Et6HRsa"
      }
    },
    {
      "cell_type": "code",
      "source": [
        "train_classifier(knc,x_train,y_train,x_test,y_test)"
      ],
      "metadata": {
        "colab": {
          "base_uri": "https://localhost:8080/"
        },
        "id": "OkmeA7RKhiKG",
        "outputId": "a0461dd0-2bd3-4e89-b50b-09b0a08f30e9"
      },
      "execution_count": null,
      "outputs": [
        {
          "output_type": "stream",
          "name": "stdout",
          "text": [
            "Accuracy Score =  0.9129593810444874\n",
            "precision Score =  1.0\n",
            "recall Score =  0.34782608695652173\n"
          ]
        }
      ]
    },
    {
      "cell_type": "markdown",
      "source": [
        "DecisionTreeClassifier"
      ],
      "metadata": {
        "id": "as0Rt90OHfyv"
      }
    },
    {
      "cell_type": "code",
      "source": [
        "train_classifier(dtc,x_train,y_train,x_test,y_test)"
      ],
      "metadata": {
        "colab": {
          "base_uri": "https://localhost:8080/"
        },
        "id": "NY4lDN5fhxiJ",
        "outputId": "9b21ae3e-1faa-4c6d-ec54-fc58c56ef029"
      },
      "execution_count": null,
      "outputs": [
        {
          "output_type": "stream",
          "name": "stdout",
          "text": [
            "Accuracy Score =  0.9245647969052224\n",
            "precision Score =  0.9166666666666666\n",
            "recall Score =  0.4782608695652174\n"
          ]
        }
      ]
    },
    {
      "cell_type": "markdown",
      "source": [
        "Logistic Regression"
      ],
      "metadata": {
        "id": "QCkiuIspHhuX"
      }
    },
    {
      "cell_type": "code",
      "source": [
        "train_classifier(lrc,x_train,y_train,x_test,y_test)"
      ],
      "metadata": {
        "colab": {
          "base_uri": "https://localhost:8080/"
        },
        "id": "xiS5J6gKhxpY",
        "outputId": "04fd3430-ac69-4196-a825-54ab21d74441"
      },
      "execution_count": null,
      "outputs": [
        {
          "output_type": "stream",
          "name": "stdout",
          "text": [
            "Accuracy Score =  0.9709864603481625\n",
            "precision Score =  0.9736842105263158\n",
            "recall Score =  0.8043478260869565\n"
          ]
        }
      ]
    },
    {
      "cell_type": "markdown",
      "source": [
        "RandomForest"
      ],
      "metadata": {
        "id": "RU2DAPvFHl5v"
      }
    },
    {
      "cell_type": "code",
      "source": [
        "train_classifier(rfc,x_train,y_train,x_test,y_test)\n"
      ],
      "metadata": {
        "colab": {
          "base_uri": "https://localhost:8080/"
        },
        "id": "HLPtGZHhiRo8",
        "outputId": "fe199087-7146-422b-debc-e06341db1267"
      },
      "execution_count": null,
      "outputs": [
        {
          "output_type": "stream",
          "name": "stdout",
          "text": [
            "Accuracy Score =  0.9738878143133463\n",
            "precision Score =  0.9826086956521739\n",
            "recall Score =  0.8188405797101449\n"
          ]
        }
      ]
    },
    {
      "cell_type": "markdown",
      "source": [
        "Naive Baise"
      ],
      "metadata": {
        "id": "r6V3icqAHqRO"
      }
    },
    {
      "cell_type": "markdown",
      "source": [
        "GaussianNB"
      ],
      "metadata": {
        "id": "EnfYGbrxHxgw"
      }
    },
    {
      "cell_type": "code",
      "source": [
        "train_classifier(gnb,x_train,y_train,x_test,y_test)"
      ],
      "metadata": {
        "colab": {
          "base_uri": "https://localhost:8080/"
        },
        "id": "055iUNUujMnp",
        "outputId": "10e348e8-af0b-45cf-c09a-5fed22e71bc0"
      },
      "execution_count": null,
      "outputs": [
        {
          "output_type": "stream",
          "name": "stdout",
          "text": [
            "Accuracy Score =  0.874274661508704\n",
            "precision Score =  0.5176991150442478\n",
            "recall Score =  0.8478260869565217\n"
          ]
        }
      ]
    },
    {
      "cell_type": "markdown",
      "source": [
        "MultinomialNB"
      ],
      "metadata": {
        "id": "FCjOHEvIH0ER"
      }
    },
    {
      "cell_type": "code",
      "source": [
        "train_classifier(mnb,x_train,y_train,x_test,y_test)"
      ],
      "metadata": {
        "colab": {
          "base_uri": "https://localhost:8080/"
        },
        "id": "yQEiyBNdjlp3",
        "outputId": "9efa065b-b4ba-4113-b46c-689358c60aeb"
      },
      "execution_count": null,
      "outputs": [
        {
          "output_type": "stream",
          "name": "stdout",
          "text": [
            "Accuracy Score =  0.971953578336557\n",
            "precision Score =  0.8865248226950354\n",
            "recall Score =  0.9057971014492754\n"
          ]
        }
      ]
    },
    {
      "cell_type": "markdown",
      "source": [
        "BernoulliNB"
      ],
      "metadata": {
        "id": "mPALYinAH3Ip"
      }
    },
    {
      "cell_type": "code",
      "source": [
        "train_classifier(bnb,x_train,y_train,x_test,y_test)"
      ],
      "metadata": {
        "colab": {
          "base_uri": "https://localhost:8080/"
        },
        "id": "g4QpGCrWj09K",
        "outputId": "bd4152b6-da64-4346-efbf-460c90638919"
      },
      "execution_count": null,
      "outputs": [
        {
          "output_type": "stream",
          "name": "stdout",
          "text": [
            "Accuracy Score =  0.9835589941972921\n",
            "precision Score =  0.991869918699187\n",
            "recall Score =  0.8840579710144928\n"
          ]
        }
      ]
    },
    {
      "cell_type": "markdown",
      "source": [
        "## **Result of Different Models using CountVectorizer**"
      ],
      "metadata": {
        "id": "d7wgKaeJH-ZT"
      }
    },
    {
      "cell_type": "code",
      "source": [
        "result = pd.read_csv('/content/resultd.csv',encoding='ISO-8859-1').sort_values('Accuracy',ascending = False)\n",
        "result"
      ],
      "metadata": {
        "colab": {
          "base_uri": "https://localhost:8080/",
          "height": 300
        },
        "id": "YKhcbScz5tDX",
        "outputId": "bd1dc0f8-4b2b-4da2-d657-74e04bd9ec0b"
      },
      "execution_count": null,
      "outputs": [
        {
          "output_type": "execute_result",
          "data": {
            "text/plain": [
              "                Algorithm  Accuracy  Precision  Recall\n",
              "7             BernoulliNB        98         99      88\n",
              "3      LogisticRegression        97         97      80\n",
              "4  RandomForestClassifier        97         98      81\n",
              "6           MultinomialNB        97         88      90\n",
              "0                     SVC        93         75      70\n",
              "2  DecisionTreeClassifier        92         91      47\n",
              "1    KNeighborsClassifier        91        100      34\n",
              "5              GaussianNB        87         51      84"
            ],
            "text/html": [
              "\n",
              "  <div id=\"df-ddac1220-0df1-4c39-af76-70098378171e\">\n",
              "    <div class=\"colab-df-container\">\n",
              "      <div>\n",
              "<style scoped>\n",
              "    .dataframe tbody tr th:only-of-type {\n",
              "        vertical-align: middle;\n",
              "    }\n",
              "\n",
              "    .dataframe tbody tr th {\n",
              "        vertical-align: top;\n",
              "    }\n",
              "\n",
              "    .dataframe thead th {\n",
              "        text-align: right;\n",
              "    }\n",
              "</style>\n",
              "<table border=\"1\" class=\"dataframe\">\n",
              "  <thead>\n",
              "    <tr style=\"text-align: right;\">\n",
              "      <th></th>\n",
              "      <th>Algorithm</th>\n",
              "      <th>Accuracy</th>\n",
              "      <th>Precision</th>\n",
              "      <th>Recall</th>\n",
              "    </tr>\n",
              "  </thead>\n",
              "  <tbody>\n",
              "    <tr>\n",
              "      <th>7</th>\n",
              "      <td>BernoulliNB</td>\n",
              "      <td>98</td>\n",
              "      <td>99</td>\n",
              "      <td>88</td>\n",
              "    </tr>\n",
              "    <tr>\n",
              "      <th>3</th>\n",
              "      <td>LogisticRegression</td>\n",
              "      <td>97</td>\n",
              "      <td>97</td>\n",
              "      <td>80</td>\n",
              "    </tr>\n",
              "    <tr>\n",
              "      <th>4</th>\n",
              "      <td>RandomForestClassifier</td>\n",
              "      <td>97</td>\n",
              "      <td>98</td>\n",
              "      <td>81</td>\n",
              "    </tr>\n",
              "    <tr>\n",
              "      <th>6</th>\n",
              "      <td>MultinomialNB</td>\n",
              "      <td>97</td>\n",
              "      <td>88</td>\n",
              "      <td>90</td>\n",
              "    </tr>\n",
              "    <tr>\n",
              "      <th>0</th>\n",
              "      <td>SVC</td>\n",
              "      <td>93</td>\n",
              "      <td>75</td>\n",
              "      <td>70</td>\n",
              "    </tr>\n",
              "    <tr>\n",
              "      <th>2</th>\n",
              "      <td>DecisionTreeClassifier</td>\n",
              "      <td>92</td>\n",
              "      <td>91</td>\n",
              "      <td>47</td>\n",
              "    </tr>\n",
              "    <tr>\n",
              "      <th>1</th>\n",
              "      <td>KNeighborsClassifier</td>\n",
              "      <td>91</td>\n",
              "      <td>100</td>\n",
              "      <td>34</td>\n",
              "    </tr>\n",
              "    <tr>\n",
              "      <th>5</th>\n",
              "      <td>GaussianNB</td>\n",
              "      <td>87</td>\n",
              "      <td>51</td>\n",
              "      <td>84</td>\n",
              "    </tr>\n",
              "  </tbody>\n",
              "</table>\n",
              "</div>\n",
              "      <button class=\"colab-df-convert\" onclick=\"convertToInteractive('df-ddac1220-0df1-4c39-af76-70098378171e')\"\n",
              "              title=\"Convert this dataframe to an interactive table.\"\n",
              "              style=\"display:none;\">\n",
              "        \n",
              "  <svg xmlns=\"http://www.w3.org/2000/svg\" height=\"24px\"viewBox=\"0 0 24 24\"\n",
              "       width=\"24px\">\n",
              "    <path d=\"M0 0h24v24H0V0z\" fill=\"none\"/>\n",
              "    <path d=\"M18.56 5.44l.94 2.06.94-2.06 2.06-.94-2.06-.94-.94-2.06-.94 2.06-2.06.94zm-11 1L8.5 8.5l.94-2.06 2.06-.94-2.06-.94L8.5 2.5l-.94 2.06-2.06.94zm10 10l.94 2.06.94-2.06 2.06-.94-2.06-.94-.94-2.06-.94 2.06-2.06.94z\"/><path d=\"M17.41 7.96l-1.37-1.37c-.4-.4-.92-.59-1.43-.59-.52 0-1.04.2-1.43.59L10.3 9.45l-7.72 7.72c-.78.78-.78 2.05 0 2.83L4 21.41c.39.39.9.59 1.41.59.51 0 1.02-.2 1.41-.59l7.78-7.78 2.81-2.81c.8-.78.8-2.07 0-2.86zM5.41 20L4 18.59l7.72-7.72 1.47 1.35L5.41 20z\"/>\n",
              "  </svg>\n",
              "      </button>\n",
              "      \n",
              "  <style>\n",
              "    .colab-df-container {\n",
              "      display:flex;\n",
              "      flex-wrap:wrap;\n",
              "      gap: 12px;\n",
              "    }\n",
              "\n",
              "    .colab-df-convert {\n",
              "      background-color: #E8F0FE;\n",
              "      border: none;\n",
              "      border-radius: 50%;\n",
              "      cursor: pointer;\n",
              "      display: none;\n",
              "      fill: #1967D2;\n",
              "      height: 32px;\n",
              "      padding: 0 0 0 0;\n",
              "      width: 32px;\n",
              "    }\n",
              "\n",
              "    .colab-df-convert:hover {\n",
              "      background-color: #E2EBFA;\n",
              "      box-shadow: 0px 1px 2px rgba(60, 64, 67, 0.3), 0px 1px 3px 1px rgba(60, 64, 67, 0.15);\n",
              "      fill: #174EA6;\n",
              "    }\n",
              "\n",
              "    [theme=dark] .colab-df-convert {\n",
              "      background-color: #3B4455;\n",
              "      fill: #D2E3FC;\n",
              "    }\n",
              "\n",
              "    [theme=dark] .colab-df-convert:hover {\n",
              "      background-color: #434B5C;\n",
              "      box-shadow: 0px 1px 3px 1px rgba(0, 0, 0, 0.15);\n",
              "      filter: drop-shadow(0px 1px 2px rgba(0, 0, 0, 0.3));\n",
              "      fill: #FFFFFF;\n",
              "    }\n",
              "  </style>\n",
              "\n",
              "      <script>\n",
              "        const buttonEl =\n",
              "          document.querySelector('#df-ddac1220-0df1-4c39-af76-70098378171e button.colab-df-convert');\n",
              "        buttonEl.style.display =\n",
              "          google.colab.kernel.accessAllowed ? 'block' : 'none';\n",
              "\n",
              "        async function convertToInteractive(key) {\n",
              "          const element = document.querySelector('#df-ddac1220-0df1-4c39-af76-70098378171e');\n",
              "          const dataTable =\n",
              "            await google.colab.kernel.invokeFunction('convertToInteractive',\n",
              "                                                     [key], {});\n",
              "          if (!dataTable) return;\n",
              "\n",
              "          const docLinkHtml = 'Like what you see? Visit the ' +\n",
              "            '<a target=\"_blank\" href=https://colab.research.google.com/notebooks/data_table.ipynb>data table notebook</a>'\n",
              "            + ' to learn more about interactive tables.';\n",
              "          element.innerHTML = '';\n",
              "          dataTable['output_type'] = 'display_data';\n",
              "          await google.colab.output.renderOutput(dataTable, element);\n",
              "          const docLink = document.createElement('div');\n",
              "          docLink.innerHTML = docLinkHtml;\n",
              "          element.appendChild(docLink);\n",
              "        }\n",
              "      </script>\n",
              "    </div>\n",
              "  </div>\n",
              "  "
            ]
          },
          "metadata": {},
          "execution_count": 32
        }
      ]
    },
    {
      "cell_type": "code",
      "source": [
        "performance1 = pd.melt(result, id_vars = \"Algorithm\")\n",
        "\n",
        "sns.catplot(x = 'Algorithm',\n",
        "            y='value', \n",
        "            hue = 'variable',\n",
        "            data=performance1, \n",
        "            kind='bar',\n",
        "            height=6,aspect=2)\n",
        "\n",
        "plt.xticks(rotation='vertical')\n",
        "plt.show()"
      ],
      "metadata": {
        "colab": {
          "base_uri": "https://localhost:8080/",
          "height": 549
        },
        "id": "7nIC3_OhrTz_",
        "outputId": "795fb808-53e0-4355-dd3c-d36f1e6db327"
      },
      "execution_count": null,
      "outputs": [
        {
          "output_type": "display_data",
          "data": {
            "text/plain": [
              "<Figure size 945.75x432 with 1 Axes>"
            ],
            "image/png": "[encoded data removed]"
          },
          "metadata": {
            "needs_background": "light"
          }
        }
      ]
    },
    {
      "cell_type": "markdown",
      "source": [
        "## **Implimenting SMOTE to Balance the Data**"
      ],
      "metadata": {
        "id": "VRCsyX9bIMt6"
      }
    },
    {
      "cell_type": "code",
      "source": [
        "np.unique(y, return_counts=True)"
      ],
      "metadata": {
        "colab": {
          "base_uri": "https://localhost:8080/"
        },
        "id": "ihDK2bT48av-",
        "outputId": "f2779aa3-9b8d-4c5f-c5af-3c3a247bae16"
      },
      "execution_count": null,
      "outputs": [
        {
          "output_type": "execute_result",
          "data": {
            "text/plain": [
              "(array([0, 1]), array([4516,  653]))"
            ]
          },
          "metadata": {},
          "execution_count": 34
        }
      ]
    },
    {
      "cell_type": "code",
      "source": [
        "from imblearn.over_sampling import SMOTE\n",
        "\n",
        "smote = SMOTE(random_state = 42)\n",
        "x_sm, y_sm = smote.fit_resample(x, y)\n",
        "\n",
        "np.unique(y_sm, return_counts=True)"
      ],
      "metadata": {
        "id": "qtgBKFyDf4Qb",
        "colab": {
          "base_uri": "https://localhost:8080/"
        },
        "outputId": "21a6af51-e9a9-48f8-8df0-8e92981980f8"
      },
      "execution_count": null,
      "outputs": [
        {
          "output_type": "execute_result",
          "data": {
            "text/plain": [
              "(array([0, 1]), array([4516, 4516]))"
            ]
          },
          "metadata": {},
          "execution_count": 35
        }
      ]
    },
    {
      "cell_type": "code",
      "source": [
        "xsm_train,xsm_test,ysm_train,ysm_test = train_test_split(x_sm,y_sm,test_size=0.2,random_state=42)"
      ],
      "metadata": {
        "id": "_NuXPlhh_EF-"
      },
      "execution_count": null,
      "outputs": []
    },
    {
      "cell_type": "markdown",
      "source": [
        "## **Model Building on SMOTE**"
      ],
      "metadata": {
        "id": "gBLEMKTCIlyP"
      }
    },
    {
      "cell_type": "markdown",
      "source": [
        "Support Vector Machine"
      ],
      "metadata": {
        "id": "PFai1HF4IvTx"
      }
    },
    {
      "cell_type": "code",
      "source": [
        "train_classifier(svc,xsm_train,ysm_train,xsm_test,ysm_test)\n"
      ],
      "metadata": {
        "colab": {
          "base_uri": "https://localhost:8080/"
        },
        "id": "gjlxE7JA_WBT",
        "outputId": "1e1f5f5e-c397-4a57-d9a0-9c95ae27f93d"
      },
      "execution_count": null,
      "outputs": [
        {
          "output_type": "stream",
          "name": "stdout",
          "text": [
            "Accuracy Score =  0.853901494189264\n",
            "precision Score =  0.8311557788944723\n",
            "recall Score =  0.8959913326110509\n"
          ]
        }
      ]
    },
    {
      "cell_type": "markdown",
      "source": [
        "KneariestNaigbor"
      ],
      "metadata": {
        "id": "WhHOF2twI0au"
      }
    },
    {
      "cell_type": "code",
      "source": [
        "train_classifier(knc,xsm_train,ysm_train,xsm_test,ysm_test)\n"
      ],
      "metadata": {
        "colab": {
          "base_uri": "https://localhost:8080/"
        },
        "id": "UjMZCQs__2iS",
        "outputId": "3c291cb5-feb2-4be0-f53c-d892728171c1"
      },
      "execution_count": null,
      "outputs": [
        {
          "output_type": "stream",
          "name": "stdout",
          "text": [
            "Accuracy Score =  0.7288323187603764\n",
            "precision Score =  0.6538734896943852\n",
            "recall Score =  0.9967497291440953\n"
          ]
        }
      ]
    },
    {
      "cell_type": "markdown",
      "source": [
        "DecisionTree"
      ],
      "metadata": {
        "id": "x3knKQqfI4sa"
      }
    },
    {
      "cell_type": "code",
      "source": [
        "train_classifier(dtc,xsm_train,ysm_train,xsm_test,ysm_test)\n"
      ],
      "metadata": {
        "colab": {
          "base_uri": "https://localhost:8080/"
        },
        "id": "v6IZIPGeAgAJ",
        "outputId": "d428f0a4-0e26-42b9-fed6-fd36afd0c5fd"
      },
      "execution_count": null,
      "outputs": [
        {
          "output_type": "stream",
          "name": "stdout",
          "text": [
            "Accuracy Score =  0.7482014388489209\n",
            "precision Score =  0.903448275862069\n",
            "recall Score =  0.5677139761646804\n"
          ]
        }
      ]
    },
    {
      "cell_type": "markdown",
      "source": [
        "Logistic Regression"
      ],
      "metadata": {
        "id": "4W6m2WfwI8UV"
      }
    },
    {
      "cell_type": "code",
      "source": [
        "train_classifier(lrc,xsm_train,ysm_train,xsm_test,ysm_test)"
      ],
      "metadata": {
        "colab": {
          "base_uri": "https://localhost:8080/"
        },
        "id": "0LttS998A2vI",
        "outputId": "dc9418fc-efbe-4cf3-f56f-b3493b08bdda"
      },
      "execution_count": null,
      "outputs": [
        {
          "output_type": "stream",
          "name": "stdout",
          "text": [
            "Accuracy Score =  0.9346983951300498\n",
            "precision Score =  0.900497512437811\n",
            "recall Score =  0.980498374864572\n"
          ]
        }
      ]
    },
    {
      "cell_type": "markdown",
      "source": [
        "Random Forest"
      ],
      "metadata": {
        "id": "0ZWnOtPUI_S6"
      }
    },
    {
      "cell_type": "code",
      "source": [
        "train_classifier(rfc,xsm_train,ysm_train,xsm_test,ysm_test)"
      ],
      "metadata": {
        "colab": {
          "base_uri": "https://localhost:8080/"
        },
        "id": "tpLHhWi5BQB7",
        "outputId": "c095a4cf-ecb8-49dd-bfe7-4efbc6e69354"
      },
      "execution_count": null,
      "outputs": [
        {
          "output_type": "stream",
          "name": "stdout",
          "text": [
            "Accuracy Score =  0.9369120088544549\n",
            "precision Score =  0.9016881827209533\n",
            "recall Score =  0.9837486457204767\n"
          ]
        }
      ]
    },
    {
      "cell_type": "markdown",
      "source": [
        "Gussion Naive Baise"
      ],
      "metadata": {
        "id": "xdfKdH6QJB0g"
      }
    },
    {
      "cell_type": "code",
      "source": [
        "train_classifier(gnb,xsm_train,ysm_train,xsm_test,ysm_test)"
      ],
      "metadata": {
        "colab": {
          "base_uri": "https://localhost:8080/"
        },
        "id": "2pTuyV9nBiD1",
        "outputId": "459c5fa9-19ca-426c-de9a-907df6c5f606"
      },
      "execution_count": null,
      "outputs": [
        {
          "output_type": "stream",
          "name": "stdout",
          "text": [
            "Accuracy Score =  0.9330381848367459\n",
            "precision Score =  0.8900778210116731\n",
            "recall Score =  0.991332611050921\n"
          ]
        }
      ]
    },
    {
      "cell_type": "markdown",
      "source": [
        "Multinomial Naive Baise"
      ],
      "metadata": {
        "id": "rBfexnf5JLra"
      }
    },
    {
      "cell_type": "code",
      "source": [
        "train_classifier(mnb,xsm_train,ysm_train,xsm_test,ysm_test)"
      ],
      "metadata": {
        "colab": {
          "base_uri": "https://localhost:8080/"
        },
        "id": "OxGE2-okBxiF",
        "outputId": "efdf4d78-61af-4d49-94a6-069fbadadced"
      },
      "execution_count": null,
      "outputs": [
        {
          "output_type": "stream",
          "name": "stdout",
          "text": [
            "Accuracy Score =  0.8572219147758716\n",
            "precision Score =  0.9716312056737588\n",
            "recall Score =  0.742145178764897\n"
          ]
        }
      ]
    },
    {
      "cell_type": "markdown",
      "source": [
        "Bournoli Naive Baise"
      ],
      "metadata": {
        "id": "_2H0oNwNJPuM"
      }
    },
    {
      "cell_type": "code",
      "source": [
        "train_classifier(bnb,xsm_train,ysm_train,xsm_test,ysm_test)"
      ],
      "metadata": {
        "colab": {
          "base_uri": "https://localhost:8080/"
        },
        "id": "6DGVux27CB39",
        "outputId": "afa8fc81-1789-4dce-8a1c-23cdc2687243"
      },
      "execution_count": null,
      "outputs": [
        {
          "output_type": "stream",
          "name": "stdout",
          "text": [
            "Accuracy Score =  0.9739900387382402\n",
            "precision Score =  0.9699570815450643\n",
            "recall Score =  0.9794149512459371\n"
          ]
        }
      ]
    },
    {
      "cell_type": "markdown",
      "source": [
        "## **Result of Different Models using SMOTE**"
      ],
      "metadata": {
        "id": "AEbLarK_JTdA"
      }
    },
    {
      "cell_type": "code",
      "source": [
        "sm_result = pd.read_csv('/content/sm_result.csv',encoding='ISO-8859-1')\n",
        "sm_result.sort_values('Accuracy_Smote',ascending = False)"
      ],
      "metadata": {
        "colab": {
          "base_uri": "https://localhost:8080/",
          "height": 300
        },
        "id": "io94duj5DJTZ",
        "outputId": "9b3382da-44c4-4945-dc22-996724a4d632"
      },
      "execution_count": null,
      "outputs": [
        {
          "output_type": "execute_result",
          "data": {
            "text/plain": [
              "                Algorithm  Accuracy_Smote  Precision_smote  Recall_smote\n",
              "7             BernoulliNB              97               96          97.0\n",
              "3      LogisticRegression              93               90          80.0\n",
              "4  RandomForestClassifier              93               90          98.0\n",
              "5              GaussianNB              93               89          99.0\n",
              "0                     SVC              85               83          89.0\n",
              "6           MultinomialNB              85               97          74.0\n",
              "2  DecisionTreeClassifier              74               90          56.0\n",
              "1    KNeighborsClassifier              72               65          99.6"
            ],
            "text/html": [
              "\n",
              "  <div id=\"df-43c8a864-116a-4250-9a8d-94e20a669b60\">\n",
              "    <div class=\"colab-df-container\">\n",
              "      <div>\n",
              "<style scoped>\n",
              "    .dataframe tbody tr th:only-of-type {\n",
              "        vertical-align: middle;\n",
              "    }\n",
              "\n",
              "    .dataframe tbody tr th {\n",
              "        vertical-align: top;\n",
              "    }\n",
              "\n",
              "    .dataframe thead th {\n",
              "        text-align: right;\n",
              "    }\n",
              "</style>\n",
              "<table border=\"1\" class=\"dataframe\">\n",
              "  <thead>\n",
              "    <tr style=\"text-align: right;\">\n",
              "      <th></th>\n",
              "      <th>Algorithm</th>\n",
              "      <th>Accuracy_Smote</th>\n",
              "      <th>Precision_smote</th>\n",
              "      <th>Recall_smote</th>\n",
              "    </tr>\n",
              "  </thead>\n",
              "  <tbody>\n",
              "    <tr>\n",
              "      <th>7</th>\n",
              "      <td>BernoulliNB</td>\n",
              "      <td>97</td>\n",
              "      <td>96</td>\n",
              "      <td>97.0</td>\n",
              "    </tr>\n",
              "    <tr>\n",
              "      <th>3</th>\n",
              "      <td>LogisticRegression</td>\n",
              "      <td>93</td>\n",
              "      <td>90</td>\n",
              "      <td>80.0</td>\n",
              "    </tr>\n",
              "    <tr>\n",
              "      <th>4</th>\n",
              "      <td>RandomForestClassifier</td>\n",
              "      <td>93</td>\n",
              "      <td>90</td>\n",
              "      <td>98.0</td>\n",
              "    </tr>\n",
              "    <tr>\n",
              "      <th>5</th>\n",
              "      <td>GaussianNB</td>\n",
              "      <td>93</td>\n",
              "      <td>89</td>\n",
              "      <td>99.0</td>\n",
              "    </tr>\n",
              "    <tr>\n",
              "      <th>0</th>\n",
              "      <td>SVC</td>\n",
              "      <td>85</td>\n",
              "      <td>83</td>\n",
              "      <td>89.0</td>\n",
              "    </tr>\n",
              "    <tr>\n",
              "      <th>6</th>\n",
              "      <td>MultinomialNB</td>\n",
              "      <td>85</td>\n",
              "      <td>97</td>\n",
              "      <td>74.0</td>\n",
              "    </tr>\n",
              "    <tr>\n",
              "      <th>2</th>\n",
              "      <td>DecisionTreeClassifier</td>\n",
              "      <td>74</td>\n",
              "      <td>90</td>\n",
              "      <td>56.0</td>\n",
              "    </tr>\n",
              "    <tr>\n",
              "      <th>1</th>\n",
              "      <td>KNeighborsClassifier</td>\n",
              "      <td>72</td>\n",
              "      <td>65</td>\n",
              "      <td>99.6</td>\n",
              "    </tr>\n",
              "  </tbody>\n",
              "</table>\n",
              "</div>\n",
              "      <button class=\"colab-df-convert\" onclick=\"convertToInteractive('df-43c8a864-116a-4250-9a8d-94e20a669b60')\"\n",
              "              title=\"Convert this dataframe to an interactive table.\"\n",
              "              style=\"display:none;\">\n",
              "        \n",
              "  <svg xmlns=\"http://www.w3.org/2000/svg\" height=\"24px\"viewBox=\"0 0 24 24\"\n",
              "       width=\"24px\">\n",
              "    <path d=\"M0 0h24v24H0V0z\" fill=\"none\"/>\n",
              "    <path d=\"M18.56 5.44l.94 2.06.94-2.06 2.06-.94-2.06-.94-.94-2.06-.94 2.06-2.06.94zm-11 1L8.5 8.5l.94-2.06 2.06-.94-2.06-.94L8.5 2.5l-.94 2.06-2.06.94zm10 10l.94 2.06.94-2.06 2.06-.94-2.06-.94-.94-2.06-.94 2.06-2.06.94z\"/><path d=\"M17.41 7.96l-1.37-1.37c-.4-.4-.92-.59-1.43-.59-.52 0-1.04.2-1.43.59L10.3 9.45l-7.72 7.72c-.78.78-.78 2.05 0 2.83L4 21.41c.39.39.9.59 1.41.59.51 0 1.02-.2 1.41-.59l7.78-7.78 2.81-2.81c.8-.78.8-2.07 0-2.86zM5.41 20L4 18.59l7.72-7.72 1.47 1.35L5.41 20z\"/>\n",
              "  </svg>\n",
              "      </button>\n",
              "      \n",
              "  <style>\n",
              "    .colab-df-container {\n",
              "      display:flex;\n",
              "      flex-wrap:wrap;\n",
              "      gap: 12px;\n",
              "    }\n",
              "\n",
              "    .colab-df-convert {\n",
              "      background-color: #E8F0FE;\n",
              "      border: none;\n",
              "      border-radius: 50%;\n",
              "      cursor: pointer;\n",
              "      display: none;\n",
              "      fill: #1967D2;\n",
              "      height: 32px;\n",
              "      padding: 0 0 0 0;\n",
              "      width: 32px;\n",
              "    }\n",
              "\n",
              "    .colab-df-convert:hover {\n",
              "      background-color: #E2EBFA;\n",
              "      box-shadow: 0px 1px 2px rgba(60, 64, 67, 0.3), 0px 1px 3px 1px rgba(60, 64, 67, 0.15);\n",
              "      fill: #174EA6;\n",
              "    }\n",
              "\n",
              "    [theme=dark] .colab-df-convert {\n",
              "      background-color: #3B4455;\n",
              "      fill: #D2E3FC;\n",
              "    }\n",
              "\n",
              "    [theme=dark] .colab-df-convert:hover {\n",
              "      background-color: #434B5C;\n",
              "      box-shadow: 0px 1px 3px 1px rgba(0, 0, 0, 0.15);\n",
              "      filter: drop-shadow(0px 1px 2px rgba(0, 0, 0, 0.3));\n",
              "      fill: #FFFFFF;\n",
              "    }\n",
              "  </style>\n",
              "\n",
              "      <script>\n",
              "        const buttonEl =\n",
              "          document.querySelector('#df-43c8a864-116a-4250-9a8d-94e20a669b60 button.colab-df-convert');\n",
              "        buttonEl.style.display =\n",
              "          google.colab.kernel.accessAllowed ? 'block' : 'none';\n",
              "\n",
              "        async function convertToInteractive(key) {\n",
              "          const element = document.querySelector('#df-43c8a864-116a-4250-9a8d-94e20a669b60');\n",
              "          const dataTable =\n",
              "            await google.colab.kernel.invokeFunction('convertToInteractive',\n",
              "                                                     [key], {});\n",
              "          if (!dataTable) return;\n",
              "\n",
              "          const docLinkHtml = 'Like what you see? Visit the ' +\n",
              "            '<a target=\"_blank\" href=https://colab.research.google.com/notebooks/data_table.ipynb>data table notebook</a>'\n",
              "            + ' to learn more about interactive tables.';\n",
              "          element.innerHTML = '';\n",
              "          dataTable['output_type'] = 'display_data';\n",
              "          await google.colab.output.renderOutput(dataTable, element);\n",
              "          const docLink = document.createElement('div');\n",
              "          docLink.innerHTML = docLinkHtml;\n",
              "          element.appendChild(docLink);\n",
              "        }\n",
              "      </script>\n",
              "    </div>\n",
              "  </div>\n",
              "  "
            ]
          },
          "metadata": {},
          "execution_count": 46
        }
      ]
    },
    {
      "cell_type": "code",
      "source": [
        "performance_df1 = pd.melt(sm_result, id_vars = \"Algorithm\")\n",
        "\n",
        "sns.catplot(x = 'Algorithm',\n",
        "            y='value',\n",
        "            hue = 'variable',\n",
        "            data=performance_df1, \n",
        "            kind='bar',\n",
        "            height=6,\n",
        "            aspect=2)\n",
        "\n",
        "plt.xticks(rotation='vertical')\n",
        "plt.show()"
      ],
      "metadata": {
        "colab": {
          "base_uri": "https://localhost:8080/",
          "height": 549
        },
        "id": "OvoI5Nq1Kjam",
        "outputId": "c02b063b-118b-4d9d-abf9-b9f20cff26d5"
      },
      "execution_count": null,
      "outputs": [
        {
          "output_type": "display_data",
          "data": {
            "text/plain": [
              "<Figure size 982.625x432 with 1 Axes>"
            ],
            "image/png": "[encoded data removed]"
          },
          "metadata": {
            "needs_background": "light"
          }
        }
      ]
    },
    {
      "cell_type": "markdown",
      "source": [
        "## **Model Building Using TfidfVectorizer**"
      ],
      "metadata": {
        "id": "bM3nqFnvJghp"
      }
    },
    {
      "cell_type": "code",
      "source": [
        "tfidf = TfidfVectorizer(max_features=3000)\n",
        "\n",
        "x = tfidf.fit_transform(df['transformed_text']).toarray()"
      ],
      "metadata": {
        "id": "iv2J9heGLhCL"
      },
      "execution_count": null,
      "outputs": []
    },
    {
      "cell_type": "code",
      "source": [
        "from sklearn.model_selection import train_test_split\n",
        "\n",
        "x_train,x_test,y_train,y_test = train_test_split(x,y,test_size=0.2,random_state=2)"
      ],
      "metadata": {
        "id": "UfhQaSAKMlsF"
      },
      "execution_count": null,
      "outputs": []
    },
    {
      "cell_type": "markdown",
      "source": [
        "Support Vector machine"
      ],
      "metadata": {
        "id": "x7OMharOJq_-"
      }
    },
    {
      "cell_type": "code",
      "source": [
        "train_classifier(svc,x_train,y_train,x_test,y_test)"
      ],
      "metadata": {
        "colab": {
          "base_uri": "https://localhost:8080/"
        },
        "id": "xygspsXyMvIH",
        "outputId": "c51dce02-70c9-4272-a423-c9d0a90aa816"
      },
      "execution_count": null,
      "outputs": [
        {
          "output_type": "stream",
          "name": "stdout",
          "text": [
            "Accuracy Score =  0.9758220502901354\n",
            "precision Score =  0.9747899159663865\n",
            "recall Score =  0.8405797101449275\n"
          ]
        }
      ]
    },
    {
      "cell_type": "markdown",
      "source": [
        "KnearistNaibor"
      ],
      "metadata": {
        "id": "AHV5aC-IJt9P"
      }
    },
    {
      "cell_type": "code",
      "source": [
        "train_classifier(knc,x_train,y_train,x_test,y_test)"
      ],
      "metadata": {
        "colab": {
          "base_uri": "https://localhost:8080/"
        },
        "id": "eUjPdfhqNFM-",
        "outputId": "33f50203-55a1-4972-f76e-e9acb76395dc"
      },
      "execution_count": null,
      "outputs": [
        {
          "output_type": "stream",
          "name": "stdout",
          "text": [
            "Accuracy Score =  0.9052224371373307\n",
            "precision Score =  1.0\n",
            "recall Score =  0.2898550724637681\n"
          ]
        }
      ]
    },
    {
      "cell_type": "markdown",
      "source": [
        "DecisionTree"
      ],
      "metadata": {
        "id": "k9w_nCGUJzXW"
      }
    },
    {
      "cell_type": "code",
      "source": [
        "train_classifier(dtc,x_train,y_train,x_test,y_test)"
      ],
      "metadata": {
        "colab": {
          "base_uri": "https://localhost:8080/"
        },
        "id": "B3PySpQENKif",
        "outputId": "3ce3afd8-a601-4590-fa2c-54691630d197"
      },
      "execution_count": null,
      "outputs": [
        {
          "output_type": "stream",
          "name": "stdout",
          "text": [
            "Accuracy Score =  0.9274661508704062\n",
            "precision Score =  0.8118811881188119\n",
            "recall Score =  0.5942028985507246\n"
          ]
        }
      ]
    },
    {
      "cell_type": "markdown",
      "source": [
        "Logistic Regression"
      ],
      "metadata": {
        "id": "k58F0iyeJ2GE"
      }
    },
    {
      "cell_type": "code",
      "source": [
        "train_classifier(lrc,x_train,y_train,x_test,y_test)"
      ],
      "metadata": {
        "colab": {
          "base_uri": "https://localhost:8080/"
        },
        "id": "TjWvmIrBNP-X",
        "outputId": "3023c08f-b2fa-48b5-ea19-e9c697e6db44"
      },
      "execution_count": null,
      "outputs": [
        {
          "output_type": "stream",
          "name": "stdout",
          "text": [
            "Accuracy Score =  0.9584139264990329\n",
            "precision Score =  0.9702970297029703\n",
            "recall Score =  0.7101449275362319\n"
          ]
        }
      ]
    },
    {
      "cell_type": "markdown",
      "source": [
        "RandomForest"
      ],
      "metadata": {
        "id": "A766vdmdJ5Nj"
      }
    },
    {
      "cell_type": "code",
      "source": [
        "train_classifier(rfc,x_train,y_train,x_test,y_test)"
      ],
      "metadata": {
        "colab": {
          "base_uri": "https://localhost:8080/"
        },
        "id": "71c4-YicNVUq",
        "outputId": "e1d85cd0-7a4b-4296-e95a-cc3da5cd5cbd"
      },
      "execution_count": null,
      "outputs": [
        {
          "output_type": "stream",
          "name": "stdout",
          "text": [
            "Accuracy Score =  0.9748549323017408\n",
            "precision Score =  0.9827586206896551\n",
            "recall Score =  0.8260869565217391\n"
          ]
        }
      ]
    },
    {
      "cell_type": "markdown",
      "source": [
        "Gussion Naive Baise"
      ],
      "metadata": {
        "id": "a1dTYgdjJ8lQ"
      }
    },
    {
      "cell_type": "code",
      "source": [
        "train_classifier(gnb,x_train,y_train,x_test,y_test)"
      ],
      "metadata": {
        "colab": {
          "base_uri": "https://localhost:8080/"
        },
        "id": "7dnuzo1sNbv3",
        "outputId": "6a04a3df-7cb9-4833-b33d-1cfc6e192495"
      },
      "execution_count": null,
      "outputs": [
        {
          "output_type": "stream",
          "name": "stdout",
          "text": [
            "Accuracy Score =  0.8694390715667312\n",
            "precision Score =  0.5068493150684932\n",
            "recall Score =  0.8043478260869565\n"
          ]
        }
      ]
    },
    {
      "cell_type": "markdown",
      "source": [
        "Multinomial Naive Baise"
      ],
      "metadata": {
        "id": "iI_XA48GKApB"
      }
    },
    {
      "cell_type": "code",
      "source": [
        "train_classifier(mnb,x_train,y_train,x_test,y_test)"
      ],
      "metadata": {
        "colab": {
          "base_uri": "https://localhost:8080/"
        },
        "id": "uegYi8e3NgR6",
        "outputId": "60568710-8b82-4d21-fd03-fcaaff304193"
      },
      "execution_count": null,
      "outputs": [
        {
          "output_type": "stream",
          "name": "stdout",
          "text": [
            "Accuracy Score =  0.9709864603481625\n",
            "precision Score =  1.0\n",
            "recall Score =  0.782608695652174\n"
          ]
        }
      ]
    },
    {
      "cell_type": "markdown",
      "source": [
        "Bournoli Naive Baise"
      ],
      "metadata": {
        "id": "4EBjnxBwKEGq"
      }
    },
    {
      "cell_type": "code",
      "source": [
        "train_classifier(bnb,x_train,y_train,x_test,y_test)"
      ],
      "metadata": {
        "colab": {
          "base_uri": "https://localhost:8080/"
        },
        "id": "Hj2DoxSHNlmO",
        "outputId": "9cd1ed29-1dcc-4e53-e6e7-d62253ebbd5a"
      },
      "execution_count": null,
      "outputs": [
        {
          "output_type": "stream",
          "name": "stdout",
          "text": [
            "Accuracy Score =  0.9835589941972921\n",
            "precision Score =  0.991869918699187\n",
            "recall Score =  0.8840579710144928\n"
          ]
        }
      ]
    },
    {
      "cell_type": "code",
      "source": [
        "mask = df['target'] == 1\n",
        "df[mask]"
      ],
      "metadata": {
        "colab": {
          "base_uri": "https://localhost:8080/",
          "height": 424
        },
        "id": "jGjpAeGFHiP9",
        "outputId": "be7580e6-ce6d-4f09-a07b-cdfb602629a4"
      },
      "execution_count": null,
      "outputs": [
        {
          "output_type": "execute_result",
          "data": {
            "text/plain": [
              "      target                                               text  \\\n",
              "2          1  Free entry in 2 a wkly comp to win FA Cup fina...   \n",
              "5          1  FreeMsg Hey there darling it's been 3 week's n...   \n",
              "8          1  WINNER!! As a valued network customer you have...   \n",
              "9          1  Had your mobile 11 months or more? U R entitle...   \n",
              "11         1  SIX chances to win CASH! From 100 to 20,000 po...   \n",
              "...      ...                                                ...   \n",
              "5537       1  Want explicit SEX in 30 secs? Ring 02073162414...   \n",
              "5540       1  ASKED 3MOBILE IF 0870 CHATLINES INCLU IN FREE ...   \n",
              "5547       1  Had your contract mobile 11 Mnths? Latest Moto...   \n",
              "5566       1  REMINDER FROM O2: To get 2.50 pounds free call...   \n",
              "5567       1  This is the 2nd time we have tried 2 contact u...   \n",
              "\n",
              "                                       transformed_text  \n",
              "2     free entri 2 wkli comp win fa cup final tkt 21...  \n",
              "5     freemsg hey darl 3 week word back like fun sti...  \n",
              "8     winner valu network custom select receivea pri...  \n",
              "9     mobil 11 month u r entitl updat latest colour ...  \n",
              "11    six chanc win cash 100 pound txt csh11 send co...  \n",
              "...                                                 ...  \n",
              "5537  want explicit sex 30 sec ring 02073162414 cost...  \n",
              "5540  ask 3mobil 0870 chatlin inclu free min india c...  \n",
              "5547  contract mobil 11 mnth latest motorola nokia e...  \n",
              "5566  remind o2 get pound free call credit detail gr...  \n",
              "5567  2nd time tri 2 contact u pound prize 2 claim e...  \n",
              "\n",
              "[653 rows x 3 columns]"
            ],
            "text/html": [
              "\n",
              "  <div id=\"df-7b7fdd78-f74a-499b-8da8-628b0b07cc10\">\n",
              "    <div class=\"colab-df-container\">\n",
              "      <div>\n",
              "<style scoped>\n",
              "    .dataframe tbody tr th:only-of-type {\n",
              "        vertical-align: middle;\n",
              "    }\n",
              "\n",
              "    .dataframe tbody tr th {\n",
              "        vertical-align: top;\n",
              "    }\n",
              "\n",
              "    .dataframe thead th {\n",
              "        text-align: right;\n",
              "    }\n",
              "</style>\n",
              "<table border=\"1\" class=\"dataframe\">\n",
              "  <thead>\n",
              "    <tr style=\"text-align: right;\">\n",
              "      <th></th>\n",
              "      <th>target</th>\n",
              "      <th>text</th>\n",
              "      <th>transformed_text</th>\n",
              "    </tr>\n",
              "  </thead>\n",
              "  <tbody>\n",
              "    <tr>\n",
              "      <th>2</th>\n",
              "      <td>1</td>\n",
              "      <td>Free entry in 2 a wkly comp to win FA Cup fina...</td>\n",
              "      <td>free entri 2 wkli comp win fa cup final tkt 21...</td>\n",
              "    </tr>\n",
              "    <tr>\n",
              "      <th>5</th>\n",
              "      <td>1</td>\n",
              "      <td>FreeMsg Hey there darling it's been 3 week's n...</td>\n",
              "      <td>freemsg hey darl 3 week word back like fun sti...</td>\n",
              "    </tr>\n",
              "    <tr>\n",
              "      <th>8</th>\n",
              "      <td>1</td>\n",
              "      <td>WINNER!! As a valued network customer you have...</td>\n",
              "      <td>winner valu network custom select receivea pri...</td>\n",
              "    </tr>\n",
              "    <tr>\n",
              "      <th>9</th>\n",
              "      <td>1</td>\n",
              "      <td>Had your mobile 11 months or more? U R entitle...</td>\n",
              "      <td>mobil 11 month u r entitl updat latest colour ...</td>\n",
              "    </tr>\n",
              "    <tr>\n",
              "      <th>11</th>\n",
              "      <td>1</td>\n",
              "      <td>SIX chances to win CASH! From 100 to 20,000 po...</td>\n",
              "      <td>six chanc win cash 100 pound txt csh11 send co...</td>\n",
              "    </tr>\n",
              "    <tr>\n",
              "      <th>...</th>\n",
              "      <td>...</td>\n",
              "      <td>...</td>\n",
              "      <td>...</td>\n",
              "    </tr>\n",
              "    <tr>\n",
              "      <th>5537</th>\n",
              "      <td>1</td>\n",
              "      <td>Want explicit SEX in 30 secs? Ring 02073162414...</td>\n",
              "      <td>want explicit sex 30 sec ring 02073162414 cost...</td>\n",
              "    </tr>\n",
              "    <tr>\n",
              "      <th>5540</th>\n",
              "      <td>1</td>\n",
              "      <td>ASKED 3MOBILE IF 0870 CHATLINES INCLU IN FREE ...</td>\n",
              "      <td>ask 3mobil 0870 chatlin inclu free min india c...</td>\n",
              "    </tr>\n",
              "    <tr>\n",
              "      <th>5547</th>\n",
              "      <td>1</td>\n",
              "      <td>Had your contract mobile 11 Mnths? Latest Moto...</td>\n",
              "      <td>contract mobil 11 mnth latest motorola nokia e...</td>\n",
              "    </tr>\n",
              "    <tr>\n",
              "      <th>5566</th>\n",
              "      <td>1</td>\n",
              "      <td>REMINDER FROM O2: To get 2.50 pounds free call...</td>\n",
              "      <td>remind o2 get pound free call credit detail gr...</td>\n",
              "    </tr>\n",
              "    <tr>\n",
              "      <th>5567</th>\n",
              "      <td>1</td>\n",
              "      <td>This is the 2nd time we have tried 2 contact u...</td>\n",
              "      <td>2nd time tri 2 contact u pound prize 2 claim e...</td>\n",
              "    </tr>\n",
              "  </tbody>\n",
              "</table>\n",
              "<p>653 rows × 3 columns</p>\n",
              "</div>\n",
              "      <button class=\"colab-df-convert\" onclick=\"convertToInteractive('df-7b7fdd78-f74a-499b-8da8-628b0b07cc10')\"\n",
              "              title=\"Convert this dataframe to an interactive table.\"\n",
              "              style=\"display:none;\">\n",
              "        \n",
              "  <svg xmlns=\"http://www.w3.org/2000/svg\" height=\"24px\"viewBox=\"0 0 24 24\"\n",
              "       width=\"24px\">\n",
              "    <path d=\"M0 0h24v24H0V0z\" fill=\"none\"/>\n",
              "    <path d=\"M18.56 5.44l.94 2.06.94-2.06 2.06-.94-2.06-.94-.94-2.06-.94 2.06-2.06.94zm-11 1L8.5 8.5l.94-2.06 2.06-.94-2.06-.94L8.5 2.5l-.94 2.06-2.06.94zm10 10l.94 2.06.94-2.06 2.06-.94-2.06-.94-.94-2.06-.94 2.06-2.06.94z\"/><path d=\"M17.41 7.96l-1.37-1.37c-.4-.4-.92-.59-1.43-.59-.52 0-1.04.2-1.43.59L10.3 9.45l-7.72 7.72c-.78.78-.78 2.05 0 2.83L4 21.41c.39.39.9.59 1.41.59.51 0 1.02-.2 1.41-.59l7.78-7.78 2.81-2.81c.8-.78.8-2.07 0-2.86zM5.41 20L4 18.59l7.72-7.72 1.47 1.35L5.41 20z\"/>\n",
              "  </svg>\n",
              "      </button>\n",
              "      \n",
              "  <style>\n",
              "    .colab-df-container {\n",
              "      display:flex;\n",
              "      flex-wrap:wrap;\n",
              "      gap: 12px;\n",
              "    }\n",
              "\n",
              "    .colab-df-convert {\n",
              "      background-color: #E8F0FE;\n",
              "      border: none;\n",
              "      border-radius: 50%;\n",
              "      cursor: pointer;\n",
              "      display: none;\n",
              "      fill: #1967D2;\n",
              "      height: 32px;\n",
              "      padding: 0 0 0 0;\n",
              "      width: 32px;\n",
              "    }\n",
              "\n",
              "    .colab-df-convert:hover {\n",
              "      background-color: #E2EBFA;\n",
              "      box-shadow: 0px 1px 2px rgba(60, 64, 67, 0.3), 0px 1px 3px 1px rgba(60, 64, 67, 0.15);\n",
              "      fill: #174EA6;\n",
              "    }\n",
              "\n",
              "    [theme=dark] .colab-df-convert {\n",
              "      background-color: #3B4455;\n",
              "      fill: #D2E3FC;\n",
              "    }\n",
              "\n",
              "    [theme=dark] .colab-df-convert:hover {\n",
              "      background-color: #434B5C;\n",
              "      box-shadow: 0px 1px 3px 1px rgba(0, 0, 0, 0.15);\n",
              "      filter: drop-shadow(0px 1px 2px rgba(0, 0, 0, 0.3));\n",
              "      fill: #FFFFFF;\n",
              "    }\n",
              "  </style>\n",
              "\n",
              "      <script>\n",
              "        const buttonEl =\n",
              "          document.querySelector('#df-7b7fdd78-f74a-499b-8da8-628b0b07cc10 button.colab-df-convert');\n",
              "        buttonEl.style.display =\n",
              "          google.colab.kernel.accessAllowed ? 'block' : 'none';\n",
              "\n",
              "        async function convertToInteractive(key) {\n",
              "          const element = document.querySelector('#df-7b7fdd78-f74a-499b-8da8-628b0b07cc10');\n",
              "          const dataTable =\n",
              "            await google.colab.kernel.invokeFunction('convertToInteractive',\n",
              "                                                     [key], {});\n",
              "          if (!dataTable) return;\n",
              "\n",
              "          const docLinkHtml = 'Like what you see? Visit the ' +\n",
              "            '<a target=\"_blank\" href=https://colab.research.google.com/notebooks/data_table.ipynb>data table notebook</a>'\n",
              "            + ' to learn more about interactive tables.';\n",
              "          element.innerHTML = '';\n",
              "          dataTable['output_type'] = 'display_data';\n",
              "          await google.colab.output.renderOutput(dataTable, element);\n",
              "          const docLink = document.createElement('div');\n",
              "          docLink.innerHTML = docLinkHtml;\n",
              "          element.appendChild(docLink);\n",
              "        }\n",
              "      </script>\n",
              "    </div>\n",
              "  </div>\n",
              "  "
            ]
          },
          "metadata": {},
          "execution_count": 59
        }
      ]
    },
    {
      "cell_type": "markdown",
      "source": [
        "## **Prediction**"
      ],
      "metadata": {
        "id": "H4-CF4j2BdfP"
      }
    },
    {
      "cell_type": "code",
      "source": [
        "def predict(text):\n",
        "  pre = text_processing(text)\n",
        "  post = tfidf.transform([text])\n",
        "  result = bnb.predict(post)[0]\n",
        "\n",
        "  if result == 0:\n",
        "    print('Not Spam')\n",
        "  else:\n",
        "      print('spam')\n"
      ],
      "metadata": {
        "id": "o_5Ex-seBclc"
      },
      "execution_count": null,
      "outputs": []
    },
    {
      "cell_type": "code",
      "source": [
        "predict('REMINDER FROM O2: To get 2.50 pounds free call')"
      ],
      "metadata": {
        "colab": {
          "base_uri": "https://localhost:8080/"
        },
        "id": "GJuPpBo1EcGA",
        "outputId": "e0a5b81a-82af-4d09-e681-8afa3d79b748"
      },
      "execution_count": null,
      "outputs": [
        {
          "output_type": "stream",
          "name": "stdout",
          "text": [
            "Not Spam\n"
          ]
        }
      ]
    },
    {
      "cell_type": "code",
      "source": [
        "from sklearn.ensemble import AdaBoostClassifier\n",
        "from sklearn.ensemble import BaggingClassifier\n",
        "from sklearn.ensemble import ExtraTreesClassifier\n",
        "from sklearn.ensemble import GradientBoostingClassifier\n",
        "from xgboost import XGBClassifier\n",
        "\n",
        "abc = AdaBoostClassifier(n_estimators=50, random_state=2)\n",
        "bc = BaggingClassifier(n_estimators=50, random_state=2)\n",
        "etc = ExtraTreesClassifier(n_estimators=50, random_state=2)\n",
        "gbdt = GradientBoostingClassifier(n_estimators=50,random_state=2)\n",
        "xgb = XGBClassifier(n_estimators=50,random_state=2)"
      ],
      "metadata": {
        "id": "BBO6MgBT6sgt"
      },
      "execution_count": null,
      "outputs": []
    },
    {
      "cell_type": "code",
      "source": [
        "def train_classifier(clf,x_train,y_train,x_test,y_test):\n",
        "    clf.fit(x_train,y_train)\n",
        "    y_pred = clf.predict(x_test)\n",
        "\n",
        "    print('Accuracy Score = ',accuracy_score(y_test,y_pred))\n",
        "    print('precision Score = ',precision_score(y_test,y_pred))\n",
        "    print('recall Score = ',recall_score(y_test,y_pred))"
      ],
      "metadata": {
        "id": "QG9fXDqq9yLi"
      },
      "execution_count": null,
      "outputs": []
    },
    {
      "cell_type": "markdown",
      "source": [
        "AdaBoostClassifier"
      ],
      "metadata": {
        "id": "U8SVti-W_swb"
      }
    },
    {
      "cell_type": "code",
      "source": [
        "train_classifier(abc,x_train,y_train,x_test,y_test)"
      ],
      "metadata": {
        "id": "XKTqZYok-JyG",
        "colab": {
          "base_uri": "https://localhost:8080/"
        },
        "outputId": "c9aad189-0a28-4d55-d5d6-fe4da61cf33c"
      },
      "execution_count": null,
      "outputs": [
        {
          "output_type": "stream",
          "name": "stdout",
          "text": [
            "Accuracy Score =  0.960348162475822\n",
            "precision Score =  0.9292035398230089\n",
            "recall Score =  0.7608695652173914\n"
          ]
        }
      ]
    },
    {
      "cell_type": "markdown",
      "source": [
        "BaggingClassifier"
      ],
      "metadata": {
        "id": "VeRqHCBM_zlP"
      }
    },
    {
      "cell_type": "code",
      "source": [
        "train_classifier(bc,x_train,y_train,x_test,y_test)"
      ],
      "metadata": {
        "id": "NbhBxCbT_1Fl",
        "colab": {
          "base_uri": "https://localhost:8080/"
        },
        "outputId": "dc5131ce-7019-4e66-c842-6d1c54582556"
      },
      "execution_count": null,
      "outputs": [
        {
          "output_type": "stream",
          "name": "stdout",
          "text": [
            "Accuracy Score =  0.9574468085106383\n",
            "precision Score =  0.8671875\n",
            "recall Score =  0.8043478260869565\n"
          ]
        }
      ]
    },
    {
      "cell_type": "markdown",
      "source": [
        "ExtraTreesClassifier"
      ],
      "metadata": {
        "id": "h2lsVITVAKBh"
      }
    },
    {
      "cell_type": "code",
      "source": [
        "train_classifier(etc,x_train,y_train,x_test,y_test)"
      ],
      "metadata": {
        "id": "vmV0HhfIALl6",
        "colab": {
          "base_uri": "https://localhost:8080/"
        },
        "outputId": "7a76b1ca-6b0b-4f7c-878e-c48fc4b178f1"
      },
      "execution_count": null,
      "outputs": [
        {
          "output_type": "stream",
          "name": "stdout",
          "text": [
            "Accuracy Score =  0.9748549323017408\n",
            "precision Score =  0.9745762711864406\n",
            "recall Score =  0.8333333333333334\n"
          ]
        }
      ]
    },
    {
      "cell_type": "markdown",
      "source": [
        "GradientBoostingClassifier"
      ],
      "metadata": {
        "id": "wj2Y0qjFAWkj"
      }
    },
    {
      "cell_type": "code",
      "source": [
        "train_classifier(gbdt,x_train,y_train,x_test,y_test)"
      ],
      "metadata": {
        "id": "BQdC_xUzAZjX",
        "colab": {
          "base_uri": "https://localhost:8080/"
        },
        "outputId": "71eee295-de84-4c0e-bdf3-d48674f03d54"
      },
      "execution_count": null,
      "outputs": [
        {
          "output_type": "stream",
          "name": "stdout",
          "text": [
            "Accuracy Score =  0.9477756286266924\n",
            "precision Score =  0.92\n",
            "recall Score =  0.6666666666666666\n"
          ]
        }
      ]
    },
    {
      "cell_type": "markdown",
      "source": [
        "XGBClassifier"
      ],
      "metadata": {
        "id": "9gidBwLuAhmK"
      }
    },
    {
      "cell_type": "code",
      "source": [
        "train_classifier(xgb,x_train,y_train,x_test,y_test)"
      ],
      "metadata": {
        "id": "dfZfA7xqAkuT",
        "colab": {
          "base_uri": "https://localhost:8080/"
        },
        "outputId": "4394af18-2c41-470d-b579-b207279c3e68"
      },
      "execution_count": null,
      "outputs": [
        {
          "output_type": "stream",
          "name": "stdout",
          "text": [
            "Accuracy Score =  0.9439071566731141\n",
            "precision Score =  0.9347826086956522\n",
            "recall Score =  0.6231884057971014\n"
          ]
        }
      ]
    },
    {
      "cell_type": "markdown",
      "source": [
        "## **Results of Diffrent Models using TfidfVectorizer**"
      ],
      "metadata": {
        "id": "G61lMgslKIbr"
      }
    },
    {
      "cell_type": "code",
      "source": [
        "tfidf_result = pd.read_csv('/content/tfidf_result.csv',encoding='ISO-8859-1').sort_values('Accuracy',ascending = False)\n",
        "tfidf_result"
      ],
      "metadata": {
        "colab": {
          "base_uri": "https://localhost:8080/",
          "height": 457
        },
        "id": "1fWd2gzCO8Rb",
        "outputId": "19d725be-7bf5-4c58-8957-61bfba16f9cc"
      },
      "execution_count": null,
      "outputs": [
        {
          "output_type": "execute_result",
          "data": {
            "text/plain": [
              "                     Algorithm  Accuracy  Precision  Recall\n",
              "7                  BernoulliNB      98.0       99.1    88.0\n",
              "0                          SVC      97.5       97.4    84.0\n",
              "4       RandomForestClassifier      97.4       98.2    82.6\n",
              "10        ExtraTreesClassifier      97.4       97.4    83.3\n",
              "6                MultinomialNB      97.0      100.0    78.0\n",
              "8           AdaBoostClassifier      96.0       92.9    76.0\n",
              "3           LogisticRegression      95.8       97.0    71.0\n",
              "9            BaggingClassifier      95.7       86.7    80.4\n",
              "11  GradientBoostingClassifier      94.7       92.0    66.6\n",
              "12               XGBClassifier      94.3       93.4    62.3\n",
              "2       DecisionTreeClassifier      92.7       81.0    59.0\n",
              "1         KNeighborsClassifier      90.0      100.0    28.0\n",
              "5                   GaussianNB      86.9       50.0    80.0"
            ],
            "text/html": [
              "\n",
              "  <div id=\"df-6183d0c2-1edb-4e57-88c8-cfb02b4c14bb\">\n",
              "    <div class=\"colab-df-container\">\n",
              "      <div>\n",
              "<style scoped>\n",
              "    .dataframe tbody tr th:only-of-type {\n",
              "        vertical-align: middle;\n",
              "    }\n",
              "\n",
              "    .dataframe tbody tr th {\n",
              "        vertical-align: top;\n",
              "    }\n",
              "\n",
              "    .dataframe thead th {\n",
              "        text-align: right;\n",
              "    }\n",
              "</style>\n",
              "<table border=\"1\" class=\"dataframe\">\n",
              "  <thead>\n",
              "    <tr style=\"text-align: right;\">\n",
              "      <th></th>\n",
              "      <th>Algorithm</th>\n",
              "      <th>Accuracy</th>\n",
              "      <th>Precision</th>\n",
              "      <th>Recall</th>\n",
              "    </tr>\n",
              "  </thead>\n",
              "  <tbody>\n",
              "    <tr>\n",
              "      <th>7</th>\n",
              "      <td>BernoulliNB</td>\n",
              "      <td>98.0</td>\n",
              "      <td>99.1</td>\n",
              "      <td>88.0</td>\n",
              "    </tr>\n",
              "    <tr>\n",
              "      <th>0</th>\n",
              "      <td>SVC</td>\n",
              "      <td>97.5</td>\n",
              "      <td>97.4</td>\n",
              "      <td>84.0</td>\n",
              "    </tr>\n",
              "    <tr>\n",
              "      <th>4</th>\n",
              "      <td>RandomForestClassifier</td>\n",
              "      <td>97.4</td>\n",
              "      <td>98.2</td>\n",
              "      <td>82.6</td>\n",
              "    </tr>\n",
              "    <tr>\n",
              "      <th>10</th>\n",
              "      <td>ExtraTreesClassifier</td>\n",
              "      <td>97.4</td>\n",
              "      <td>97.4</td>\n",
              "      <td>83.3</td>\n",
              "    </tr>\n",
              "    <tr>\n",
              "      <th>6</th>\n",
              "      <td>MultinomialNB</td>\n",
              "      <td>97.0</td>\n",
              "      <td>100.0</td>\n",
              "      <td>78.0</td>\n",
              "    </tr>\n",
              "    <tr>\n",
              "      <th>8</th>\n",
              "      <td>AdaBoostClassifier</td>\n",
              "      <td>96.0</td>\n",
              "      <td>92.9</td>\n",
              "      <td>76.0</td>\n",
              "    </tr>\n",
              "    <tr>\n",
              "      <th>3</th>\n",
              "      <td>LogisticRegression</td>\n",
              "      <td>95.8</td>\n",
              "      <td>97.0</td>\n",
              "      <td>71.0</td>\n",
              "    </tr>\n",
              "    <tr>\n",
              "      <th>9</th>\n",
              "      <td>BaggingClassifier</td>\n",
              "      <td>95.7</td>\n",
              "      <td>86.7</td>\n",
              "      <td>80.4</td>\n",
              "    </tr>\n",
              "    <tr>\n",
              "      <th>11</th>\n",
              "      <td>GradientBoostingClassifier</td>\n",
              "      <td>94.7</td>\n",
              "      <td>92.0</td>\n",
              "      <td>66.6</td>\n",
              "    </tr>\n",
              "    <tr>\n",
              "      <th>12</th>\n",
              "      <td>XGBClassifier</td>\n",
              "      <td>94.3</td>\n",
              "      <td>93.4</td>\n",
              "      <td>62.3</td>\n",
              "    </tr>\n",
              "    <tr>\n",
              "      <th>2</th>\n",
              "      <td>DecisionTreeClassifier</td>\n",
              "      <td>92.7</td>\n",
              "      <td>81.0</td>\n",
              "      <td>59.0</td>\n",
              "    </tr>\n",
              "    <tr>\n",
              "      <th>1</th>\n",
              "      <td>KNeighborsClassifier</td>\n",
              "      <td>90.0</td>\n",
              "      <td>100.0</td>\n",
              "      <td>28.0</td>\n",
              "    </tr>\n",
              "    <tr>\n",
              "      <th>5</th>\n",
              "      <td>GaussianNB</td>\n",
              "      <td>86.9</td>\n",
              "      <td>50.0</td>\n",
              "      <td>80.0</td>\n",
              "    </tr>\n",
              "  </tbody>\n",
              "</table>\n",
              "</div>\n",
              "      <button class=\"colab-df-convert\" onclick=\"convertToInteractive('df-6183d0c2-1edb-4e57-88c8-cfb02b4c14bb')\"\n",
              "              title=\"Convert this dataframe to an interactive table.\"\n",
              "              style=\"display:none;\">\n",
              "        \n",
              "  <svg xmlns=\"http://www.w3.org/2000/svg\" height=\"24px\"viewBox=\"0 0 24 24\"\n",
              "       width=\"24px\">\n",
              "    <path d=\"M0 0h24v24H0V0z\" fill=\"none\"/>\n",
              "    <path d=\"M18.56 5.44l.94 2.06.94-2.06 2.06-.94-2.06-.94-.94-2.06-.94 2.06-2.06.94zm-11 1L8.5 8.5l.94-2.06 2.06-.94-2.06-.94L8.5 2.5l-.94 2.06-2.06.94zm10 10l.94 2.06.94-2.06 2.06-.94-2.06-.94-.94-2.06-.94 2.06-2.06.94z\"/><path d=\"M17.41 7.96l-1.37-1.37c-.4-.4-.92-.59-1.43-.59-.52 0-1.04.2-1.43.59L10.3 9.45l-7.72 7.72c-.78.78-.78 2.05 0 2.83L4 21.41c.39.39.9.59 1.41.59.51 0 1.02-.2 1.41-.59l7.78-7.78 2.81-2.81c.8-.78.8-2.07 0-2.86zM5.41 20L4 18.59l7.72-7.72 1.47 1.35L5.41 20z\"/>\n",
              "  </svg>\n",
              "      </button>\n",
              "      \n",
              "  <style>\n",
              "    .colab-df-container {\n",
              "      display:flex;\n",
              "      flex-wrap:wrap;\n",
              "      gap: 12px;\n",
              "    }\n",
              "\n",
              "    .colab-df-convert {\n",
              "      background-color: #E8F0FE;\n",
              "      border: none;\n",
              "      border-radius: 50%;\n",
              "      cursor: pointer;\n",
              "      display: none;\n",
              "      fill: #1967D2;\n",
              "      height: 32px;\n",
              "      padding: 0 0 0 0;\n",
              "      width: 32px;\n",
              "    }\n",
              "\n",
              "    .colab-df-convert:hover {\n",
              "      background-color: #E2EBFA;\n",
              "      box-shadow: 0px 1px 2px rgba(60, 64, 67, 0.3), 0px 1px 3px 1px rgba(60, 64, 67, 0.15);\n",
              "      fill: #174EA6;\n",
              "    }\n",
              "\n",
              "    [theme=dark] .colab-df-convert {\n",
              "      background-color: #3B4455;\n",
              "      fill: #D2E3FC;\n",
              "    }\n",
              "\n",
              "    [theme=dark] .colab-df-convert:hover {\n",
              "      background-color: #434B5C;\n",
              "      box-shadow: 0px 1px 3px 1px rgba(0, 0, 0, 0.15);\n",
              "      filter: drop-shadow(0px 1px 2px rgba(0, 0, 0, 0.3));\n",
              "      fill: #FFFFFF;\n",
              "    }\n",
              "  </style>\n",
              "\n",
              "      <script>\n",
              "        const buttonEl =\n",
              "          document.querySelector('#df-6183d0c2-1edb-4e57-88c8-cfb02b4c14bb button.colab-df-convert');\n",
              "        buttonEl.style.display =\n",
              "          google.colab.kernel.accessAllowed ? 'block' : 'none';\n",
              "\n",
              "        async function convertToInteractive(key) {\n",
              "          const element = document.querySelector('#df-6183d0c2-1edb-4e57-88c8-cfb02b4c14bb');\n",
              "          const dataTable =\n",
              "            await google.colab.kernel.invokeFunction('convertToInteractive',\n",
              "                                                     [key], {});\n",
              "          if (!dataTable) return;\n",
              "\n",
              "          const docLinkHtml = 'Like what you see? Visit the ' +\n",
              "            '<a target=\"_blank\" href=https://colab.research.google.com/notebooks/data_table.ipynb>data table notebook</a>'\n",
              "            + ' to learn more about interactive tables.';\n",
              "          element.innerHTML = '';\n",
              "          dataTable['output_type'] = 'display_data';\n",
              "          await google.colab.output.renderOutput(dataTable, element);\n",
              "          const docLink = document.createElement('div');\n",
              "          docLink.innerHTML = docLinkHtml;\n",
              "          element.appendChild(docLink);\n",
              "        }\n",
              "      </script>\n",
              "    </div>\n",
              "  </div>\n",
              "  "
            ]
          },
          "metadata": {},
          "execution_count": 69
        }
      ]
    },
    {
      "cell_type": "code",
      "source": [
        "performance2 = pd.melt(tfidf_result, id_vars = \"Algorithm\")\n",
        "\n",
        "sns.catplot(x = 'Algorithm', \n",
        "            y='value',\n",
        "            hue = 'variable',\n",
        "            data=performance2, \n",
        "            kind='bar',\n",
        "            height=7,\n",
        "            aspect=2)\n",
        "\n",
        "plt.xticks(rotation='vertical')\n",
        "plt.show()"
      ],
      "metadata": {
        "colab": {
          "base_uri": "https://localhost:8080/",
          "height": 637
        },
        "id": "KH6FhWeIPT4Z",
        "outputId": "4d02f11c-d86c-4d9f-877f-a678ff57ccc4"
      },
      "execution_count": null,
      "outputs": [
        {
          "output_type": "display_data",
          "data": {
            "text/plain": [
              "<Figure size 1089.75x504 with 1 Axes>"
            ],
            "image/png": "[encoded data removed]"
          },
          "metadata": {
            "needs_background": "light"
          }
        }
      ]
    },
    {
      "cell_type": "markdown",
      "source": [
        "## **Model Building Using HashingVectorizer**"
      ],
      "metadata": {
        "id": "im4StR0TKQo8"
      }
    },
    {
      "cell_type": "code",
      "source": [
        "hs = HashingVectorizer(n_features=3000)\n",
        "xhs = hs.fit_transform(df['transformed_text']).toarray()\n",
        "xhs.shape"
      ],
      "metadata": {
        "colab": {
          "base_uri": "https://localhost:8080/"
        },
        "id": "XkA1uMGmPhXS",
        "outputId": "67ec251e-3a2d-41ca-d58b-25b7cfbb3e6a"
      },
      "execution_count": null,
      "outputs": [
        {
          "output_type": "execute_result",
          "data": {
            "text/plain": [
              "(5169, 3000)"
            ]
          },
          "metadata": {},
          "execution_count": 71
        }
      ]
    },
    {
      "cell_type": "code",
      "source": [
        "from sklearn.model_selection import train_test_split\n",
        "\n",
        "x_train,x_test,y_train,y_test = train_test_split(xhs,y,test_size=0.2,random_state=42)"
      ],
      "metadata": {
        "id": "oaCv_iKCj1gL"
      },
      "execution_count": null,
      "outputs": []
    },
    {
      "cell_type": "markdown",
      "source": [
        "## **Model Building**"
      ],
      "metadata": {
        "id": "5gTlexxpKaLn"
      }
    },
    {
      "cell_type": "markdown",
      "source": [
        "Support Vector Machine"
      ],
      "metadata": {
        "id": "AODtUqrWKfYM"
      }
    },
    {
      "cell_type": "code",
      "source": [
        "train_classifier(svc,x_train,y_train,x_test,y_test)"
      ],
      "metadata": {
        "colab": {
          "base_uri": "https://localhost:8080/"
        },
        "id": "CzBsaLA1kJUW",
        "outputId": "6a58e441-e970-4524-ca69-bc9da3837ed0"
      },
      "execution_count": null,
      "outputs": [
        {
          "output_type": "stream",
          "name": "stdout",
          "text": [
            "Accuracy Score =  0.965183752417795\n",
            "precision Score =  0.9224806201550387\n",
            "recall Score =  0.8206896551724138\n"
          ]
        }
      ]
    },
    {
      "cell_type": "markdown",
      "source": [
        "KNN"
      ],
      "metadata": {
        "id": "tjd5b7PaKj6T"
      }
    },
    {
      "cell_type": "code",
      "source": [
        "train_classifier(knc,x_train,y_train,x_test,y_test)"
      ],
      "metadata": {
        "colab": {
          "base_uri": "https://localhost:8080/"
        },
        "id": "3enRCCw1lGlt",
        "outputId": "e271d8e6-e1f6-4475-c749-c1cf2b8a3935"
      },
      "execution_count": null,
      "outputs": [
        {
          "output_type": "stream",
          "name": "stdout",
          "text": [
            "Accuracy Score =  0.9090909090909091\n",
            "precision Score =  1.0\n",
            "recall Score =  0.35172413793103446\n"
          ]
        }
      ]
    },
    {
      "cell_type": "markdown",
      "source": [
        "Decision Tree"
      ],
      "metadata": {
        "id": "L4WsUk3vKlt8"
      }
    },
    {
      "cell_type": "code",
      "source": [
        "train_classifier(dtc,x_train,y_train,x_test,y_test)"
      ],
      "metadata": {
        "colab": {
          "base_uri": "https://localhost:8080/"
        },
        "id": "GS-Rbhc6lS7p",
        "outputId": "187a151a-369f-4222-bc53-a7135150499b"
      },
      "execution_count": null,
      "outputs": [
        {
          "output_type": "stream",
          "name": "stdout",
          "text": [
            "Accuracy Score =  0.9294003868471954\n",
            "precision Score =  0.7857142857142857\n",
            "recall Score =  0.6827586206896552\n"
          ]
        }
      ]
    },
    {
      "cell_type": "markdown",
      "source": [
        "Logistic regression"
      ],
      "metadata": {
        "id": "0xpcVdsbKpS5"
      }
    },
    {
      "cell_type": "code",
      "source": [
        "train_classifier(lrc,x_train,y_train,x_test,y_test)"
      ],
      "metadata": {
        "colab": {
          "base_uri": "https://localhost:8080/"
        },
        "id": "c_nmxeHFleQE",
        "outputId": "1369a474-de0f-44c3-88d6-65b0d7388dea"
      },
      "execution_count": null,
      "outputs": [
        {
          "output_type": "stream",
          "name": "stdout",
          "text": [
            "Accuracy Score =  0.9487427466150871\n",
            "precision Score =  0.8770491803278688\n",
            "recall Score =  0.7379310344827587\n"
          ]
        }
      ]
    },
    {
      "cell_type": "markdown",
      "source": [
        "Random Forest"
      ],
      "metadata": {
        "id": "kc4tk02TKr4I"
      }
    },
    {
      "cell_type": "code",
      "source": [
        "train_classifier(rfc,x_train,y_train,x_test,y_test)"
      ],
      "metadata": {
        "colab": {
          "base_uri": "https://localhost:8080/"
        },
        "id": "ohzsWLXillGq",
        "outputId": "8fecc5f7-7ffb-4f1b-f0bd-24cbc120f5bc"
      },
      "execution_count": null,
      "outputs": [
        {
          "output_type": "stream",
          "name": "stdout",
          "text": [
            "Accuracy Score =  0.9680851063829787\n",
            "precision Score =  0.9912280701754386\n",
            "recall Score =  0.7793103448275862\n"
          ]
        }
      ]
    },
    {
      "cell_type": "markdown",
      "source": [
        "Gussion Naive Baise"
      ],
      "metadata": {
        "id": "9mx_H6SZKucN"
      }
    },
    {
      "cell_type": "code",
      "source": [
        "train_classifier(gnb,x_train,y_train,x_test,y_test)"
      ],
      "metadata": {
        "colab": {
          "base_uri": "https://localhost:8080/"
        },
        "id": "lrIW5hY2lnOa",
        "outputId": "b1e812cb-1728-4573-e3cf-bb6e5d31fb08"
      },
      "execution_count": null,
      "outputs": [
        {
          "output_type": "stream",
          "name": "stdout",
          "text": [
            "Accuracy Score =  0.7359767891682786\n",
            "precision Score =  0.29354838709677417\n",
            "recall Score =  0.6275862068965518\n"
          ]
        }
      ]
    },
    {
      "cell_type": "markdown",
      "source": [
        "Barnouli Naive Baise"
      ],
      "metadata": {
        "id": "wgtYerRgKy8B"
      }
    },
    {
      "cell_type": "code",
      "source": [
        "train_classifier(bnb,x_train,y_train,x_test,y_test)"
      ],
      "metadata": {
        "colab": {
          "base_uri": "https://localhost:8080/"
        },
        "id": "f5GUigMcl63X",
        "outputId": "b378be7a-f077-49dc-de58-34c88d010f5e"
      },
      "execution_count": null,
      "outputs": [
        {
          "output_type": "stream",
          "name": "stdout",
          "text": [
            "Accuracy Score =  0.9574468085106383\n",
            "precision Score =  0.9719626168224299\n",
            "recall Score =  0.7172413793103448\n"
          ]
        }
      ]
    },
    {
      "cell_type": "markdown",
      "source": [
        "## **Results of Diffirent Models using HashingVectorizer**"
      ],
      "metadata": {
        "id": "zBmGXyunK4DQ"
      }
    },
    {
      "cell_type": "code",
      "source": [
        "hashing = pd.read_csv('/content/hashing_result.csv',encoding='ISO-8859-1').sort_values('Accuracy',ascending = False)\n",
        "hashing "
      ],
      "metadata": {
        "colab": {
          "base_uri": "https://localhost:8080/",
          "height": 300
        },
        "id": "huynzZHVmBow",
        "outputId": "77735710-bdd0-4697-e702-c088e16c3c61"
      },
      "execution_count": null,
      "outputs": [
        {
          "output_type": "execute_result",
          "data": {
            "text/plain": [
              "                Algorithm  Accuracy  Precision  Recall\n",
              "4  RandomForestClassifier      96.8       99.1    77.9\n",
              "0                     SVC      96.5       92.0    82.0\n",
              "6             BernoulliNB      95.7       97.1    71.7\n",
              "3      LogisticRegression      94.8       87.7    73.7\n",
              "2  DecisionTreeClassifier      92.9       78.5    68.0\n",
              "1    KNeighborsClassifier      90.9      100.0    35.0\n",
              "5              GaussianNB      73.0       29.0    62.7\n",
              "7           MultinomialNB       NaN        NaN     NaN"
            ],
            "text/html": [
              "\n",
              "  <div id=\"df-4ed45061-2266-4264-9aad-7503a90bf136\">\n",
              "    <div class=\"colab-df-container\">\n",
              "      <div>\n",
              "<style scoped>\n",
              "    .dataframe tbody tr th:only-of-type {\n",
              "        vertical-align: middle;\n",
              "    }\n",
              "\n",
              "    .dataframe tbody tr th {\n",
              "        vertical-align: top;\n",
              "    }\n",
              "\n",
              "    .dataframe thead th {\n",
              "        text-align: right;\n",
              "    }\n",
              "</style>\n",
              "<table border=\"1\" class=\"dataframe\">\n",
              "  <thead>\n",
              "    <tr style=\"text-align: right;\">\n",
              "      <th></th>\n",
              "      <th>Algorithm</th>\n",
              "      <th>Accuracy</th>\n",
              "      <th>Precision</th>\n",
              "      <th>Recall</th>\n",
              "    </tr>\n",
              "  </thead>\n",
              "  <tbody>\n",
              "    <tr>\n",
              "      <th>4</th>\n",
              "      <td>RandomForestClassifier</td>\n",
              "      <td>96.8</td>\n",
              "      <td>99.1</td>\n",
              "      <td>77.9</td>\n",
              "    </tr>\n",
              "    <tr>\n",
              "      <th>0</th>\n",
              "      <td>SVC</td>\n",
              "      <td>96.5</td>\n",
              "      <td>92.0</td>\n",
              "      <td>82.0</td>\n",
              "    </tr>\n",
              "    <tr>\n",
              "      <th>6</th>\n",
              "      <td>BernoulliNB</td>\n",
              "      <td>95.7</td>\n",
              "      <td>97.1</td>\n",
              "      <td>71.7</td>\n",
              "    </tr>\n",
              "    <tr>\n",
              "      <th>3</th>\n",
              "      <td>LogisticRegression</td>\n",
              "      <td>94.8</td>\n",
              "      <td>87.7</td>\n",
              "      <td>73.7</td>\n",
              "    </tr>\n",
              "    <tr>\n",
              "      <th>2</th>\n",
              "      <td>DecisionTreeClassifier</td>\n",
              "      <td>92.9</td>\n",
              "      <td>78.5</td>\n",
              "      <td>68.0</td>\n",
              "    </tr>\n",
              "    <tr>\n",
              "      <th>1</th>\n",
              "      <td>KNeighborsClassifier</td>\n",
              "      <td>90.9</td>\n",
              "      <td>100.0</td>\n",
              "      <td>35.0</td>\n",
              "    </tr>\n",
              "    <tr>\n",
              "      <th>5</th>\n",
              "      <td>GaussianNB</td>\n",
              "      <td>73.0</td>\n",
              "      <td>29.0</td>\n",
              "      <td>62.7</td>\n",
              "    </tr>\n",
              "    <tr>\n",
              "      <th>7</th>\n",
              "      <td>MultinomialNB</td>\n",
              "      <td>NaN</td>\n",
              "      <td>NaN</td>\n",
              "      <td>NaN</td>\n",
              "    </tr>\n",
              "  </tbody>\n",
              "</table>\n",
              "</div>\n",
              "      <button class=\"colab-df-convert\" onclick=\"convertToInteractive('df-4ed45061-2266-4264-9aad-7503a90bf136')\"\n",
              "              title=\"Convert this dataframe to an interactive table.\"\n",
              "              style=\"display:none;\">\n",
              "        \n",
              "  <svg xmlns=\"http://www.w3.org/2000/svg\" height=\"24px\"viewBox=\"0 0 24 24\"\n",
              "       width=\"24px\">\n",
              "    <path d=\"M0 0h24v24H0V0z\" fill=\"none\"/>\n",
              "    <path d=\"M18.56 5.44l.94 2.06.94-2.06 2.06-.94-2.06-.94-.94-2.06-.94 2.06-2.06.94zm-11 1L8.5 8.5l.94-2.06 2.06-.94-2.06-.94L8.5 2.5l-.94 2.06-2.06.94zm10 10l.94 2.06.94-2.06 2.06-.94-2.06-.94-.94-2.06-.94 2.06-2.06.94z\"/><path d=\"M17.41 7.96l-1.37-1.37c-.4-.4-.92-.59-1.43-.59-.52 0-1.04.2-1.43.59L10.3 9.45l-7.72 7.72c-.78.78-.78 2.05 0 2.83L4 21.41c.39.39.9.59 1.41.59.51 0 1.02-.2 1.41-.59l7.78-7.78 2.81-2.81c.8-.78.8-2.07 0-2.86zM5.41 20L4 18.59l7.72-7.72 1.47 1.35L5.41 20z\"/>\n",
              "  </svg>\n",
              "      </button>\n",
              "      \n",
              "  <style>\n",
              "    .colab-df-container {\n",
              "      display:flex;\n",
              "      flex-wrap:wrap;\n",
              "      gap: 12px;\n",
              "    }\n",
              "\n",
              "    .colab-df-convert {\n",
              "      background-color: #E8F0FE;\n",
              "      border: none;\n",
              "      border-radius: 50%;\n",
              "      cursor: pointer;\n",
              "      display: none;\n",
              "      fill: #1967D2;\n",
              "      height: 32px;\n",
              "      padding: 0 0 0 0;\n",
              "      width: 32px;\n",
              "    }\n",
              "\n",
              "    .colab-df-convert:hover {\n",
              "      background-color: #E2EBFA;\n",
              "      box-shadow: 0px 1px 2px rgba(60, 64, 67, 0.3), 0px 1px 3px 1px rgba(60, 64, 67, 0.15);\n",
              "      fill: #174EA6;\n",
              "    }\n",
              "\n",
              "    [theme=dark] .colab-df-convert {\n",
              "      background-color: #3B4455;\n",
              "      fill: #D2E3FC;\n",
              "    }\n",
              "\n",
              "    [theme=dark] .colab-df-convert:hover {\n",
              "      background-color: #434B5C;\n",
              "      box-shadow: 0px 1px 3px 1px rgba(0, 0, 0, 0.15);\n",
              "      filter: drop-shadow(0px 1px 2px rgba(0, 0, 0, 0.3));\n",
              "      fill: #FFFFFF;\n",
              "    }\n",
              "  </style>\n",
              "\n",
              "      <script>\n",
              "        const buttonEl =\n",
              "          document.querySelector('#df-4ed45061-2266-4264-9aad-7503a90bf136 button.colab-df-convert');\n",
              "        buttonEl.style.display =\n",
              "          google.colab.kernel.accessAllowed ? 'block' : 'none';\n",
              "\n",
              "        async function convertToInteractive(key) {\n",
              "          const element = document.querySelector('#df-4ed45061-2266-4264-9aad-7503a90bf136');\n",
              "          const dataTable =\n",
              "            await google.colab.kernel.invokeFunction('convertToInteractive',\n",
              "                                                     [key], {});\n",
              "          if (!dataTable) return;\n",
              "\n",
              "          const docLinkHtml = 'Like what you see? Visit the ' +\n",
              "            '<a target=\"_blank\" href=https://colab.research.google.com/notebooks/data_table.ipynb>data table notebook</a>'\n",
              "            + ' to learn more about interactive tables.';\n",
              "          element.innerHTML = '';\n",
              "          dataTable['output_type'] = 'display_data';\n",
              "          await google.colab.output.renderOutput(dataTable, element);\n",
              "          const docLink = document.createElement('div');\n",
              "          docLink.innerHTML = docLinkHtml;\n",
              "          element.appendChild(docLink);\n",
              "        }\n",
              "      </script>\n",
              "    </div>\n",
              "  </div>\n",
              "  "
            ]
          },
          "metadata": {},
          "execution_count": 250
        }
      ]
    },
    {
      "cell_type": "code",
      "source": [
        "performance3 = pd.melt(hashing, id_vars = \"Algorithm\")\n",
        "\n",
        "sns.catplot(x = 'Algorithm', \n",
        "            y='value', \n",
        "            hue = 'variable',\n",
        "            data=performance3, \n",
        "            kind='bar',\n",
        "            height=6, \n",
        "            aspect=2)\n",
        "\n",
        "plt.xticks(rotation='vertical')\n",
        "plt.show()"
      ],
      "metadata": {
        "colab": {
          "base_uri": "https://localhost:8080/",
          "height": 549
        },
        "id": "cdmRBMUkmOf1",
        "outputId": "b616a644-f77d-4c7a-ae5c-0148e8332f1d"
      },
      "execution_count": null,
      "outputs": [
        {
          "output_type": "display_data",
          "data": {
            "text/plain": [
              "<Figure size 945.75x432 with 1 Axes>"
            ],
            "image/png": "[encoded data removed]"
          },
          "metadata": {
            "needs_background": "light"
          }
        }
      ]
    },
    {
      "cell_type": "markdown",
      "source": [
        "## **Applying LSTM**"
      ],
      "metadata": {
        "id": "BJK92CY1LWjh"
      }
    },
    {
      "cell_type": "code",
      "source": [
        "from keras.preprocessing.text import Tokenizer \n",
        "from keras.preprocessing.sequence import pad_sequences\n",
        "from keras.models import Sequential \n",
        "from keras.preprocessing import sequence\n",
        "from keras.models import Model\n",
        "from tensorflow.keras.optimizers import Adam\n",
        "from keras.layers import LSTM, Activation, Dense, Dropout, Input, Embedding\n",
        "from tensorflow.keras.optimizers import RMSprop\n",
        "from keras.callbacks import EarlyStopping\n",
        "from keras.layers import Flatten"
      ],
      "metadata": {
        "id": "WEA_9kGLw2Sk"
      },
      "execution_count": null,
      "outputs": []
    },
    {
      "cell_type": "code",
      "source": [
        "x= df['text']\n",
        "y = df['target']\n",
        "\n",
        "x_train,x_test,y_train,y_test=train_test_split(x,y,test_size=0.2,random_state=20)"
      ],
      "metadata": {
        "id": "Wc-swmasAtwX"
      },
      "execution_count": null,
      "outputs": []
    },
    {
      "cell_type": "code",
      "source": [
        "max_words=1000\n",
        "max_len=172\n",
        "token=Tokenizer(num_words=max_words)\n",
        "token.fit_on_texts(df['text'])\n",
        "sequences=token.texts_to_sequences(x_train)\n",
        "sequences_metrix=sequence.pad_sequences(sequences,padding='post',maxlen=max_len)"
      ],
      "metadata": {
        "id": "K4C-Goe7CzNp"
      },
      "execution_count": null,
      "outputs": []
    },
    {
      "cell_type": "code",
      "source": [
        "test_sequences = token.texts_to_sequences(x_test)\n",
        "test_sequences_matrix = sequence.pad_sequences(test_sequences,padding='post',\n",
        "                                               maxlen=max_len)"
      ],
      "metadata": {
        "id": "IgcbmNb4DBrO"
      },
      "execution_count": null,
      "outputs": []
    },
    {
      "cell_type": "code",
      "source": [
        "model=Sequential()\n",
        "\n",
        "# embedding layer\n",
        "model.add(Embedding(max_words,50,input_length=max_len,trainable=True))\n",
        "\n",
        "# lstm layer\n",
        "model.add(LSTM(100,return_sequences=True,dropout=0.5))\n",
        "model.add(Flatten()) \n",
        "# Dense layer\n",
        "model.add(Dense(200,activation='relu',name='hl1')) \n",
        "model.add(Dense(100,activation='relu',name='hl2')) \n",
        "model.add(Dense(1,activation='sigmoid',name='ol')) \n",
        "\n",
        "\n",
        "model.compile(optimizer='adam', loss='binary_crossentropy',metrics=[\"accuracy\"])\n",
        "\n",
        "es = EarlyStopping(monitor='val_loss', mode='auto', verbose=1,patience=3)\n",
        "\n",
        "model.summary()"
      ],
      "metadata": {
        "colab": {
          "base_uri": "https://localhost:8080/"
        },
        "id": "p4mDoYGgDJ2B",
        "outputId": "29682d8f-0c0a-4166-cd33-9dce72cf7a68"
      },
      "execution_count": null,
      "outputs": [
        {
          "output_type": "stream",
          "name": "stdout",
          "text": [
            "Model: \"sequential_3\"\n",
            "_________________________________________________________________\n",
            " Layer (type)                Output Shape              Param #   \n",
            "=================================================================\n",
            " embedding_2 (Embedding)     (None, 172, 50)           50000     \n",
            "                                                                 \n",
            " lstm_2 (LSTM)               (None, 172, 100)          60400     \n",
            "                                                                 \n",
            " flatten (Flatten)           (None, 17200)             0         \n",
            "                                                                 \n",
            " hl1 (Dense)                 (None, 200)               3440200   \n",
            "                                                                 \n",
            " hl2 (Dense)                 (None, 100)               20100     \n",
            "                                                                 \n",
            " ol (Dense)                  (None, 1)                 101       \n",
            "                                                                 \n",
            "=================================================================\n",
            "Total params: 3,570,801\n",
            "Trainable params: 3,570,801\n",
            "Non-trainable params: 0\n",
            "_________________________________________________________________\n"
          ]
        }
      ]
    },
    {
      "cell_type": "code",
      "source": [
        "sequences_metrix.shape,y_train.shape"
      ],
      "metadata": {
        "colab": {
          "base_uri": "https://localhost:8080/"
        },
        "id": "wQktBuZqDgrG",
        "outputId": "a4333d06-d628-4c57-95e4-b68895dff381"
      },
      "execution_count": null,
      "outputs": [
        {
          "output_type": "execute_result",
          "data": {
            "text/plain": [
              "((4135, 172), (4135,))"
            ]
          },
          "metadata": {},
          "execution_count": 269
        }
      ]
    },
    {
      "cell_type": "code",
      "source": [
        "test_sequences_matrix.shape,y_test.shape"
      ],
      "metadata": {
        "colab": {
          "base_uri": "https://localhost:8080/"
        },
        "id": "RV3A4XrZDmmO",
        "outputId": "72d9c306-82c7-46ba-b53d-850999fa7574"
      },
      "execution_count": null,
      "outputs": [
        {
          "output_type": "execute_result",
          "data": {
            "text/plain": [
              "((1034, 172), (1034,))"
            ]
          },
          "metadata": {},
          "execution_count": 270
        }
      ]
    },
    {
      "cell_type": "code",
      "source": [
        "history=model.fit(sequences_metrix,y_train,batch_size=150,epochs=20,callbacks=[es],validation_split=0.2,verbose=1)"
      ],
      "metadata": {
        "colab": {
          "base_uri": "https://localhost:8080/"
        },
        "id": "EFZZP6usDr37",
        "outputId": "5a48f970-7251-4618-9341-6cdfd2367cfd"
      },
      "execution_count": null,
      "outputs": [
        {
          "output_type": "stream",
          "name": "stdout",
          "text": [
            "Epoch 1/20\n",
            "23/23 [==============================] - 19s 704ms/step - loss: 0.3824 - accuracy: 0.8531 - val_loss: 0.2381 - val_accuracy: 0.8936\n",
            "Epoch 2/20\n",
            "23/23 [==============================] - 15s 646ms/step - loss: 0.1449 - accuracy: 0.9462 - val_loss: 0.0829 - val_accuracy: 0.9770\n",
            "Epoch 3/20\n",
            "23/23 [==============================] - 15s 663ms/step - loss: 0.0511 - accuracy: 0.9873 - val_loss: 0.0682 - val_accuracy: 0.9819\n",
            "Epoch 4/20\n",
            "23/23 [==============================] - 15s 636ms/step - loss: 0.0357 - accuracy: 0.9894 - val_loss: 0.0703 - val_accuracy: 0.9819\n",
            "Epoch 5/20\n",
            "23/23 [==============================] - 15s 644ms/step - loss: 0.0261 - accuracy: 0.9927 - val_loss: 0.0745 - val_accuracy: 0.9855\n",
            "Epoch 6/20\n",
            "23/23 [==============================] - 15s 647ms/step - loss: 0.0187 - accuracy: 0.9940 - val_loss: 0.0780 - val_accuracy: 0.9843\n",
            "Epoch 6: early stopping\n"
          ]
        }
      ]
    },
    {
      "cell_type": "markdown",
      "source": [
        "## **Results**"
      ],
      "metadata": {
        "id": "oyxd0MTsLgJC"
      }
    },
    {
      "cell_type": "code",
      "source": [
        "train_acc=model.evaluate(sequences_metrix,y_train,verbose=1) \n",
        "test_acc=model.evaluate(test_sequences_matrix,y_test,verbose=1) "
      ],
      "metadata": {
        "colab": {
          "base_uri": "https://localhost:8080/"
        },
        "id": "eCNWK8VlEeDT",
        "outputId": "d9fc7009-1120-4fcf-c240-419a180f3139"
      },
      "execution_count": null,
      "outputs": [
        {
          "output_type": "stream",
          "name": "stdout",
          "text": [
            "130/130 [==============================] - 6s 48ms/step - loss: 0.0242 - accuracy: 0.9942\n",
            "33/33 [==============================] - 2s 47ms/step - loss: 0.0707 - accuracy: 0.9836\n"
          ]
        }
      ]
    },
    {
      "cell_type": "code",
      "source": [
        "print(\"Loss:{:.3f} and Accuracy:{:.3f}\".format(test_acc[0],test_acc[1]))"
      ],
      "metadata": {
        "colab": {
          "base_uri": "https://localhost:8080/"
        },
        "id": "eNu_rPxfEuiu",
        "outputId": "6021fc1e-a731-4b42-a1a7-b6467abb096b"
      },
      "execution_count": null,
      "outputs": [
        {
          "output_type": "stream",
          "name": "stdout",
          "text": [
            "Loss:0.071 and Accuracy:0.984\n"
          ]
        }
      ]
    },
    {
      "cell_type": "code",
      "source": [
        "plt.plot(history.history['accuracy'], label='train')\n",
        "plt.plot(history.history['val_accuracy'], label='test')\n",
        "plt.legend()\n",
        "plt.show()"
      ],
      "metadata": {
        "colab": {
          "base_uri": "https://localhost:8080/",
          "height": 268
        },
        "id": "4UX5l5KMEqv1",
        "outputId": "40a3ed71-23d3-4190-9797-bce8cdc54d1f"
      },
      "execution_count": null,
      "outputs": [
        {
          "output_type": "display_data",
          "data": {
            "text/plain": [
              "<Figure size 432x288 with 1 Axes>"
            ],
            "image/png": "[encoded data removed]"
          },
          "metadata": {
            "needs_background": "light"
          }
        }
      ]
    },
    {
      "cell_type": "markdown",
      "source": [
        "## **ANN**"
      ],
      "metadata": {
        "id": "7TduUwYkUyKE"
      }
    },
    {
      "cell_type": "code",
      "source": [
        "from keras.backend import dropout\n",
        "NN = Sequential()\n",
        "\n",
        "NN.add(Dense(128,activation='relu'))\n",
        "NN.add(Dropout(0.3))\n",
        "NN.add(Dense(110,activation='relu'))\n",
        "NN.add(Dropout(0.3))\n",
        "NN.add(Dense(98,activation='relu'))\n",
        "NN.add(Dropout(0.3))\n",
        "NN.add(Dense(50,activation='relu'))\n",
        "NN.add(Dropout(0.2))\n",
        "NN.add(Dense(25,activation='relu'))\n",
        "NN.add(Dense(1,activation='sigmoid'))\n",
        "\n",
        "es = EarlyStopping(monitor='val_loss', mode='auto', verbose=1,patience=5)"
      ],
      "metadata": {
        "id": "Kcq2DbW8Jz5T"
      },
      "execution_count": null,
      "outputs": []
    },
    {
      "cell_type": "code",
      "source": [
        "NN.compile(loss='binary_crossentropy',optimizer='Adam', metrics=['accuracy'])\n",
        "\n",
        "history = NN.fit(x_train,y_train,epochs=50,validation_split = 0.2)"
      ],
      "metadata": {
        "colab": {
          "base_uri": "https://localhost:8080/"
        },
        "id": "lxIfLSo8KKBD",
        "outputId": "28d8f525-5c33-4d42-c512-7f0a54c1b146"
      },
      "execution_count": null,
      "outputs": [
        {
          "output_type": "stream",
          "name": "stdout",
          "text": [
            "Epoch 1/50\n",
            "104/104 [==============================] - 3s 14ms/step - loss: 8.9971e-07 - accuracy: 1.0000 - val_loss: 5.2622e-09 - val_accuracy: 1.0000\n",
            "Epoch 2/50\n",
            "104/104 [==============================] - 1s 11ms/step - loss: 1.2345e-07 - accuracy: 1.0000 - val_loss: 1.8557e-11 - val_accuracy: 1.0000\n",
            "Epoch 3/50\n",
            "104/104 [==============================] - 1s 11ms/step - loss: 4.6678e-09 - accuracy: 1.0000 - val_loss: 8.3578e-12 - val_accuracy: 1.0000\n",
            "Epoch 4/50\n",
            "104/104 [==============================] - 1s 11ms/step - loss: 3.1835e-08 - accuracy: 1.0000 - val_loss: 3.1143e-11 - val_accuracy: 1.0000\n",
            "Epoch 5/50\n",
            "104/104 [==============================] - 1s 11ms/step - loss: 1.2647e-08 - accuracy: 1.0000 - val_loss: 2.4867e-11 - val_accuracy: 1.0000\n",
            "Epoch 6/50\n",
            "104/104 [==============================] - 1s 12ms/step - loss: 3.0575e-09 - accuracy: 1.0000 - val_loss: 7.1281e-12 - val_accuracy: 1.0000\n",
            "Epoch 7/50\n",
            "104/104 [==============================] - 1s 11ms/step - loss: 2.1232e-08 - accuracy: 1.0000 - val_loss: 6.0924e-12 - val_accuracy: 1.0000\n",
            "Epoch 8/50\n",
            "104/104 [==============================] - 1s 10ms/step - loss: 2.8854e-07 - accuracy: 1.0000 - val_loss: 3.1717e-12 - val_accuracy: 1.0000\n",
            "Epoch 9/50\n",
            "104/104 [==============================] - 1s 11ms/step - loss: 0.0014 - accuracy: 0.9997 - val_loss: 3.5766e-10 - val_accuracy: 1.0000\n",
            "Epoch 10/50\n",
            "104/104 [==============================] - 1s 11ms/step - loss: 8.2151e-08 - accuracy: 1.0000 - val_loss: 5.0192e-12 - val_accuracy: 1.0000\n",
            "Epoch 11/50\n",
            "104/104 [==============================] - 1s 12ms/step - loss: 1.0560e-08 - accuracy: 1.0000 - val_loss: 4.5862e-12 - val_accuracy: 1.0000\n",
            "Epoch 12/50\n",
            "104/104 [==============================] - 1s 10ms/step - loss: 2.4264e-10 - accuracy: 1.0000 - val_loss: 4.5580e-12 - val_accuracy: 1.0000\n",
            "Epoch 13/50\n",
            "104/104 [==============================] - 1s 10ms/step - loss: 9.6259e-05 - accuracy: 1.0000 - val_loss: 7.1070e-11 - val_accuracy: 1.0000\n",
            "Epoch 14/50\n",
            "104/104 [==============================] - 1s 10ms/step - loss: 0.0028 - accuracy: 0.9997 - val_loss: 7.6320e-11 - val_accuracy: 1.0000\n",
            "Epoch 15/50\n",
            "104/104 [==============================] - 1s 11ms/step - loss: 3.6210e-05 - accuracy: 1.0000 - val_loss: 1.1006e-08 - val_accuracy: 1.0000\n",
            "Epoch 16/50\n",
            "104/104 [==============================] - 1s 11ms/step - loss: 6.3874e-08 - accuracy: 1.0000 - val_loss: 2.3174e-09 - val_accuracy: 1.0000\n",
            "Epoch 17/50\n",
            "104/104 [==============================] - 1s 11ms/step - loss: 3.1472e-06 - accuracy: 1.0000 - val_loss: 1.2000e-10 - val_accuracy: 1.0000\n",
            "Epoch 18/50\n",
            "104/104 [==============================] - 1s 10ms/step - loss: 8.0086e-08 - accuracy: 1.0000 - val_loss: 8.1921e-12 - val_accuracy: 1.0000\n",
            "Epoch 19/50\n",
            "104/104 [==============================] - 1s 10ms/step - loss: 7.0905e-04 - accuracy: 0.9997 - val_loss: 0.0045 - val_accuracy: 0.9988\n",
            "Epoch 20/50\n",
            "104/104 [==============================] - 1s 11ms/step - loss: 2.3169e-04 - accuracy: 0.9997 - val_loss: 8.7943e-14 - val_accuracy: 1.0000\n",
            "Epoch 21/50\n",
            "104/104 [==============================] - 1s 11ms/step - loss: 1.0494e-11 - accuracy: 1.0000 - val_loss: 8.7543e-14 - val_accuracy: 1.0000\n",
            "Epoch 22/50\n",
            "104/104 [==============================] - 1s 10ms/step - loss: 4.8683e-11 - accuracy: 1.0000 - val_loss: 8.7542e-14 - val_accuracy: 1.0000\n",
            "Epoch 23/50\n",
            "104/104 [==============================] - 1s 11ms/step - loss: 0.0030 - accuracy: 0.9997 - val_loss: 3.4385e-11 - val_accuracy: 1.0000\n",
            "Epoch 24/50\n",
            "104/104 [==============================] - 1s 11ms/step - loss: 7.8480e-05 - accuracy: 1.0000 - val_loss: 2.1128e-12 - val_accuracy: 1.0000\n",
            "Epoch 25/50\n",
            "104/104 [==============================] - 1s 11ms/step - loss: 7.4156e-10 - accuracy: 1.0000 - val_loss: 2.0454e-12 - val_accuracy: 1.0000\n",
            "Epoch 26/50\n",
            "104/104 [==============================] - 1s 11ms/step - loss: 1.2353e-11 - accuracy: 1.0000 - val_loss: 2.0454e-12 - val_accuracy: 1.0000\n",
            "Epoch 27/50\n",
            "104/104 [==============================] - 1s 9ms/step - loss: 2.5182e-10 - accuracy: 1.0000 - val_loss: 1.9496e-12 - val_accuracy: 1.0000\n",
            "Epoch 28/50\n",
            "104/104 [==============================] - 1s 11ms/step - loss: 1.1257e-10 - accuracy: 1.0000 - val_loss: 1.9454e-12 - val_accuracy: 1.0000\n",
            "Epoch 29/50\n",
            "104/104 [==============================] - 1s 10ms/step - loss: 2.3991e-09 - accuracy: 1.0000 - val_loss: 5.5390e-13 - val_accuracy: 1.0000\n",
            "Epoch 30/50\n",
            "104/104 [==============================] - 1s 11ms/step - loss: 0.0057 - accuracy: 0.9997 - val_loss: 1.4466e-04 - val_accuracy: 1.0000\n",
            "Epoch 31/50\n",
            "104/104 [==============================] - 1s 11ms/step - loss: 3.8003e-06 - accuracy: 1.0000 - val_loss: 4.7210e-08 - val_accuracy: 1.0000\n",
            "Epoch 32/50\n",
            "104/104 [==============================] - 1s 11ms/step - loss: 2.3813e-07 - accuracy: 1.0000 - val_loss: 3.6633e-08 - val_accuracy: 1.0000\n",
            "Epoch 33/50\n",
            "104/104 [==============================] - 1s 11ms/step - loss: 6.2423e-07 - accuracy: 1.0000 - val_loss: 1.9914e-08 - val_accuracy: 1.0000\n",
            "Epoch 34/50\n",
            "104/104 [==============================] - 1s 10ms/step - loss: 3.1649e-07 - accuracy: 1.0000 - val_loss: 1.3562e-08 - val_accuracy: 1.0000\n",
            "Epoch 35/50\n",
            "104/104 [==============================] - 1s 11ms/step - loss: 1.5606e-06 - accuracy: 1.0000 - val_loss: 2.7359e-09 - val_accuracy: 1.0000\n",
            "Epoch 36/50\n",
            "104/104 [==============================] - 1s 10ms/step - loss: 5.2113e-08 - accuracy: 1.0000 - val_loss: 2.5207e-09 - val_accuracy: 1.0000\n",
            "Epoch 37/50\n",
            "104/104 [==============================] - 1s 10ms/step - loss: 2.4387e-08 - accuracy: 1.0000 - val_loss: 2.3928e-09 - val_accuracy: 1.0000\n",
            "Epoch 38/50\n",
            "104/104 [==============================] - 1s 10ms/step - loss: 8.1203e-07 - accuracy: 1.0000 - val_loss: 4.7848e-09 - val_accuracy: 1.0000\n",
            "Epoch 39/50\n",
            "104/104 [==============================] - 1s 12ms/step - loss: 4.5125e-08 - accuracy: 1.0000 - val_loss: 3.6457e-09 - val_accuracy: 1.0000\n",
            "Epoch 40/50\n",
            "104/104 [==============================] - 1s 7ms/step - loss: 2.0589e-08 - accuracy: 1.0000 - val_loss: 3.5788e-09 - val_accuracy: 1.0000\n",
            "Epoch 41/50\n",
            "104/104 [==============================] - 1s 7ms/step - loss: 2.2371e-07 - accuracy: 1.0000 - val_loss: 2.9166e-09 - val_accuracy: 1.0000\n",
            "Epoch 42/50\n",
            "104/104 [==============================] - 1s 7ms/step - loss: 9.8066e-08 - accuracy: 1.0000 - val_loss: 2.7864e-09 - val_accuracy: 1.0000\n",
            "Epoch 43/50\n",
            "104/104 [==============================] - 1s 11ms/step - loss: 4.6150e-08 - accuracy: 1.0000 - val_loss: 2.5246e-09 - val_accuracy: 1.0000\n",
            "Epoch 44/50\n",
            "104/104 [==============================] - 1s 12ms/step - loss: 5.0092e-06 - accuracy: 1.0000 - val_loss: 3.7429e-10 - val_accuracy: 1.0000\n",
            "Epoch 45/50\n",
            "104/104 [==============================] - 1s 8ms/step - loss: 8.4192e-05 - accuracy: 1.0000 - val_loss: 7.2017e-08 - val_accuracy: 1.0000\n",
            "Epoch 46/50\n",
            "104/104 [==============================] - 1s 7ms/step - loss: 4.4920e-06 - accuracy: 1.0000 - val_loss: 1.4883e-08 - val_accuracy: 1.0000\n",
            "Epoch 47/50\n",
            "104/104 [==============================] - 1s 7ms/step - loss: 1.1382e-06 - accuracy: 1.0000 - val_loss: 1.6178e-08 - val_accuracy: 1.0000\n",
            "Epoch 48/50\n",
            "104/104 [==============================] - 1s 7ms/step - loss: 4.5514e-06 - accuracy: 1.0000 - val_loss: 7.6664e-09 - val_accuracy: 1.0000\n",
            "Epoch 49/50\n",
            "104/104 [==============================] - 1s 7ms/step - loss: 2.2212e-07 - accuracy: 1.0000 - val_loss: 4.4569e-09 - val_accuracy: 1.0000\n",
            "Epoch 50/50\n",
            "104/104 [==============================] - 1s 7ms/step - loss: 5.4045e-07 - accuracy: 1.0000 - val_loss: 3.7959e-09 - val_accuracy: 1.0000\n"
          ]
        }
      ]
    },
    {
      "cell_type": "markdown",
      "source": [
        "## **Results**"
      ],
      "metadata": {
        "id": "BqVC-bqDU21D"
      }
    },
    {
      "cell_type": "code",
      "source": [
        "score = NN.evaluate(x_test, y_test, verbose = 0) \n",
        "\n",
        "print('Test loss:', score[0]) \n",
        "print('Test accuracy:', score[1])"
      ],
      "metadata": {
        "colab": {
          "base_uri": "https://localhost:8080/"
        },
        "id": "HgIA2jJcSPvP",
        "outputId": "18425b6a-ea27-46e9-b074-8def395c44a1"
      },
      "execution_count": null,
      "outputs": [
        {
          "output_type": "stream",
          "name": "stdout",
          "text": [
            "Test loss: 1.1781092882156372\n",
            "Test accuracy: 0.9632495045661926\n"
          ]
        }
      ]
    },
    {
      "cell_type": "code",
      "source": [
        "plt.plot(history.history['loss'])\n",
        "plt.plot(history.history['val_loss'])"
      ],
      "metadata": {
        "colab": {
          "base_uri": "https://localhost:8080/",
          "height": 282
        },
        "id": "uva2V6uwTvFC",
        "outputId": "d72e936a-3bd3-4c49-8047-d136b16809a1"
      },
      "execution_count": null,
      "outputs": [
        {
          "output_type": "execute_result",
          "data": {
            "text/plain": [
              "[<matplotlib.lines.Line2D at 0x7fc05468ac90>]"
            ]
          },
          "metadata": {},
          "execution_count": 115
        },
        {
          "output_type": "display_data",
          "data": {
            "text/plain": [
              "<Figure size 432x288 with 1 Axes>"
            ],
            "image/png": "[encoded data removed]"
          },
          "metadata": {
            "needs_background": "light"
          }
        }
      ]
    },
    {
      "cell_type": "code",
      "source": [
        "plt.plot(history.history['accuracy'])\n",
        "plt.plot(history.history['val_accuracy'])"
      ],
      "metadata": {
        "colab": {
          "base_uri": "https://localhost:8080/",
          "height": 282
        },
        "id": "92iHJ1PVTw4E",
        "outputId": "d9da1a44-4f7f-461d-ded0-00fca18076e3"
      },
      "execution_count": null,
      "outputs": [
        {
          "output_type": "execute_result",
          "data": {
            "text/plain": [
              "[<matplotlib.lines.Line2D at 0x7fc054820290>]"
            ]
          },
          "metadata": {},
          "execution_count": 116
        },
        {
          "output_type": "display_data",
          "data": {
            "text/plain": [
              "<Figure size 432x288 with 1 Axes>"
            ],
            "image/png": "[encoded data removed]"
          },
          "metadata": {
            "needs_background": "light"
          }
        }
      ]
    }
  ]
}