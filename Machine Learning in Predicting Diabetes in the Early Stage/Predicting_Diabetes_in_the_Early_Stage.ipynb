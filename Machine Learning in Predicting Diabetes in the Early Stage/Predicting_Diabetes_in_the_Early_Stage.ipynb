{
  "nbformat": 4,
  "nbformat_minor": 0,
  "metadata": {
    "colab": {
      "name": "Predicting Diabetes in the Early  Stage.ipynb",
      "provenance": [],
      "collapsed_sections": []
    },
    "kernelspec": {
      "name": "python3",
      "display_name": "Python 3"
    },
    "language_info": {
      "name": "python"
    }
  },
  "cells": [
    {
      "cell_type": "markdown",
      "source": [
        "## **Importing Libraries**"
      ],
      "metadata": {
        "id": "qdh3ylf4_4iL"
      }
    },
    {
      "cell_type": "code",
      "execution_count": null,
      "metadata": {
        "id": "eCpBYMNsKftb"
      },
      "outputs": [],
      "source": [
        "import numpy as np \n",
        "import pandas as pd\n",
        "import seaborn as sns\n",
        "import warnings\n",
        "import matplotlib.pyplot as plt\n",
        "from sklearn.metrics import confusion_matrix\n",
        "warnings.filterwarnings('ignore')"
      ]
    },
    {
      "cell_type": "markdown",
      "source": [
        "## **Load Data**"
      ],
      "metadata": {
        "id": "7eF36CMnAa1a"
      }
    },
    {
      "cell_type": "code",
      "source": [
        "df= pd.read_csv('/content/early_diabetes_data_upload.csv')"
      ],
      "metadata": {
        "id": "TPOmCyecyYnh"
      },
      "execution_count": null,
      "outputs": []
    },
    {
      "cell_type": "code",
      "source": [
        "df.head()"
      ],
      "metadata": {
        "colab": {
          "base_uri": "https://localhost:8080/",
          "height": 305
        },
        "id": "u84mbFUjyhA9",
        "outputId": "b1ebfb6d-e52a-4f63-9164-722e0d270721"
      },
      "execution_count": null,
      "outputs": [
        {
          "output_type": "execute_result",
          "data": {
            "text/plain": [
              "   Age Gender Polyuria Polydipsia sudden weight loss weakness Polyphagia  \\\n",
              "0   40   Male       No        Yes                 No      Yes         No   \n",
              "1   58   Male       No         No                 No      Yes         No   \n",
              "2   41   Male      Yes         No                 No      Yes        Yes   \n",
              "3   45   Male       No         No                Yes      Yes        Yes   \n",
              "4   60   Male      Yes        Yes                Yes      Yes        Yes   \n",
              "\n",
              "  Genital thrush visual blurring Itching Irritability delayed healing  \\\n",
              "0             No              No     Yes           No             Yes   \n",
              "1             No             Yes      No           No              No   \n",
              "2             No              No     Yes           No             Yes   \n",
              "3            Yes              No     Yes           No             Yes   \n",
              "4             No             Yes     Yes          Yes             Yes   \n",
              "\n",
              "  partial paresis muscle stiffness Alopecia Obesity     class  \n",
              "0              No              Yes      Yes     Yes  Positive  \n",
              "1             Yes               No      Yes      No  Positive  \n",
              "2              No              Yes      Yes      No  Positive  \n",
              "3              No               No       No      No  Positive  \n",
              "4             Yes              Yes      Yes     Yes  Positive  "
            ],
            "text/html": [
              "\n",
              "  <div id=\"df-8e0b646d-9cab-405c-8a48-65042bb09df0\">\n",
              "    <div class=\"colab-df-container\">\n",
              "      <div>\n",
              "<style scoped>\n",
              "    .dataframe tbody tr th:only-of-type {\n",
              "        vertical-align: middle;\n",
              "    }\n",
              "\n",
              "    .dataframe tbody tr th {\n",
              "        vertical-align: top;\n",
              "    }\n",
              "\n",
              "    .dataframe thead th {\n",
              "        text-align: right;\n",
              "    }\n",
              "</style>\n",
              "<table border=\"1\" class=\"dataframe\">\n",
              "  <thead>\n",
              "    <tr style=\"text-align: right;\">\n",
              "      <th></th>\n",
              "      <th>Age</th>\n",
              "      <th>Gender</th>\n",
              "      <th>Polyuria</th>\n",
              "      <th>Polydipsia</th>\n",
              "      <th>sudden weight loss</th>\n",
              "      <th>weakness</th>\n",
              "      <th>Polyphagia</th>\n",
              "      <th>Genital thrush</th>\n",
              "      <th>visual blurring</th>\n",
              "      <th>Itching</th>\n",
              "      <th>Irritability</th>\n",
              "      <th>delayed healing</th>\n",
              "      <th>partial paresis</th>\n",
              "      <th>muscle stiffness</th>\n",
              "      <th>Alopecia</th>\n",
              "      <th>Obesity</th>\n",
              "      <th>class</th>\n",
              "    </tr>\n",
              "  </thead>\n",
              "  <tbody>\n",
              "    <tr>\n",
              "      <th>0</th>\n",
              "      <td>40</td>\n",
              "      <td>Male</td>\n",
              "      <td>No</td>\n",
              "      <td>Yes</td>\n",
              "      <td>No</td>\n",
              "      <td>Yes</td>\n",
              "      <td>No</td>\n",
              "      <td>No</td>\n",
              "      <td>No</td>\n",
              "      <td>Yes</td>\n",
              "      <td>No</td>\n",
              "      <td>Yes</td>\n",
              "      <td>No</td>\n",
              "      <td>Yes</td>\n",
              "      <td>Yes</td>\n",
              "      <td>Yes</td>\n",
              "      <td>Positive</td>\n",
              "    </tr>\n",
              "    <tr>\n",
              "      <th>1</th>\n",
              "      <td>58</td>\n",
              "      <td>Male</td>\n",
              "      <td>No</td>\n",
              "      <td>No</td>\n",
              "      <td>No</td>\n",
              "      <td>Yes</td>\n",
              "      <td>No</td>\n",
              "      <td>No</td>\n",
              "      <td>Yes</td>\n",
              "      <td>No</td>\n",
              "      <td>No</td>\n",
              "      <td>No</td>\n",
              "      <td>Yes</td>\n",
              "      <td>No</td>\n",
              "      <td>Yes</td>\n",
              "      <td>No</td>\n",
              "      <td>Positive</td>\n",
              "    </tr>\n",
              "    <tr>\n",
              "      <th>2</th>\n",
              "      <td>41</td>\n",
              "      <td>Male</td>\n",
              "      <td>Yes</td>\n",
              "      <td>No</td>\n",
              "      <td>No</td>\n",
              "      <td>Yes</td>\n",
              "      <td>Yes</td>\n",
              "      <td>No</td>\n",
              "      <td>No</td>\n",
              "      <td>Yes</td>\n",
              "      <td>No</td>\n",
              "      <td>Yes</td>\n",
              "      <td>No</td>\n",
              "      <td>Yes</td>\n",
              "      <td>Yes</td>\n",
              "      <td>No</td>\n",
              "      <td>Positive</td>\n",
              "    </tr>\n",
              "    <tr>\n",
              "      <th>3</th>\n",
              "      <td>45</td>\n",
              "      <td>Male</td>\n",
              "      <td>No</td>\n",
              "      <td>No</td>\n",
              "      <td>Yes</td>\n",
              "      <td>Yes</td>\n",
              "      <td>Yes</td>\n",
              "      <td>Yes</td>\n",
              "      <td>No</td>\n",
              "      <td>Yes</td>\n",
              "      <td>No</td>\n",
              "      <td>Yes</td>\n",
              "      <td>No</td>\n",
              "      <td>No</td>\n",
              "      <td>No</td>\n",
              "      <td>No</td>\n",
              "      <td>Positive</td>\n",
              "    </tr>\n",
              "    <tr>\n",
              "      <th>4</th>\n",
              "      <td>60</td>\n",
              "      <td>Male</td>\n",
              "      <td>Yes</td>\n",
              "      <td>Yes</td>\n",
              "      <td>Yes</td>\n",
              "      <td>Yes</td>\n",
              "      <td>Yes</td>\n",
              "      <td>No</td>\n",
              "      <td>Yes</td>\n",
              "      <td>Yes</td>\n",
              "      <td>Yes</td>\n",
              "      <td>Yes</td>\n",
              "      <td>Yes</td>\n",
              "      <td>Yes</td>\n",
              "      <td>Yes</td>\n",
              "      <td>Yes</td>\n",
              "      <td>Positive</td>\n",
              "    </tr>\n",
              "  </tbody>\n",
              "</table>\n",
              "</div>\n",
              "      <button class=\"colab-df-convert\" onclick=\"convertToInteractive('df-8e0b646d-9cab-405c-8a48-65042bb09df0')\"\n",
              "              title=\"Convert this dataframe to an interactive table.\"\n",
              "              style=\"display:none;\">\n",
              "        \n",
              "  <svg xmlns=\"http://www.w3.org/2000/svg\" height=\"24px\"viewBox=\"0 0 24 24\"\n",
              "       width=\"24px\">\n",
              "    <path d=\"M0 0h24v24H0V0z\" fill=\"none\"/>\n",
              "    <path d=\"M18.56 5.44l.94 2.06.94-2.06 2.06-.94-2.06-.94-.94-2.06-.94 2.06-2.06.94zm-11 1L8.5 8.5l.94-2.06 2.06-.94-2.06-.94L8.5 2.5l-.94 2.06-2.06.94zm10 10l.94 2.06.94-2.06 2.06-.94-2.06-.94-.94-2.06-.94 2.06-2.06.94z\"/><path d=\"M17.41 7.96l-1.37-1.37c-.4-.4-.92-.59-1.43-.59-.52 0-1.04.2-1.43.59L10.3 9.45l-7.72 7.72c-.78.78-.78 2.05 0 2.83L4 21.41c.39.39.9.59 1.41.59.51 0 1.02-.2 1.41-.59l7.78-7.78 2.81-2.81c.8-.78.8-2.07 0-2.86zM5.41 20L4 18.59l7.72-7.72 1.47 1.35L5.41 20z\"/>\n",
              "  </svg>\n",
              "      </button>\n",
              "      \n",
              "  <style>\n",
              "    .colab-df-container {\n",
              "      display:flex;\n",
              "      flex-wrap:wrap;\n",
              "      gap: 12px;\n",
              "    }\n",
              "\n",
              "    .colab-df-convert {\n",
              "      background-color: #E8F0FE;\n",
              "      border: none;\n",
              "      border-radius: 50%;\n",
              "      cursor: pointer;\n",
              "      display: none;\n",
              "      fill: #1967D2;\n",
              "      height: 32px;\n",
              "      padding: 0 0 0 0;\n",
              "      width: 32px;\n",
              "    }\n",
              "\n",
              "    .colab-df-convert:hover {\n",
              "      background-color: #E2EBFA;\n",
              "      box-shadow: 0px 1px 2px rgba(60, 64, 67, 0.3), 0px 1px 3px 1px rgba(60, 64, 67, 0.15);\n",
              "      fill: #174EA6;\n",
              "    }\n",
              "\n",
              "    [theme=dark] .colab-df-convert {\n",
              "      background-color: #3B4455;\n",
              "      fill: #D2E3FC;\n",
              "    }\n",
              "\n",
              "    [theme=dark] .colab-df-convert:hover {\n",
              "      background-color: #434B5C;\n",
              "      box-shadow: 0px 1px 3px 1px rgba(0, 0, 0, 0.15);\n",
              "      filter: drop-shadow(0px 1px 2px rgba(0, 0, 0, 0.3));\n",
              "      fill: #FFFFFF;\n",
              "    }\n",
              "  </style>\n",
              "\n",
              "      <script>\n",
              "        const buttonEl =\n",
              "          document.querySelector('#df-8e0b646d-9cab-405c-8a48-65042bb09df0 button.colab-df-convert');\n",
              "        buttonEl.style.display =\n",
              "          google.colab.kernel.accessAllowed ? 'block' : 'none';\n",
              "\n",
              "        async function convertToInteractive(key) {\n",
              "          const element = document.querySelector('#df-8e0b646d-9cab-405c-8a48-65042bb09df0');\n",
              "          const dataTable =\n",
              "            await google.colab.kernel.invokeFunction('convertToInteractive',\n",
              "                                                     [key], {});\n",
              "          if (!dataTable) return;\n",
              "\n",
              "          const docLinkHtml = 'Like what you see? Visit the ' +\n",
              "            '<a target=\"_blank\" href=https://colab.research.google.com/notebooks/data_table.ipynb>data table notebook</a>'\n",
              "            + ' to learn more about interactive tables.';\n",
              "          element.innerHTML = '';\n",
              "          dataTable['output_type'] = 'display_data';\n",
              "          await google.colab.output.renderOutput(dataTable, element);\n",
              "          const docLink = document.createElement('div');\n",
              "          docLink.innerHTML = docLinkHtml;\n",
              "          element.appendChild(docLink);\n",
              "        }\n",
              "      </script>\n",
              "    </div>\n",
              "  </div>\n",
              "  "
            ]
          },
          "metadata": {},
          "execution_count": 43
        }
      ]
    },
    {
      "cell_type": "code",
      "source": [
        "df.shape"
      ],
      "metadata": {
        "colab": {
          "base_uri": "https://localhost:8080/"
        },
        "id": "NGyWsMaGyi7-",
        "outputId": "4b2691ca-6a48-4ae9-fc5c-42ab6b2342a4"
      },
      "execution_count": null,
      "outputs": [
        {
          "output_type": "execute_result",
          "data": {
            "text/plain": [
              "(520, 17)"
            ]
          },
          "metadata": {},
          "execution_count": 44
        }
      ]
    },
    {
      "cell_type": "code",
      "source": [
        "df.info()"
      ],
      "metadata": {
        "colab": {
          "base_uri": "https://localhost:8080/"
        },
        "id": "4tPhdDxTy03N",
        "outputId": "c54f1815-80f7-4689-823a-c9b3e4065794"
      },
      "execution_count": null,
      "outputs": [
        {
          "output_type": "stream",
          "name": "stdout",
          "text": [
            "<class 'pandas.core.frame.DataFrame'>\n",
            "RangeIndex: 520 entries, 0 to 519\n",
            "Data columns (total 17 columns):\n",
            " #   Column              Non-Null Count  Dtype \n",
            "---  ------              --------------  ----- \n",
            " 0   Age                 520 non-null    int64 \n",
            " 1   Gender              520 non-null    object\n",
            " 2   Polyuria            520 non-null    object\n",
            " 3   Polydipsia          520 non-null    object\n",
            " 4   sudden weight loss  520 non-null    object\n",
            " 5   weakness            520 non-null    object\n",
            " 6   Polyphagia          520 non-null    object\n",
            " 7   Genital thrush      520 non-null    object\n",
            " 8   visual blurring     520 non-null    object\n",
            " 9   Itching             520 non-null    object\n",
            " 10  Irritability        520 non-null    object\n",
            " 11  delayed healing     520 non-null    object\n",
            " 12  partial paresis     520 non-null    object\n",
            " 13  muscle stiffness    520 non-null    object\n",
            " 14  Alopecia            520 non-null    object\n",
            " 15  Obesity             520 non-null    object\n",
            " 16  class               520 non-null    object\n",
            "dtypes: int64(1), object(16)\n",
            "memory usage: 69.2+ KB\n"
          ]
        }
      ]
    },
    {
      "cell_type": "code",
      "source": [
        "df.isna().sum()"
      ],
      "metadata": {
        "colab": {
          "base_uri": "https://localhost:8080/"
        },
        "id": "4PCsPQKWy3gQ",
        "outputId": "220483d6-707a-4369-d7cb-5aab9dae990d"
      },
      "execution_count": null,
      "outputs": [
        {
          "output_type": "execute_result",
          "data": {
            "text/plain": [
              "Age                   0\n",
              "Gender                0\n",
              "Polyuria              0\n",
              "Polydipsia            0\n",
              "sudden weight loss    0\n",
              "weakness              0\n",
              "Polyphagia            0\n",
              "Genital thrush        0\n",
              "visual blurring       0\n",
              "Itching               0\n",
              "Irritability          0\n",
              "delayed healing       0\n",
              "partial paresis       0\n",
              "muscle stiffness      0\n",
              "Alopecia              0\n",
              "Obesity               0\n",
              "class                 0\n",
              "dtype: int64"
            ]
          },
          "metadata": {},
          "execution_count": 46
        }
      ]
    },
    {
      "cell_type": "markdown",
      "source": [
        "## **EDA**"
      ],
      "metadata": {
        "id": "Heazo73jB6fZ"
      }
    },
    {
      "cell_type": "code",
      "source": [
        "\n",
        "fig = plt.figure(figsize = (5, 5))\n",
        "plt.bar(df['class'], df['Age'], color ='green',width=0.3)\n",
        "plt.xlabel(\"class\")\n",
        "plt.ylabel(\"Age\")\n",
        "plt.title(\"The average age for positive and negative samples\")\n",
        "plt.show()"
      ],
      "metadata": {
        "colab": {
          "base_uri": "https://localhost:8080/",
          "height": 350
        },
        "id": "GSpz6A4Vy8Hc",
        "outputId": "2c37e47a-a2dc-4001-eed7-a01cd4028578"
      },
      "execution_count": null,
      "outputs": [
        {
          "output_type": "display_data",
          "data": {
            "text/plain": [
              "<Figure size 360x360 with 1 Axes>"
            ],
            "image/png": "[encoded data removed]"
          },
          "metadata": {
            "needs_background": "light"
          }
        }
      ]
    },
    {
      "cell_type": "code",
      "source": [
        "fig = plt.figure(figsize = (5, 5))\n",
        "plt.bar(df['Gender'], df['Age'], color ='green' , width=0.3)\n",
        "plt.xlabel(\"class\")\n",
        "plt.ylabel(\"Age\")\n",
        "plt.title(\"The average age for positive and negative samples\")\n",
        "plt.show()"
      ],
      "metadata": {
        "colab": {
          "base_uri": "https://localhost:8080/",
          "height": 350
        },
        "id": "ZU_fTQ1f7ULr",
        "outputId": "dda545df-0df1-4163-9624-b72ce2da8875"
      },
      "execution_count": null,
      "outputs": [
        {
          "output_type": "display_data",
          "data": {
            "text/plain": [
              "<Figure size 360x360 with 1 Axes>"
            ],
            "image/png": "[encoded data removed]"
          },
          "metadata": {
            "needs_background": "light"
          }
        }
      ]
    },
    {
      "cell_type": "code",
      "source": [
        "\n",
        "fig = plt.figure(figsize = (5, 5))\n",
        "plt.bar(df['visual blurring'], df['Age'], color ='green', width=0.3)\n",
        "plt.xlabel(\"visual blurring \")\n",
        "plt.ylabel(\"Age\")\n",
        "plt.title(\"The average age for positive and negative samples\")\n",
        "plt.show()"
      ],
      "metadata": {
        "colab": {
          "base_uri": "https://localhost:8080/",
          "height": 350
        },
        "id": "Umy8oT15RCuu",
        "outputId": "6ee370ec-cdeb-4d04-fc9a-b64b64ada7e5"
      },
      "execution_count": null,
      "outputs": [
        {
          "output_type": "display_data",
          "data": {
            "text/plain": [
              "<Figure size 360x360 with 1 Axes>"
            ],
            "image/png": "[encoded data removed]"
          },
          "metadata": {
            "needs_background": "light"
          }
        }
      ]
    },
    {
      "cell_type": "code",
      "source": [
        "fig = plt.figure(figsize = (5, 5))\n",
        "plt.scatter(df['visual blurring'], df['Age'], color ='green')\n",
        "plt.scatter(df['Alopecia'], df['Age'])"
      ],
      "metadata": {
        "colab": {
          "base_uri": "https://localhost:8080/",
          "height": 337
        },
        "id": "vrVC3ZB8RYOT",
        "outputId": "55079082-5b06-4dc6-ebb0-640dfe74bdc7"
      },
      "execution_count": null,
      "outputs": [
        {
          "output_type": "execute_result",
          "data": {
            "text/plain": [
              "<matplotlib.collections.PathCollection at 0x7f1868b97410>"
            ]
          },
          "metadata": {},
          "execution_count": 50
        },
        {
          "output_type": "display_data",
          "data": {
            "text/plain": [
              "<Figure size 360x360 with 1 Axes>"
            ],
            "image/png": "[encoded data removed]"
          },
          "metadata": {
            "needs_background": "light"
          }
        }
      ]
    },
    {
      "cell_type": "code",
      "source": [
        "\n",
        "sns.countplot(df['class'])\n"
      ],
      "metadata": {
        "colab": {
          "base_uri": "https://localhost:8080/",
          "height": 296
        },
        "id": "LrKx_lP59Lss",
        "outputId": "881d4f2f-757f-49f3-d8ed-cae18228d5cf"
      },
      "execution_count": null,
      "outputs": [
        {
          "output_type": "execute_result",
          "data": {
            "text/plain": [
              "<matplotlib.axes._subplots.AxesSubplot at 0x7f1869ea6910>"
            ]
          },
          "metadata": {},
          "execution_count": 51
        },
        {
          "output_type": "display_data",
          "data": {
            "text/plain": [
              "<Figure size 432x288 with 1 Axes>"
            ],
            "image/png": "[encoded data removed]"
          },
          "metadata": {
            "needs_background": "light"
          }
        }
      ]
    },
    {
      "cell_type": "markdown",
      "source": [
        "## **Data Preprocessing**"
      ],
      "metadata": {
        "id": "LF_53LdGCA9f"
      }
    },
    {
      "cell_type": "code",
      "source": [
        "from sklearn.preprocessing import MinMaxScaler\n",
        "mms= MinMaxScaler()\n",
        "df['Age']=mms.fit_transform(df[['Age']])"
      ],
      "metadata": {
        "id": "j4yqLyWEQb4T"
      },
      "execution_count": null,
      "outputs": []
    },
    {
      "cell_type": "code",
      "source": [
        "from sklearn.preprocessing import LabelEncoder\n",
        "Gender= LabelEncoder()\n",
        "Polyuria= LabelEncoder()\n",
        "Polydispsia= LabelEncoder()\n",
        "sudden_weight_loss= LabelEncoder()\n",
        "weakness= LabelEncoder()\n",
        "Polyphagia= LabelEncoder()\n",
        "Genital_thrush= LabelEncoder()\n",
        "visual_blurring= LabelEncoder()\n",
        "Itching= LabelEncoder()\n",
        "Irritability= LabelEncoder()\n",
        "delayed_healing= LabelEncoder()\n",
        "partial_paresis= LabelEncoder()\n",
        "muscle_stiffness= LabelEncoder() \n",
        "Alopecia= LabelEncoder()\n",
        "Obesity= LabelEncoder()\n",
        "Class = LabelEncoder()\n",
        "\n",
        "df['Gender']=Gender.fit_transform(df['Gender'])\n",
        "df['Polyuria']=Polyuria.fit_transform(df['Polyuria'])\n",
        "df['Polydipsia']=Polydispsia.fit_transform(df['Polydipsia'])\n",
        "df['sudden weight loss']=sudden_weight_loss.fit_transform(df['sudden weight loss'])\n",
        "df['weakness']=weakness.fit_transform(df['weakness'])\n",
        "df['Polyphagia']=Polyphagia.fit_transform(df['Polyphagia'])\n",
        "df['Genital thrush']=Genital_thrush.fit_transform(df['Genital thrush'])\n",
        "df['visual blurring']=visual_blurring.fit_transform(df['visual blurring'])\n",
        "df['Itching']=Itching.fit_transform(df['Itching'])\n",
        "df['Irritability']=Irritability.fit_transform(df['Irritability'])\n",
        "df['delayed healing']=delayed_healing.fit_transform(df['delayed healing'])\n",
        "df['partial paresis']=partial_paresis.fit_transform(df['partial paresis'])\n",
        "df['muscle stiffness']=muscle_stiffness.fit_transform(df['muscle stiffness'])\n",
        "df['Alopecia']=Alopecia.fit_transform(df['Alopecia'])\n",
        "df['Obesity']=Obesity.fit_transform(df['Obesity'])\n",
        "df['class']=Class.fit_transform(df['class'])"
      ],
      "metadata": {
        "id": "K458udQGd7sj"
      },
      "execution_count": null,
      "outputs": []
    },
    {
      "cell_type": "code",
      "source": [
        "df.head(3)"
      ],
      "metadata": {
        "colab": {
          "base_uri": "https://localhost:8080/",
          "height": 242
        },
        "id": "ukPTcRX8yN7M",
        "outputId": "02c46629-be39-4936-e859-9aba6966b0c1"
      },
      "execution_count": null,
      "outputs": [
        {
          "output_type": "execute_result",
          "data": {
            "text/plain": [
              "        Age  Gender  Polyuria  Polydipsia  sudden weight loss  weakness  \\\n",
              "0  0.324324       1         0           1                   0         1   \n",
              "1  0.567568       1         0           0                   0         1   \n",
              "2  0.337838       1         1           0                   0         1   \n",
              "\n",
              "   Polyphagia  Genital thrush  visual blurring  Itching  Irritability  \\\n",
              "0           0               0                0        1             0   \n",
              "1           0               0                1        0             0   \n",
              "2           1               0                0        1             0   \n",
              "\n",
              "   delayed healing  partial paresis  muscle stiffness  Alopecia  Obesity  \\\n",
              "0                1                0                 1         1        1   \n",
              "1                0                1                 0         1        0   \n",
              "2                1                0                 1         1        0   \n",
              "\n",
              "   class  \n",
              "0      1  \n",
              "1      1  \n",
              "2      1  "
            ],
            "text/html": [
              "\n",
              "  <div id=\"df-19a5ed35-0c15-434a-ba3a-2f3447b2d2d5\">\n",
              "    <div class=\"colab-df-container\">\n",
              "      <div>\n",
              "<style scoped>\n",
              "    .dataframe tbody tr th:only-of-type {\n",
              "        vertical-align: middle;\n",
              "    }\n",
              "\n",
              "    .dataframe tbody tr th {\n",
              "        vertical-align: top;\n",
              "    }\n",
              "\n",
              "    .dataframe thead th {\n",
              "        text-align: right;\n",
              "    }\n",
              "</style>\n",
              "<table border=\"1\" class=\"dataframe\">\n",
              "  <thead>\n",
              "    <tr style=\"text-align: right;\">\n",
              "      <th></th>\n",
              "      <th>Age</th>\n",
              "      <th>Gender</th>\n",
              "      <th>Polyuria</th>\n",
              "      <th>Polydipsia</th>\n",
              "      <th>sudden weight loss</th>\n",
              "      <th>weakness</th>\n",
              "      <th>Polyphagia</th>\n",
              "      <th>Genital thrush</th>\n",
              "      <th>visual blurring</th>\n",
              "      <th>Itching</th>\n",
              "      <th>Irritability</th>\n",
              "      <th>delayed healing</th>\n",
              "      <th>partial paresis</th>\n",
              "      <th>muscle stiffness</th>\n",
              "      <th>Alopecia</th>\n",
              "      <th>Obesity</th>\n",
              "      <th>class</th>\n",
              "    </tr>\n",
              "  </thead>\n",
              "  <tbody>\n",
              "    <tr>\n",
              "      <th>0</th>\n",
              "      <td>0.324324</td>\n",
              "      <td>1</td>\n",
              "      <td>0</td>\n",
              "      <td>1</td>\n",
              "      <td>0</td>\n",
              "      <td>1</td>\n",
              "      <td>0</td>\n",
              "      <td>0</td>\n",
              "      <td>0</td>\n",
              "      <td>1</td>\n",
              "      <td>0</td>\n",
              "      <td>1</td>\n",
              "      <td>0</td>\n",
              "      <td>1</td>\n",
              "      <td>1</td>\n",
              "      <td>1</td>\n",
              "      <td>1</td>\n",
              "    </tr>\n",
              "    <tr>\n",
              "      <th>1</th>\n",
              "      <td>0.567568</td>\n",
              "      <td>1</td>\n",
              "      <td>0</td>\n",
              "      <td>0</td>\n",
              "      <td>0</td>\n",
              "      <td>1</td>\n",
              "      <td>0</td>\n",
              "      <td>0</td>\n",
              "      <td>1</td>\n",
              "      <td>0</td>\n",
              "      <td>0</td>\n",
              "      <td>0</td>\n",
              "      <td>1</td>\n",
              "      <td>0</td>\n",
              "      <td>1</td>\n",
              "      <td>0</td>\n",
              "      <td>1</td>\n",
              "    </tr>\n",
              "    <tr>\n",
              "      <th>2</th>\n",
              "      <td>0.337838</td>\n",
              "      <td>1</td>\n",
              "      <td>1</td>\n",
              "      <td>0</td>\n",
              "      <td>0</td>\n",
              "      <td>1</td>\n",
              "      <td>1</td>\n",
              "      <td>0</td>\n",
              "      <td>0</td>\n",
              "      <td>1</td>\n",
              "      <td>0</td>\n",
              "      <td>1</td>\n",
              "      <td>0</td>\n",
              "      <td>1</td>\n",
              "      <td>1</td>\n",
              "      <td>0</td>\n",
              "      <td>1</td>\n",
              "    </tr>\n",
              "  </tbody>\n",
              "</table>\n",
              "</div>\n",
              "      <button class=\"colab-df-convert\" onclick=\"convertToInteractive('df-19a5ed35-0c15-434a-ba3a-2f3447b2d2d5')\"\n",
              "              title=\"Convert this dataframe to an interactive table.\"\n",
              "              style=\"display:none;\">\n",
              "        \n",
              "  <svg xmlns=\"http://www.w3.org/2000/svg\" height=\"24px\"viewBox=\"0 0 24 24\"\n",
              "       width=\"24px\">\n",
              "    <path d=\"M0 0h24v24H0V0z\" fill=\"none\"/>\n",
              "    <path d=\"M18.56 5.44l.94 2.06.94-2.06 2.06-.94-2.06-.94-.94-2.06-.94 2.06-2.06.94zm-11 1L8.5 8.5l.94-2.06 2.06-.94-2.06-.94L8.5 2.5l-.94 2.06-2.06.94zm10 10l.94 2.06.94-2.06 2.06-.94-2.06-.94-.94-2.06-.94 2.06-2.06.94z\"/><path d=\"M17.41 7.96l-1.37-1.37c-.4-.4-.92-.59-1.43-.59-.52 0-1.04.2-1.43.59L10.3 9.45l-7.72 7.72c-.78.78-.78 2.05 0 2.83L4 21.41c.39.39.9.59 1.41.59.51 0 1.02-.2 1.41-.59l7.78-7.78 2.81-2.81c.8-.78.8-2.07 0-2.86zM5.41 20L4 18.59l7.72-7.72 1.47 1.35L5.41 20z\"/>\n",
              "  </svg>\n",
              "      </button>\n",
              "      \n",
              "  <style>\n",
              "    .colab-df-container {\n",
              "      display:flex;\n",
              "      flex-wrap:wrap;\n",
              "      gap: 12px;\n",
              "    }\n",
              "\n",
              "    .colab-df-convert {\n",
              "      background-color: #E8F0FE;\n",
              "      border: none;\n",
              "      border-radius: 50%;\n",
              "      cursor: pointer;\n",
              "      display: none;\n",
              "      fill: #1967D2;\n",
              "      height: 32px;\n",
              "      padding: 0 0 0 0;\n",
              "      width: 32px;\n",
              "    }\n",
              "\n",
              "    .colab-df-convert:hover {\n",
              "      background-color: #E2EBFA;\n",
              "      box-shadow: 0px 1px 2px rgba(60, 64, 67, 0.3), 0px 1px 3px 1px rgba(60, 64, 67, 0.15);\n",
              "      fill: #174EA6;\n",
              "    }\n",
              "\n",
              "    [theme=dark] .colab-df-convert {\n",
              "      background-color: #3B4455;\n",
              "      fill: #D2E3FC;\n",
              "    }\n",
              "\n",
              "    [theme=dark] .colab-df-convert:hover {\n",
              "      background-color: #434B5C;\n",
              "      box-shadow: 0px 1px 3px 1px rgba(0, 0, 0, 0.15);\n",
              "      filter: drop-shadow(0px 1px 2px rgba(0, 0, 0, 0.3));\n",
              "      fill: #FFFFFF;\n",
              "    }\n",
              "  </style>\n",
              "\n",
              "      <script>\n",
              "        const buttonEl =\n",
              "          document.querySelector('#df-19a5ed35-0c15-434a-ba3a-2f3447b2d2d5 button.colab-df-convert');\n",
              "        buttonEl.style.display =\n",
              "          google.colab.kernel.accessAllowed ? 'block' : 'none';\n",
              "\n",
              "        async function convertToInteractive(key) {\n",
              "          const element = document.querySelector('#df-19a5ed35-0c15-434a-ba3a-2f3447b2d2d5');\n",
              "          const dataTable =\n",
              "            await google.colab.kernel.invokeFunction('convertToInteractive',\n",
              "                                                     [key], {});\n",
              "          if (!dataTable) return;\n",
              "\n",
              "          const docLinkHtml = 'Like what you see? Visit the ' +\n",
              "            '<a target=\"_blank\" href=https://colab.research.google.com/notebooks/data_table.ipynb>data table notebook</a>'\n",
              "            + ' to learn more about interactive tables.';\n",
              "          element.innerHTML = '';\n",
              "          dataTable['output_type'] = 'display_data';\n",
              "          await google.colab.output.renderOutput(dataTable, element);\n",
              "          const docLink = document.createElement('div');\n",
              "          docLink.innerHTML = docLinkHtml;\n",
              "          element.appendChild(docLink);\n",
              "        }\n",
              "      </script>\n",
              "    </div>\n",
              "  </div>\n",
              "  "
            ]
          },
          "metadata": {},
          "execution_count": 54
        }
      ]
    },
    {
      "cell_type": "code",
      "source": [
        "x=df.drop(['class'], axis=1)\n",
        "y= df['class']"
      ],
      "metadata": {
        "id": "_wDt5yNyBh8_"
      },
      "execution_count": null,
      "outputs": []
    },
    {
      "cell_type": "markdown",
      "source": [
        "## **Train Test Split**"
      ],
      "metadata": {
        "id": "Lj0wFmLvCJIb"
      }
    },
    {
      "cell_type": "code",
      "source": [
        "from sklearn.model_selection import train_test_split\n",
        "x_train,x_test,y_train,y_test = train_test_split(x,y,test_size=0.25, random_state=42)"
      ],
      "metadata": {
        "id": "JmfnmCOBBbCx"
      },
      "execution_count": null,
      "outputs": []
    },
    {
      "cell_type": "code",
      "source": [
        "print(x_train.shape)\n",
        "print(x_test.shape)"
      ],
      "metadata": {
        "colab": {
          "base_uri": "https://localhost:8080/"
        },
        "id": "0YcW_hPRKEZr",
        "outputId": "001f062b-984e-410a-ae8b-294d5f68245e"
      },
      "execution_count": null,
      "outputs": [
        {
          "output_type": "stream",
          "name": "stdout",
          "text": [
            "(390, 16)\n",
            "(130, 16)\n"
          ]
        }
      ]
    },
    {
      "cell_type": "markdown",
      "source": [
        "## **Model Building**"
      ],
      "metadata": {
        "id": "7JPHXVeaCOHo"
      }
    },
    {
      "cell_type": "markdown",
      "source": [
        "**Logistic Regression**\n"
      ],
      "metadata": {
        "id": "w2ZxZuJkCTz-"
      }
    },
    {
      "cell_type": "code",
      "source": [
        "from sklearn.linear_model import LogisticRegression\n",
        "Logreg = LogisticRegression()\n",
        "Logreg.fit(x_train,y_train)"
      ],
      "metadata": {
        "colab": {
          "base_uri": "https://localhost:8080/"
        },
        "id": "s9uaph1POryA",
        "outputId": "5e865f47-9aac-45f7-eb3d-9204a72e3e6f"
      },
      "execution_count": null,
      "outputs": [
        {
          "output_type": "execute_result",
          "data": {
            "text/plain": [
              "LogisticRegression()"
            ]
          },
          "metadata": {},
          "execution_count": 58
        }
      ]
    },
    {
      "cell_type": "markdown",
      "source": [
        "**Score**"
      ],
      "metadata": {
        "id": "OPF3mI4XEU50"
      }
    },
    {
      "cell_type": "code",
      "source": [
        "test = 8/130\n",
        "train=28/390\n",
        "print('test error=',test)\n",
        "print('train error=',train)\n",
        "print('---------------------------------------------------')\n",
        "\n",
        "print('test Accuracy', Logreg.score(x_test,y_test))\n",
        "print('train Accuracy', Logreg.score(x_train,y_train))\n"
      ],
      "metadata": {
        "colab": {
          "base_uri": "https://localhost:8080/"
        },
        "id": "rn4c0MSDoLvs",
        "outputId": "32dc7a15-aac0-4c6c-a229-9cdcbb503c1f"
      },
      "execution_count": null,
      "outputs": [
        {
          "output_type": "stream",
          "name": "stdout",
          "text": [
            "test error= 0.06153846153846154\n",
            "train error= 0.07179487179487179\n",
            "---------------------------------------------------\n",
            "test Accuracy 0.9384615384615385\n",
            "train Accuracy 0.9282051282051282\n"
          ]
        }
      ]
    },
    {
      "cell_type": "markdown",
      "source": [
        "**Confusion Matrix**"
      ],
      "metadata": {
        "id": "bGAAesbNEgOU"
      }
    },
    {
      "cell_type": "code",
      "source": [
        "\n",
        "pred1 = Logreg.predict(x_test)\n",
        "cm = confusion_matrix(y_test,pred1)\n",
        "\n",
        "plt.figure(figsize=(7,5))\n",
        "sns.heatmap(cm/np.sum(cm), annot=True, fmt='.1%',)\n",
        "plt.xlabel('Predicted')\n",
        "plt.ylabel('Truth')\n",
        "\n",
        "plt.figure(figsize=(7,5))\n",
        "sns.heatmap(cm, annot=True)\n",
        "plt.xlabel('Predicted')\n",
        "plt.ylabel('Truth')"
      ],
      "metadata": {
        "id": "gMLptkbXnw3Q",
        "colab": {
          "base_uri": "https://localhost:8080/",
          "height": 672
        },
        "outputId": "5406b861-28d9-4044-8fba-6aebbf6635aa"
      },
      "execution_count": null,
      "outputs": [
        {
          "output_type": "execute_result",
          "data": {
            "text/plain": [
              "Text(42.0, 0.5, 'Truth')"
            ]
          },
          "metadata": {},
          "execution_count": 60
        },
        {
          "output_type": "display_data",
          "data": {
            "text/plain": [
              "<Figure size 504x360 with 2 Axes>"
            ],
            "image/png": "[encoded data removed]"
          },
          "metadata": {
            "needs_background": "light"
          }
        },
        {
          "output_type": "display_data",
          "data": {
            "text/plain": [
              "<Figure size 504x360 with 2 Axes>"
            ],
            "image/png": "[encoded data removed]"
          },
          "metadata": {
            "needs_background": "light"
          }
        }
      ]
    },
    {
      "cell_type": "code",
      "source": [
        "\n",
        "pred1 = Logreg.predict(x_train)\n",
        "cm = confusion_matrix(y_train,pred1)\n",
        "\n",
        "plt.figure(figsize=(7,5))\n",
        "sns.heatmap(cm/np.sum(cm), annot=True, fmt='.1%',)\n",
        "plt.xlabel('Predicted')\n",
        "plt.ylabel('Truth')\n",
        "\n",
        "plt.figure(figsize=(7,5))\n",
        "sns.heatmap(cm, annot=True)\n",
        "plt.xlabel('Predicted')\n",
        "plt.ylabel('Truth')"
      ],
      "metadata": {
        "colab": {
          "base_uri": "https://localhost:8080/",
          "height": 668
        },
        "id": "F-dCxCBtQfRw",
        "outputId": "48bd6608-7926-4680-b1a2-14e005265eda"
      },
      "execution_count": null,
      "outputs": [
        {
          "output_type": "execute_result",
          "data": {
            "text/plain": [
              "Text(42.0, 0.5, 'Truth')"
            ]
          },
          "metadata": {},
          "execution_count": 61
        },
        {
          "output_type": "display_data",
          "data": {
            "text/plain": [
              "<Figure size 504x360 with 2 Axes>"
            ],
            "image/png": "[encoded data removed]"
          },
          "metadata": {
            "needs_background": "light"
          }
        },
        {
          "output_type": "display_data",
          "data": {
            "text/plain": [
              "<Figure size 504x360 with 2 Axes>"
            ],
            "image/png": "[encoded data removed]"
          },
          "metadata": {
            "needs_background": "light"
          }
        }
      ]
    },
    {
      "cell_type": "markdown",
      "source": [
        "**Support Vector Machine**"
      ],
      "metadata": {
        "id": "OTp5Oz0CEoyv"
      }
    },
    {
      "cell_type": "code",
      "source": [
        "from sklearn.svm import SVC\n",
        "svm=SVC(kernel='rbf')\n",
        "svm.fit(x_train,y_train)"
      ],
      "metadata": {
        "colab": {
          "base_uri": "https://localhost:8080/"
        },
        "id": "Wl19z5TruaCw",
        "outputId": "38401ece-c988-4cef-c93c-e78d9d63bb6c"
      },
      "execution_count": null,
      "outputs": [
        {
          "output_type": "execute_result",
          "data": {
            "text/plain": [
              "SVC()"
            ]
          },
          "metadata": {},
          "execution_count": 62
        }
      ]
    },
    {
      "cell_type": "markdown",
      "source": [
        "**Score**"
      ],
      "metadata": {
        "id": "k3tAkwrqEu85"
      }
    },
    {
      "cell_type": "code",
      "source": [
        "test = 3/130\n",
        "train=8/390\n",
        "print('test error=',test)\n",
        "print('train error=',train)\n",
        "print('---------------------------------------------------')\n",
        "print('test Accuracy=', svm.score(x_test,y_test))\n",
        "print('train Accuracy=', svm.score(x_train,y_train))"
      ],
      "metadata": {
        "colab": {
          "base_uri": "https://localhost:8080/"
        },
        "id": "qzo-WlZNu16m",
        "outputId": "64c28306-c499-4724-c845-7a8dab8f5acb"
      },
      "execution_count": null,
      "outputs": [
        {
          "output_type": "stream",
          "name": "stdout",
          "text": [
            "test error= 0.023076923076923078\n",
            "train error= 0.020512820512820513\n",
            "---------------------------------------------------\n",
            "test Accuracy= 0.9769230769230769\n",
            "train Accuracy= 0.9794871794871794\n"
          ]
        }
      ]
    },
    {
      "cell_type": "markdown",
      "source": [
        "**Confusion Matrix**"
      ],
      "metadata": {
        "id": "sk6KLvOXExjC"
      }
    },
    {
      "cell_type": "code",
      "source": [
        "\n",
        "pred2 = svm.predict(x_test)\n",
        "cm = confusion_matrix(y_test,pred2)\n",
        "\n",
        "plt.figure(figsize=(7,5))\n",
        "sns.heatmap(cm/np.sum(cm), annot=True, \n",
        "            fmt='.1%',)\n",
        "plt.xlabel('Predicted')\n",
        "plt.ylabel('Truth')\n",
        "\n",
        "plt.figure(figsize=(7,5))\n",
        "sns.heatmap(cm, annot=True)\n",
        "plt.xlabel('Predicted')\n",
        "plt.ylabel('Truth')"
      ],
      "metadata": {
        "colab": {
          "base_uri": "https://localhost:8080/",
          "height": 668
        },
        "id": "FD6ELdS5vFkY",
        "outputId": "04b61824-f716-4c2f-bcab-d93d487ffc20"
      },
      "execution_count": null,
      "outputs": [
        {
          "output_type": "execute_result",
          "data": {
            "text/plain": [
              "Text(42.0, 0.5, 'Truth')"
            ]
          },
          "metadata": {},
          "execution_count": 64
        },
        {
          "output_type": "display_data",
          "data": {
            "text/plain": [
              "<Figure size 504x360 with 2 Axes>"
            ],
            "image/png": "[encoded data removed]"
          },
          "metadata": {
            "needs_background": "light"
          }
        },
        {
          "output_type": "display_data",
          "data": {
            "text/plain": [
              "<Figure size 504x360 with 2 Axes>"
            ],
            "image/png": "[encoded data removed]"
          },
          "metadata": {
            "needs_background": "light"
          }
        }
      ]
    },
    {
      "cell_type": "code",
      "source": [
        "pred2 = svm.predict(x_train)\n",
        "cm = confusion_matrix(y_train,pred2)\n",
        "\n",
        "plt.figure(figsize=(7,5))\n",
        "sns.heatmap(cm/np.sum(cm), annot=True, \n",
        "            fmt='.1%',)\n",
        "plt.xlabel('Predicted')\n",
        "plt.ylabel('Truth')\n",
        "\n",
        "plt.figure(figsize=(7,5))\n",
        "sns.heatmap(cm, annot=True)\n",
        "plt.xlabel('Predicted')\n",
        "plt.ylabel('Truth')"
      ],
      "metadata": {
        "colab": {
          "base_uri": "https://localhost:8080/",
          "height": 668
        },
        "id": "mfzETx95MFUX",
        "outputId": "78d0283f-8bff-426b-986b-0ff9ad0b694d"
      },
      "execution_count": null,
      "outputs": [
        {
          "output_type": "execute_result",
          "data": {
            "text/plain": [
              "Text(42.0, 0.5, 'Truth')"
            ]
          },
          "metadata": {},
          "execution_count": 65
        },
        {
          "output_type": "display_data",
          "data": {
            "text/plain": [
              "<Figure size 504x360 with 2 Axes>"
            ],
            "image/png": "[encoded data removed]"
          },
          "metadata": {
            "needs_background": "light"
          }
        },
        {
          "output_type": "display_data",
          "data": {
            "text/plain": [
              "<Figure size 504x360 with 2 Axes>"
            ],
            "image/png": "[encoded data removed]"
          },
          "metadata": {
            "needs_background": "light"
          }
        }
      ]
    },
    {
      "cell_type": "markdown",
      "source": [
        "**DecisionTreeClassifier**"
      ],
      "metadata": {
        "id": "Ct5FYV30E2qW"
      }
    },
    {
      "cell_type": "code",
      "source": [
        "from sklearn.tree import DecisionTreeClassifier\n",
        "min_samples_split= 2\n",
        "DT=DecisionTreeClassifier(criterion='entropy',min_samples_split=min_samples_split)\n",
        "DT.fit(x_train,y_train)"
      ],
      "metadata": {
        "colab": {
          "base_uri": "https://localhost:8080/"
        },
        "id": "a9bknTuRvZDf",
        "outputId": "56dafefb-453c-4b64-d2f6-883b7873d6dd"
      },
      "execution_count": null,
      "outputs": [
        {
          "output_type": "execute_result",
          "data": {
            "text/plain": [
              "DecisionTreeClassifier(criterion='entropy')"
            ]
          },
          "metadata": {},
          "execution_count": 66
        }
      ]
    },
    {
      "cell_type": "markdown",
      "source": [
        "**Score**"
      ],
      "metadata": {
        "id": "NksbXFEvE8jf"
      }
    },
    {
      "cell_type": "code",
      "source": [
        "test = 1/130\n",
        "train=0.1/390\n",
        "print('test error=',test)\n",
        "print('train error=',train)\n",
        "print('---------------------------------------------------')\n",
        "\n",
        "print('test Accuracy', DT.score(x_test,y_test))\n",
        "print('train Accuracy', DT.score(x_train,y_train))"
      ],
      "metadata": {
        "colab": {
          "base_uri": "https://localhost:8080/"
        },
        "id": "48MeIP8L0es2",
        "outputId": "0ae0e92c-c42d-4ca4-8b17-36b3c2197874"
      },
      "execution_count": null,
      "outputs": [
        {
          "output_type": "stream",
          "name": "stdout",
          "text": [
            "test error= 0.007692307692307693\n",
            "train error= 0.0002564102564102564\n",
            "---------------------------------------------------\n",
            "test Accuracy 0.9769230769230769\n",
            "train Accuracy 1.0\n"
          ]
        }
      ]
    },
    {
      "cell_type": "markdown",
      "source": [
        "**Confusion Matrix**"
      ],
      "metadata": {
        "id": "-5ROOEu1E-21"
      }
    },
    {
      "cell_type": "code",
      "source": [
        "\n",
        "pred3 = DT.predict(x_test)\n",
        "cm = confusion_matrix(y_test,pred3)\n",
        "\n",
        "plt.figure(figsize=(7,5))\n",
        "sns.heatmap(cm/np.sum(cm), annot=True, fmt='.1%',)\n",
        "plt.xlabel('Predicted')\n",
        "plt.ylabel('Truth')\n",
        "\n",
        "plt.figure(figsize=(7,5))\n",
        "sns.heatmap(cm, annot=True)\n",
        "plt.xlabel('Predicted')\n",
        "plt.ylabel('Truth')"
      ],
      "metadata": {
        "colab": {
          "base_uri": "https://localhost:8080/",
          "height": 668
        },
        "id": "L0vjCvN40yre",
        "outputId": "74d89590-723f-4253-8d67-a1c7db92cbb1"
      },
      "execution_count": null,
      "outputs": [
        {
          "output_type": "execute_result",
          "data": {
            "text/plain": [
              "Text(42.0, 0.5, 'Truth')"
            ]
          },
          "metadata": {},
          "execution_count": 68
        },
        {
          "output_type": "display_data",
          "data": {
            "text/plain": [
              "<Figure size 504x360 with 2 Axes>"
            ],
            "image/png": "[encoded data removed]"
          },
          "metadata": {
            "needs_background": "light"
          }
        },
        {
          "output_type": "display_data",
          "data": {
            "text/plain": [
              "<Figure size 504x360 with 2 Axes>"
            ],
            "image/png": "[encoded data removed]"
          },
          "metadata": {
            "needs_background": "light"
          }
        }
      ]
    },
    {
      "cell_type": "code",
      "source": [
        "pred3 = DT.predict(x_train)\n",
        "cm = confusion_matrix(y_train,pred3)\n",
        "\n",
        "plt.figure(figsize=(7,5))\n",
        "sns.heatmap(cm/np.sum(cm), annot=True, fmt='.1%',)\n",
        "plt.xlabel('Predicted')\n",
        "plt.ylabel('Truth')\n",
        "\n",
        "plt.figure(figsize=(7,5))\n",
        "sns.heatmap(cm, annot=True)\n",
        "plt.xlabel('Predicted')\n",
        "plt.ylabel('Truth')"
      ],
      "metadata": {
        "colab": {
          "base_uri": "https://localhost:8080/",
          "height": 669
        },
        "id": "FVSsj1SeQyK_",
        "outputId": "6e1a3c8e-8176-46e5-b866-77183c130cb8"
      },
      "execution_count": null,
      "outputs": [
        {
          "output_type": "execute_result",
          "data": {
            "text/plain": [
              "Text(42.0, 0.5, 'Truth')"
            ]
          },
          "metadata": {},
          "execution_count": 69
        },
        {
          "output_type": "display_data",
          "data": {
            "text/plain": [
              "<Figure size 504x360 with 2 Axes>"
            ],
            "image/png": "[encoded data removed]"
          },
          "metadata": {
            "needs_background": "light"
          }
        },
        {
          "output_type": "display_data",
          "data": {
            "text/plain": [
              "<Figure size 504x360 with 2 Axes>"
            ],
            "image/png": "[encoded data removed]"
          },
          "metadata": {
            "needs_background": "light"
          }
        }
      ]
    },
    {
      "cell_type": "markdown",
      "source": [
        "***RandomForestClassifier***"
      ],
      "metadata": {
        "id": "udh_ye_pFDLv"
      }
    },
    {
      "cell_type": "code",
      "source": [
        "from sklearn.ensemble import RandomForestClassifier\n",
        "rn = RandomForestClassifier()\n",
        "rn.fit(x_train, y_train)"
      ],
      "metadata": {
        "colab": {
          "base_uri": "https://localhost:8080/"
        },
        "id": "Ztb1GdM_1m5x",
        "outputId": "416134f9-57b5-4f70-ed33-b43f3fe3b204"
      },
      "execution_count": null,
      "outputs": [
        {
          "output_type": "execute_result",
          "data": {
            "text/plain": [
              "RandomForestClassifier()"
            ]
          },
          "metadata": {},
          "execution_count": 70
        }
      ]
    },
    {
      "cell_type": "code",
      "source": [
        "test = 1/130\n",
        "train=0.1/390\n",
        "print('test error=',test)\n",
        "print('train error=',train)\n",
        "print('---------------------------------------------------')\n",
        "\n",
        "print('test Accuracy', rn.score(x_test,y_test))\n",
        "print('train Accuracy', rn.score(x_train,y_train))"
      ],
      "metadata": {
        "colab": {
          "base_uri": "https://localhost:8080/"
        },
        "id": "kADxU2iO1rWd",
        "outputId": "b75e6b7b-3970-4cd3-ca70-f8445f6db08e"
      },
      "execution_count": null,
      "outputs": [
        {
          "output_type": "stream",
          "name": "stdout",
          "text": [
            "test error= 0.007692307692307693\n",
            "train error= 0.0002564102564102564\n",
            "---------------------------------------------------\n",
            "test Accuracy 1.0\n",
            "train Accuracy 1.0\n"
          ]
        }
      ]
    },
    {
      "cell_type": "markdown",
      "source": [
        "**Confusion matrix**"
      ],
      "metadata": {
        "id": "gl6VrK0MFKBc"
      }
    },
    {
      "cell_type": "code",
      "source": [
        "\n",
        "pred4 = rn.predict(x_test)\n",
        "cm = confusion_matrix(y_test,pred4)\n",
        "\n",
        "plt.figure(figsize=(7,5))\n",
        "sns.heatmap(cm/np.sum(cm), annot=True, fmt='.1%',)\n",
        "plt.xlabel('Predicted')\n",
        "plt.ylabel('Truth')\n",
        "\n",
        "plt.figure(figsize=(7,5))\n",
        "sns.heatmap(cm, annot=True)\n",
        "plt.xlabel('Predicted')\n",
        "plt.ylabel('Truth')"
      ],
      "metadata": {
        "colab": {
          "base_uri": "https://localhost:8080/",
          "height": 668
        },
        "id": "rhwjIXxi1uD6",
        "outputId": "30e13f31-4d6a-43bf-9427-6f948eafb367"
      },
      "execution_count": null,
      "outputs": [
        {
          "output_type": "execute_result",
          "data": {
            "text/plain": [
              "Text(42.0, 0.5, 'Truth')"
            ]
          },
          "metadata": {},
          "execution_count": 72
        },
        {
          "output_type": "display_data",
          "data": {
            "text/plain": [
              "<Figure size 504x360 with 2 Axes>"
            ],
            "image/png": "[encoded data removed]"
          },
          "metadata": {
            "needs_background": "light"
          }
        },
        {
          "output_type": "display_data",
          "data": {
            "text/plain": [
              "<Figure size 504x360 with 2 Axes>"
            ],
            "image/png": "[encoded data removed]"
          },
          "metadata": {
            "needs_background": "light"
          }
        }
      ]
    },
    {
      "cell_type": "code",
      "source": [
        "pred4 = rn.predict(x_train)\n",
        "cm = confusion_matrix(y_train,pred4)\n",
        "\n",
        "plt.figure(figsize=(7,5))\n",
        "sns.heatmap(cm/np.sum(cm), annot=True, fmt='.1%',)\n",
        "plt.xlabel('Predicted')\n",
        "plt.ylabel('Truth')\n",
        "\n",
        "plt.figure(figsize=(7,5))\n",
        "sns.heatmap(cm, annot=True)\n",
        "plt.xlabel('Predicted')\n",
        "plt.ylabel('Truth')"
      ],
      "metadata": {
        "colab": {
          "base_uri": "https://localhost:8080/",
          "height": 669
        },
        "id": "YL7uvZsEQ4uf",
        "outputId": "81c6d907-1880-4377-ab1c-5eff001958b2"
      },
      "execution_count": null,
      "outputs": [
        {
          "output_type": "execute_result",
          "data": {
            "text/plain": [
              "Text(42.0, 0.5, 'Truth')"
            ]
          },
          "metadata": {},
          "execution_count": 73
        },
        {
          "output_type": "display_data",
          "data": {
            "text/plain": [
              "<Figure size 504x360 with 2 Axes>"
            ],
            "image/png": "[encoded data removed]"
          },
          "metadata": {
            "needs_background": "light"
          }
        },
        {
          "output_type": "display_data",
          "data": {
            "text/plain": [
              "<Figure size 504x360 with 2 Axes>"
            ],
            "image/png": "[encoded data removed]"
          },
          "metadata": {
            "needs_background": "light"
          }
        }
      ]
    },
    {
      "cell_type": "markdown",
      "source": [
        "**GradientBoostingClassifier**"
      ],
      "metadata": {
        "id": "bVvBpAngFObF"
      }
    },
    {
      "cell_type": "code",
      "source": [
        "from sklearn.ensemble import GradientBoostingClassifier\n",
        "gb = GradientBoostingClassifier(learning_rate=0.09, n_estimators=150,criterion='friedman_mse',max_depth=4)\n",
        "gb.fit(x_train,y_train)"
      ],
      "metadata": {
        "colab": {
          "base_uri": "https://localhost:8080/"
        },
        "id": "EI677xpM2qx3",
        "outputId": "66f67457-0a05-482d-938c-7d8e0ce74224"
      },
      "execution_count": null,
      "outputs": [
        {
          "output_type": "execute_result",
          "data": {
            "text/plain": [
              "GradientBoostingClassifier(learning_rate=0.09, max_depth=4, n_estimators=150)"
            ]
          },
          "metadata": {},
          "execution_count": 74
        }
      ]
    },
    {
      "cell_type": "markdown",
      "source": [
        "**Score**"
      ],
      "metadata": {
        "id": "a4syDfkJFRv6"
      }
    },
    {
      "cell_type": "code",
      "source": [
        "test = 1/130\n",
        "train=0.1/390\n",
        "print('test error=',test)\n",
        "print('train error=',train)\n",
        "print('---------------------------------------------------')\n",
        "print('test Accuracy', gb.score(x_test,y_test))\n",
        "print('train Accuracy', gb.score(x_train,y_train))"
      ],
      "metadata": {
        "colab": {
          "base_uri": "https://localhost:8080/"
        },
        "id": "ndHJD-XU23oM",
        "outputId": "c11e0a0c-6f4d-468f-b215-77193a980514"
      },
      "execution_count": null,
      "outputs": [
        {
          "output_type": "stream",
          "name": "stdout",
          "text": [
            "test error= 0.007692307692307693\n",
            "train error= 0.0002564102564102564\n",
            "---------------------------------------------------\n",
            "test Accuracy 0.9923076923076923\n",
            "train Accuracy 1.0\n"
          ]
        }
      ]
    },
    {
      "cell_type": "markdown",
      "source": [
        "**Confusion Matrix**"
      ],
      "metadata": {
        "id": "2qB-AyG8FUWP"
      }
    },
    {
      "cell_type": "code",
      "source": [
        "\n",
        "pred5 = gb.predict(x_test)\n",
        "cm = confusion_matrix(y_test,pred5)\n",
        "\n",
        "plt.figure(figsize=(7,5))\n",
        "sns.heatmap(cm/np.sum(cm), annot=True, fmt='.1%',)\n",
        "plt.xlabel('Predicted')\n",
        "plt.ylabel('Truth')\n",
        "\n",
        "plt.figure(figsize=(7,5))\n",
        "sns.heatmap(cm, annot=True)\n",
        "plt.xlabel('Predicted')\n",
        "plt.ylabel('Truth')"
      ],
      "metadata": {
        "colab": {
          "base_uri": "https://localhost:8080/",
          "height": 668
        },
        "id": "wGtXDxys33n8",
        "outputId": "2065ad1e-f924-4153-b0a6-7284f14f3d2e"
      },
      "execution_count": null,
      "outputs": [
        {
          "output_type": "execute_result",
          "data": {
            "text/plain": [
              "Text(42.0, 0.5, 'Truth')"
            ]
          },
          "metadata": {},
          "execution_count": 76
        },
        {
          "output_type": "display_data",
          "data": {
            "text/plain": [
              "<Figure size 504x360 with 2 Axes>"
            ],
            "image/png": "[encoded data removed]"
          },
          "metadata": {
            "needs_background": "light"
          }
        },
        {
          "output_type": "display_data",
          "data": {
            "text/plain": [
              "<Figure size 504x360 with 2 Axes>"
            ],
            "image/png": "[encoded data removed]"
          },
          "metadata": {
            "needs_background": "light"
          }
        }
      ]
    },
    {
      "cell_type": "code",
      "source": [
        "pred5 = gb.predict(x_train)\n",
        "cm = confusion_matrix(y_train,pred5)\n",
        "\n",
        "plt.figure(figsize=(7,5))\n",
        "sns.heatmap(cm/np.sum(cm), annot=True, fmt='.1%',)\n",
        "plt.xlabel('Predicted')\n",
        "plt.ylabel('Truth')\n",
        "\n",
        "plt.figure(figsize=(7,5))\n",
        "sns.heatmap(cm, annot=True)\n",
        "plt.xlabel('Predicted')\n",
        "plt.ylabel('Truth')"
      ],
      "metadata": {
        "colab": {
          "base_uri": "https://localhost:8080/",
          "height": 669
        },
        "id": "UuiNYephRDyu",
        "outputId": "61dd16ac-410d-4b89-8486-2a8356040e9f"
      },
      "execution_count": null,
      "outputs": [
        {
          "output_type": "execute_result",
          "data": {
            "text/plain": [
              "Text(42.0, 0.5, 'Truth')"
            ]
          },
          "metadata": {},
          "execution_count": 77
        },
        {
          "output_type": "display_data",
          "data": {
            "text/plain": [
              "<Figure size 504x360 with 2 Axes>"
            ],
            "image/png": "[encoded data removed]"
          },
          "metadata": {
            "needs_background": "light"
          }
        },
        {
          "output_type": "display_data",
          "data": {
            "text/plain": [
              "<Figure size 504x360 with 2 Axes>"
            ],
            "image/png": "[encoded data removed]"
          },
          "metadata": {
            "needs_background": "light"
          }
        }
      ]
    },
    {
      "cell_type": "markdown",
      "source": [
        "**Artificial Nural Network**"
      ],
      "metadata": {
        "id": "lMMt33nXFYhP"
      }
    },
    {
      "cell_type": "code",
      "source": [
        "import tensorflow\n",
        "from tensorflow import keras\n",
        "from tensorflow.keras import Sequential\n",
        "from tensorflow.keras.layers import Dense"
      ],
      "metadata": {
        "id": "FeeBBj-p4lEa"
      },
      "execution_count": null,
      "outputs": []
    },
    {
      "cell_type": "code",
      "source": [
        "NN = Sequential()\n",
        "\n",
        "NN.add(Dense(64,activation='relu'))\n",
        "NN.add(Dense(16,activation='relu'))\n",
        "NN.add(Dense(8,activation='softmax'))\n",
        "\n",
        "NN.compile(loss='sparse_categorical_crossentropy',optimizer='Adam',metrics=['accuracy'])\n",
        "history = NN.fit(x_train,y_train,epochs=100,validation_split=0.2)"
      ],
      "metadata": {
        "id": "OgLiOLPI4pUS",
        "colab": {
          "base_uri": "https://localhost:8080/"
        },
        "outputId": "11fc36bc-4885-4744-c82b-d88d4a9970d6"
      },
      "execution_count": null,
      "outputs": [
        {
          "output_type": "stream",
          "name": "stdout",
          "text": [
            "Epoch 1/100\n",
            "10/10 [==============================] - 1s 25ms/step - loss: 2.1536 - accuracy: 0.0000e+00 - val_loss: 2.0707 - val_accuracy: 0.0000e+00\n",
            "Epoch 2/100\n",
            "10/10 [==============================] - 0s 4ms/step - loss: 1.9747 - accuracy: 0.0929 - val_loss: 1.9149 - val_accuracy: 0.1410\n",
            "Epoch 3/100\n",
            "10/10 [==============================] - 0s 4ms/step - loss: 1.8294 - accuracy: 0.2244 - val_loss: 1.7371 - val_accuracy: 0.4231\n",
            "Epoch 4/100\n",
            "10/10 [==============================] - 0s 4ms/step - loss: 1.6434 - accuracy: 0.3942 - val_loss: 1.5166 - val_accuracy: 0.5385\n",
            "Epoch 5/100\n",
            "10/10 [==============================] - 0s 4ms/step - loss: 1.4198 - accuracy: 0.5481 - val_loss: 1.2657 - val_accuracy: 0.7949\n",
            "Epoch 6/100\n",
            "10/10 [==============================] - 0s 7ms/step - loss: 1.1690 - accuracy: 0.7564 - val_loss: 1.0215 - val_accuracy: 0.8590\n",
            "Epoch 7/100\n",
            "10/10 [==============================] - 0s 4ms/step - loss: 0.9355 - accuracy: 0.8654 - val_loss: 0.8127 - val_accuracy: 0.8590\n",
            "Epoch 8/100\n",
            "10/10 [==============================] - 0s 4ms/step - loss: 0.7393 - accuracy: 0.8942 - val_loss: 0.6489 - val_accuracy: 0.8974\n",
            "Epoch 9/100\n",
            "10/10 [==============================] - 0s 4ms/step - loss: 0.5852 - accuracy: 0.9231 - val_loss: 0.5249 - val_accuracy: 0.9231\n",
            "Epoch 10/100\n",
            "10/10 [==============================] - 0s 4ms/step - loss: 0.4740 - accuracy: 0.9263 - val_loss: 0.4332 - val_accuracy: 0.9231\n",
            "Epoch 11/100\n",
            "10/10 [==============================] - 0s 4ms/step - loss: 0.3978 - accuracy: 0.9295 - val_loss: 0.3687 - val_accuracy: 0.9487\n",
            "Epoch 12/100\n",
            "10/10 [==============================] - 0s 6ms/step - loss: 0.3440 - accuracy: 0.9327 - val_loss: 0.3221 - val_accuracy: 0.9487\n",
            "Epoch 13/100\n",
            "10/10 [==============================] - 0s 4ms/step - loss: 0.3070 - accuracy: 0.9391 - val_loss: 0.2930 - val_accuracy: 0.9359\n",
            "Epoch 14/100\n",
            "10/10 [==============================] - 0s 4ms/step - loss: 0.2785 - accuracy: 0.9359 - val_loss: 0.2604 - val_accuracy: 0.9615\n",
            "Epoch 15/100\n",
            "10/10 [==============================] - 0s 4ms/step - loss: 0.2556 - accuracy: 0.9231 - val_loss: 0.2459 - val_accuracy: 0.9487\n",
            "Epoch 16/100\n",
            "10/10 [==============================] - 0s 4ms/step - loss: 0.2372 - accuracy: 0.9263 - val_loss: 0.2268 - val_accuracy: 0.9615\n",
            "Epoch 17/100\n",
            "10/10 [==============================] - 0s 5ms/step - loss: 0.2224 - accuracy: 0.9295 - val_loss: 0.2134 - val_accuracy: 0.9615\n",
            "Epoch 18/100\n",
            "10/10 [==============================] - 0s 4ms/step - loss: 0.2102 - accuracy: 0.9231 - val_loss: 0.2031 - val_accuracy: 0.9487\n",
            "Epoch 19/100\n",
            "10/10 [==============================] - 0s 4ms/step - loss: 0.1989 - accuracy: 0.9231 - val_loss: 0.1927 - val_accuracy: 0.9487\n",
            "Epoch 20/100\n",
            "10/10 [==============================] - 0s 4ms/step - loss: 0.1916 - accuracy: 0.9327 - val_loss: 0.1796 - val_accuracy: 0.9487\n",
            "Epoch 21/100\n",
            "10/10 [==============================] - 0s 4ms/step - loss: 0.1819 - accuracy: 0.9295 - val_loss: 0.1836 - val_accuracy: 0.9487\n",
            "Epoch 22/100\n",
            "10/10 [==============================] - 0s 4ms/step - loss: 0.1757 - accuracy: 0.9359 - val_loss: 0.1735 - val_accuracy: 0.9487\n",
            "Epoch 23/100\n",
            "10/10 [==============================] - 0s 4ms/step - loss: 0.1687 - accuracy: 0.9327 - val_loss: 0.1594 - val_accuracy: 0.9487\n",
            "Epoch 24/100\n",
            "10/10 [==============================] - 0s 4ms/step - loss: 0.1627 - accuracy: 0.9359 - val_loss: 0.1586 - val_accuracy: 0.9615\n",
            "Epoch 25/100\n",
            "10/10 [==============================] - 0s 4ms/step - loss: 0.1573 - accuracy: 0.9455 - val_loss: 0.1591 - val_accuracy: 0.9487\n",
            "Epoch 26/100\n",
            "10/10 [==============================] - 0s 5ms/step - loss: 0.1530 - accuracy: 0.9551 - val_loss: 0.1556 - val_accuracy: 0.9487\n",
            "Epoch 27/100\n",
            "10/10 [==============================] - 0s 4ms/step - loss: 0.1479 - accuracy: 0.9519 - val_loss: 0.1453 - val_accuracy: 0.9615\n",
            "Epoch 28/100\n",
            "10/10 [==============================] - 0s 4ms/step - loss: 0.1437 - accuracy: 0.9551 - val_loss: 0.1526 - val_accuracy: 0.9487\n",
            "Epoch 29/100\n",
            "10/10 [==============================] - 0s 4ms/step - loss: 0.1384 - accuracy: 0.9551 - val_loss: 0.1415 - val_accuracy: 0.9615\n",
            "Epoch 30/100\n",
            "10/10 [==============================] - 0s 4ms/step - loss: 0.1337 - accuracy: 0.9519 - val_loss: 0.1400 - val_accuracy: 0.9487\n",
            "Epoch 31/100\n",
            "10/10 [==============================] - 0s 4ms/step - loss: 0.1304 - accuracy: 0.9583 - val_loss: 0.1364 - val_accuracy: 0.9615\n",
            "Epoch 32/100\n",
            "10/10 [==============================] - 0s 4ms/step - loss: 0.1287 - accuracy: 0.9583 - val_loss: 0.1465 - val_accuracy: 0.9359\n",
            "Epoch 33/100\n",
            "10/10 [==============================] - 0s 4ms/step - loss: 0.1258 - accuracy: 0.9551 - val_loss: 0.1262 - val_accuracy: 0.9615\n",
            "Epoch 34/100\n",
            "10/10 [==============================] - 0s 4ms/step - loss: 0.1178 - accuracy: 0.9615 - val_loss: 0.1387 - val_accuracy: 0.9359\n",
            "Epoch 35/100\n",
            "10/10 [==============================] - 0s 5ms/step - loss: 0.1162 - accuracy: 0.9583 - val_loss: 0.1371 - val_accuracy: 0.9359\n",
            "Epoch 36/100\n",
            "10/10 [==============================] - 0s 5ms/step - loss: 0.1138 - accuracy: 0.9615 - val_loss: 0.1218 - val_accuracy: 0.9615\n",
            "Epoch 37/100\n",
            "10/10 [==============================] - 0s 4ms/step - loss: 0.1090 - accuracy: 0.9583 - val_loss: 0.1313 - val_accuracy: 0.9359\n",
            "Epoch 38/100\n",
            "10/10 [==============================] - 0s 6ms/step - loss: 0.1050 - accuracy: 0.9583 - val_loss: 0.1220 - val_accuracy: 0.9487\n",
            "Epoch 39/100\n",
            "10/10 [==============================] - 0s 4ms/step - loss: 0.1035 - accuracy: 0.9615 - val_loss: 0.1194 - val_accuracy: 0.9487\n",
            "Epoch 40/100\n",
            "10/10 [==============================] - 0s 4ms/step - loss: 0.0992 - accuracy: 0.9615 - val_loss: 0.1148 - val_accuracy: 0.9615\n",
            "Epoch 41/100\n",
            "10/10 [==============================] - 0s 4ms/step - loss: 0.0969 - accuracy: 0.9583 - val_loss: 0.1236 - val_accuracy: 0.9487\n",
            "Epoch 42/100\n",
            "10/10 [==============================] - 0s 4ms/step - loss: 0.0934 - accuracy: 0.9615 - val_loss: 0.1123 - val_accuracy: 0.9615\n",
            "Epoch 43/100\n",
            "10/10 [==============================] - 0s 4ms/step - loss: 0.0898 - accuracy: 0.9615 - val_loss: 0.1168 - val_accuracy: 0.9487\n",
            "Epoch 44/100\n",
            "10/10 [==============================] - 0s 4ms/step - loss: 0.0862 - accuracy: 0.9647 - val_loss: 0.1127 - val_accuracy: 0.9487\n",
            "Epoch 45/100\n",
            "10/10 [==============================] - 0s 4ms/step - loss: 0.0846 - accuracy: 0.9712 - val_loss: 0.1132 - val_accuracy: 0.9487\n",
            "Epoch 46/100\n",
            "10/10 [==============================] - 0s 4ms/step - loss: 0.0813 - accuracy: 0.9679 - val_loss: 0.1054 - val_accuracy: 0.9615\n",
            "Epoch 47/100\n",
            "10/10 [==============================] - 0s 5ms/step - loss: 0.0778 - accuracy: 0.9744 - val_loss: 0.1091 - val_accuracy: 0.9487\n",
            "Epoch 48/100\n",
            "10/10 [==============================] - 0s 4ms/step - loss: 0.0750 - accuracy: 0.9776 - val_loss: 0.1105 - val_accuracy: 0.9487\n",
            "Epoch 49/100\n",
            "10/10 [==============================] - 0s 6ms/step - loss: 0.0721 - accuracy: 0.9744 - val_loss: 0.1048 - val_accuracy: 0.9487\n",
            "Epoch 50/100\n",
            "10/10 [==============================] - 0s 4ms/step - loss: 0.0692 - accuracy: 0.9776 - val_loss: 0.1047 - val_accuracy: 0.9487\n",
            "Epoch 51/100\n",
            "10/10 [==============================] - 0s 4ms/step - loss: 0.0673 - accuracy: 0.9744 - val_loss: 0.1056 - val_accuracy: 0.9487\n",
            "Epoch 52/100\n",
            "10/10 [==============================] - 0s 4ms/step - loss: 0.0650 - accuracy: 0.9776 - val_loss: 0.1040 - val_accuracy: 0.9487\n",
            "Epoch 53/100\n",
            "10/10 [==============================] - 0s 4ms/step - loss: 0.0624 - accuracy: 0.9776 - val_loss: 0.1007 - val_accuracy: 0.9487\n",
            "Epoch 54/100\n",
            "10/10 [==============================] - 0s 4ms/step - loss: 0.0611 - accuracy: 0.9776 - val_loss: 0.1006 - val_accuracy: 0.9487\n",
            "Epoch 55/100\n",
            "10/10 [==============================] - 0s 4ms/step - loss: 0.0584 - accuracy: 0.9872 - val_loss: 0.1040 - val_accuracy: 0.9487\n",
            "Epoch 56/100\n",
            "10/10 [==============================] - 0s 5ms/step - loss: 0.0558 - accuracy: 0.9840 - val_loss: 0.0935 - val_accuracy: 0.9615\n",
            "Epoch 57/100\n",
            "10/10 [==============================] - 0s 4ms/step - loss: 0.0542 - accuracy: 0.9872 - val_loss: 0.0989 - val_accuracy: 0.9487\n",
            "Epoch 58/100\n",
            "10/10 [==============================] - 0s 4ms/step - loss: 0.0517 - accuracy: 0.9936 - val_loss: 0.0987 - val_accuracy: 0.9487\n",
            "Epoch 59/100\n",
            "10/10 [==============================] - 0s 4ms/step - loss: 0.0504 - accuracy: 0.9936 - val_loss: 0.0939 - val_accuracy: 0.9487\n",
            "Epoch 60/100\n",
            "10/10 [==============================] - 0s 4ms/step - loss: 0.0484 - accuracy: 0.9936 - val_loss: 0.0970 - val_accuracy: 0.9487\n",
            "Epoch 61/100\n",
            "10/10 [==============================] - 0s 4ms/step - loss: 0.0470 - accuracy: 0.9936 - val_loss: 0.0935 - val_accuracy: 0.9615\n",
            "Epoch 62/100\n",
            "10/10 [==============================] - 0s 4ms/step - loss: 0.0455 - accuracy: 0.9936 - val_loss: 0.0904 - val_accuracy: 0.9744\n",
            "Epoch 63/100\n",
            "10/10 [==============================] - 0s 4ms/step - loss: 0.0440 - accuracy: 0.9936 - val_loss: 0.0976 - val_accuracy: 0.9487\n",
            "Epoch 64/100\n",
            "10/10 [==============================] - 0s 4ms/step - loss: 0.0423 - accuracy: 0.9936 - val_loss: 0.0901 - val_accuracy: 0.9744\n",
            "Epoch 65/100\n",
            "10/10 [==============================] - 0s 4ms/step - loss: 0.0414 - accuracy: 0.9936 - val_loss: 0.0916 - val_accuracy: 0.9744\n",
            "Epoch 66/100\n",
            "10/10 [==============================] - 0s 4ms/step - loss: 0.0394 - accuracy: 0.9936 - val_loss: 0.0968 - val_accuracy: 0.9487\n",
            "Epoch 67/100\n",
            "10/10 [==============================] - 0s 4ms/step - loss: 0.0384 - accuracy: 0.9936 - val_loss: 0.0882 - val_accuracy: 0.9744\n",
            "Epoch 68/100\n",
            "10/10 [==============================] - 0s 4ms/step - loss: 0.0370 - accuracy: 0.9968 - val_loss: 0.0956 - val_accuracy: 0.9615\n",
            "Epoch 69/100\n",
            "10/10 [==============================] - 0s 4ms/step - loss: 0.0354 - accuracy: 0.9968 - val_loss: 0.0897 - val_accuracy: 0.9744\n",
            "Epoch 70/100\n",
            "10/10 [==============================] - 0s 5ms/step - loss: 0.0345 - accuracy: 0.9968 - val_loss: 0.0896 - val_accuracy: 0.9744\n",
            "Epoch 71/100\n",
            "10/10 [==============================] - 0s 4ms/step - loss: 0.0330 - accuracy: 0.9968 - val_loss: 0.0927 - val_accuracy: 0.9744\n",
            "Epoch 72/100\n",
            "10/10 [==============================] - 0s 5ms/step - loss: 0.0322 - accuracy: 0.9968 - val_loss: 0.0954 - val_accuracy: 0.9615\n",
            "Epoch 73/100\n",
            "10/10 [==============================] - 0s 6ms/step - loss: 0.0308 - accuracy: 0.9968 - val_loss: 0.0910 - val_accuracy: 0.9744\n",
            "Epoch 74/100\n",
            "10/10 [==============================] - 0s 4ms/step - loss: 0.0302 - accuracy: 0.9968 - val_loss: 0.0863 - val_accuracy: 0.9744\n",
            "Epoch 75/100\n",
            "10/10 [==============================] - 0s 4ms/step - loss: 0.0290 - accuracy: 0.9968 - val_loss: 0.0949 - val_accuracy: 0.9615\n",
            "Epoch 76/100\n",
            "10/10 [==============================] - 0s 5ms/step - loss: 0.0285 - accuracy: 0.9968 - val_loss: 0.0905 - val_accuracy: 0.9744\n",
            "Epoch 77/100\n",
            "10/10 [==============================] - 0s 4ms/step - loss: 0.0276 - accuracy: 0.9968 - val_loss: 0.0953 - val_accuracy: 0.9615\n",
            "Epoch 78/100\n",
            "10/10 [==============================] - 0s 4ms/step - loss: 0.0267 - accuracy: 0.9968 - val_loss: 0.0879 - val_accuracy: 0.9744\n",
            "Epoch 79/100\n",
            "10/10 [==============================] - 0s 4ms/step - loss: 0.0263 - accuracy: 0.9968 - val_loss: 0.0956 - val_accuracy: 0.9615\n",
            "Epoch 80/100\n",
            "10/10 [==============================] - 0s 4ms/step - loss: 0.0252 - accuracy: 0.9968 - val_loss: 0.0899 - val_accuracy: 0.9615\n",
            "Epoch 81/100\n",
            "10/10 [==============================] - 0s 4ms/step - loss: 0.0250 - accuracy: 0.9968 - val_loss: 0.0871 - val_accuracy: 0.9615\n",
            "Epoch 82/100\n",
            "10/10 [==============================] - 0s 4ms/step - loss: 0.0240 - accuracy: 0.9968 - val_loss: 0.0985 - val_accuracy: 0.9615\n",
            "Epoch 83/100\n",
            "10/10 [==============================] - 0s 4ms/step - loss: 0.0237 - accuracy: 0.9968 - val_loss: 0.0929 - val_accuracy: 0.9615\n",
            "Epoch 84/100\n",
            "10/10 [==============================] - 0s 4ms/step - loss: 0.0230 - accuracy: 0.9968 - val_loss: 0.0905 - val_accuracy: 0.9615\n",
            "Epoch 85/100\n",
            "10/10 [==============================] - 0s 6ms/step - loss: 0.0225 - accuracy: 0.9968 - val_loss: 0.0925 - val_accuracy: 0.9615\n",
            "Epoch 86/100\n",
            "10/10 [==============================] - 0s 4ms/step - loss: 0.0220 - accuracy: 0.9968 - val_loss: 0.0925 - val_accuracy: 0.9615\n",
            "Epoch 87/100\n",
            "10/10 [==============================] - 0s 5ms/step - loss: 0.0215 - accuracy: 0.9968 - val_loss: 0.0882 - val_accuracy: 0.9615\n",
            "Epoch 88/100\n",
            "10/10 [==============================] - 0s 4ms/step - loss: 0.0210 - accuracy: 0.9968 - val_loss: 0.0951 - val_accuracy: 0.9615\n",
            "Epoch 89/100\n",
            "10/10 [==============================] - 0s 4ms/step - loss: 0.0204 - accuracy: 0.9968 - val_loss: 0.0947 - val_accuracy: 0.9615\n",
            "Epoch 90/100\n",
            "10/10 [==============================] - 0s 4ms/step - loss: 0.0200 - accuracy: 0.9968 - val_loss: 0.0916 - val_accuracy: 0.9615\n",
            "Epoch 91/100\n",
            "10/10 [==============================] - 0s 4ms/step - loss: 0.0197 - accuracy: 0.9968 - val_loss: 0.0898 - val_accuracy: 0.9615\n",
            "Epoch 92/100\n",
            "10/10 [==============================] - 0s 4ms/step - loss: 0.0193 - accuracy: 0.9968 - val_loss: 0.0932 - val_accuracy: 0.9615\n",
            "Epoch 93/100\n",
            "10/10 [==============================] - 0s 4ms/step - loss: 0.0190 - accuracy: 0.9968 - val_loss: 0.0936 - val_accuracy: 0.9615\n",
            "Epoch 94/100\n",
            "10/10 [==============================] - 0s 4ms/step - loss: 0.0186 - accuracy: 0.9968 - val_loss: 0.0888 - val_accuracy: 0.9615\n",
            "Epoch 95/100\n",
            "10/10 [==============================] - 0s 4ms/step - loss: 0.0182 - accuracy: 0.9968 - val_loss: 0.0895 - val_accuracy: 0.9615\n",
            "Epoch 96/100\n",
            "10/10 [==============================] - 0s 6ms/step - loss: 0.0179 - accuracy: 0.9968 - val_loss: 0.0914 - val_accuracy: 0.9615\n",
            "Epoch 97/100\n",
            "10/10 [==============================] - 0s 4ms/step - loss: 0.0176 - accuracy: 0.9968 - val_loss: 0.0927 - val_accuracy: 0.9615\n",
            "Epoch 98/100\n",
            "10/10 [==============================] - 0s 6ms/step - loss: 0.0172 - accuracy: 0.9968 - val_loss: 0.0912 - val_accuracy: 0.9615\n",
            "Epoch 99/100\n",
            "10/10 [==============================] - 0s 5ms/step - loss: 0.0170 - accuracy: 0.9968 - val_loss: 0.0891 - val_accuracy: 0.9615\n",
            "Epoch 100/100\n",
            "10/10 [==============================] - 0s 5ms/step - loss: 0.0167 - accuracy: 0.9968 - val_loss: 0.0925 - val_accuracy: 0.9615\n"
          ]
        }
      ]
    },
    {
      "cell_type": "code",
      "source": [
        "NN.summary()"
      ],
      "metadata": {
        "colab": {
          "base_uri": "https://localhost:8080/"
        },
        "id": "UCQcB-oK8txU",
        "outputId": "354e44d8-dfb3-4b34-aab4-d1d5ebf1a99e"
      },
      "execution_count": null,
      "outputs": [
        {
          "output_type": "stream",
          "name": "stdout",
          "text": [
            "Model: \"sequential\"\n",
            "_________________________________________________________________\n",
            " Layer (type)                Output Shape              Param #   \n",
            "=================================================================\n",
            " dense (Dense)               (None, 64)                1088      \n",
            "                                                                 \n",
            " dense_1 (Dense)             (None, 16)                1040      \n",
            "                                                                 \n",
            " dense_2 (Dense)             (None, 8)                 136       \n",
            "                                                                 \n",
            "=================================================================\n",
            "Total params: 2,264\n",
            "Trainable params: 2,264\n",
            "Non-trainable params: 0\n",
            "_________________________________________________________________\n"
          ]
        }
      ]
    },
    {
      "cell_type": "code",
      "source": [
        "prob = NN.predict(x_test)"
      ],
      "metadata": {
        "id": "1m6xqOhN9m8J"
      },
      "execution_count": null,
      "outputs": []
    },
    {
      "cell_type": "code",
      "source": [
        "y_pred = prob.argmax(axis=-1)"
      ],
      "metadata": {
        "id": "0u1dV_BU_Pqi"
      },
      "execution_count": null,
      "outputs": []
    },
    {
      "cell_type": "code",
      "source": [
        "prob2 = NN.predict(x_train)"
      ],
      "metadata": {
        "id": "lvqpr-ZwRXGI"
      },
      "execution_count": null,
      "outputs": []
    },
    {
      "cell_type": "code",
      "source": [
        "y_pred2 = prob2.argmax(axis=-1)"
      ],
      "metadata": {
        "id": "vaHBqNaSRd9I"
      },
      "execution_count": null,
      "outputs": []
    },
    {
      "cell_type": "markdown",
      "source": [
        "**Score**"
      ],
      "metadata": {
        "id": "zbcxA4tXFhpE"
      }
    },
    {
      "cell_type": "code",
      "source": [
        "from sklearn.metrics import accuracy_score\n",
        "test = 3/130\n",
        "train=3/390\n",
        "print('test error=',test)\n",
        "print('train error=',train)\n",
        "print('---------------------------------------------------')\n",
        "print('test Accuracy=', accuracy_score(y_test,y_pred))\n",
        "print('train Accuracy=', accuracy_score(y_train,y_pred2))"
      ],
      "metadata": {
        "colab": {
          "base_uri": "https://localhost:8080/"
        },
        "id": "wAeUYVJA9BWe",
        "outputId": "7d4897b6-ebf9-4ae2-ae5a-147c3ef9ebc9"
      },
      "execution_count": null,
      "outputs": [
        {
          "output_type": "stream",
          "name": "stdout",
          "text": [
            "test error= 0.023076923076923078\n",
            "train error= 0.007692307692307693\n",
            "---------------------------------------------------\n",
            "test Accuracy= 0.9769230769230769\n",
            "train Accuracy= 0.9897435897435898\n"
          ]
        }
      ]
    },
    {
      "cell_type": "markdown",
      "source": [
        "**Confusion Matrix**"
      ],
      "metadata": {
        "id": "rzJBA8yPFky8"
      }
    },
    {
      "cell_type": "code",
      "source": [
        "\n",
        "y_pred = prob.argmax(axis=-1)\n",
        "cm = confusion_matrix(y_test,y_pred)\n",
        "\n",
        "plt.figure(figsize=(7,5))\n",
        "sns.heatmap(cm/np.sum(cm), annot=True, fmt='.1%',)\n",
        "plt.xlabel('Predicted')\n",
        "plt.ylabel('Truth')\n",
        "\n",
        "plt.figure(figsize=(7,5))\n",
        "sns.heatmap(cm, annot=True)\n",
        "plt.xlabel('Predicted')\n",
        "plt.ylabel('Truth')"
      ],
      "metadata": {
        "colab": {
          "base_uri": "https://localhost:8080/",
          "height": 668
        },
        "id": "jOlipbjjCyF0",
        "outputId": "fc24ca00-b946-49b7-bfa3-f8c4c5aa615b"
      },
      "execution_count": null,
      "outputs": [
        {
          "output_type": "execute_result",
          "data": {
            "text/plain": [
              "Text(42.0, 0.5, 'Truth')"
            ]
          },
          "metadata": {},
          "execution_count": 91
        },
        {
          "output_type": "display_data",
          "data": {
            "text/plain": [
              "<Figure size 504x360 with 2 Axes>"
            ],
            "image/png": "[encoded data removed]"
          },
          "metadata": {
            "needs_background": "light"
          }
        },
        {
          "output_type": "display_data",
          "data": {
            "text/plain": [
              "<Figure size 504x360 with 2 Axes>"
            ],
            "image/png": "[encoded data removed]"
          },
          "metadata": {
            "needs_background": "light"
          }
        }
      ]
    },
    {
      "cell_type": "code",
      "source": [
        "y_pred2 = prob2.argmax(axis=-1)\n",
        "cm = confusion_matrix(y_train,y_pred2)\n",
        "\n",
        "plt.figure(figsize=(7,5))\n",
        "sns.heatmap(cm/np.sum(cm), annot=True, fmt='.1%',)\n",
        "plt.xlabel('Predicted')\n",
        "plt.ylabel('Truth')\n",
        "\n",
        "plt.figure(figsize=(7,5))\n",
        "sns.heatmap(cm, annot=True)\n",
        "plt.xlabel('Predicted')\n",
        "plt.ylabel('Truth')"
      ],
      "metadata": {
        "colab": {
          "base_uri": "https://localhost:8080/",
          "height": 669
        },
        "id": "VpjE3N6WRJul",
        "outputId": "31a1105a-1056-4a1f-de6d-fcf2d05ce34a"
      },
      "execution_count": null,
      "outputs": [
        {
          "output_type": "execute_result",
          "data": {
            "text/plain": [
              "Text(42.0, 0.5, 'Truth')"
            ]
          },
          "metadata": {},
          "execution_count": 92
        },
        {
          "output_type": "display_data",
          "data": {
            "text/plain": [
              "<Figure size 504x360 with 2 Axes>"
            ],
            "image/png": "[encoded data removed]"
          },
          "metadata": {
            "needs_background": "light"
          }
        },
        {
          "output_type": "display_data",
          "data": {
            "text/plain": [
              "<Figure size 504x360 with 2 Axes>"
            ],
            "image/png": "[encoded data removed]"
          },
          "metadata": {
            "needs_background": "light"
          }
        }
      ]
    },
    {
      "cell_type": "markdown",
      "source": [
        "**Plots**"
      ],
      "metadata": {
        "id": "7ZzoWeVxFoju"
      }
    },
    {
      "cell_type": "code",
      "source": [
        "plt.plot(history.history['loss'])\n",
        "plt.plot(history.history['val_loss'])"
      ],
      "metadata": {
        "colab": {
          "base_uri": "https://localhost:8080/",
          "height": 282
        },
        "id": "q7adnzTY_ebY",
        "outputId": "dccc1352-2f45-450d-8eac-c01cce79b1b4"
      },
      "execution_count": null,
      "outputs": [
        {
          "output_type": "execute_result",
          "data": {
            "text/plain": [
              "[<matplotlib.lines.Line2D at 0x7f17f92f4610>]"
            ]
          },
          "metadata": {},
          "execution_count": 93
        },
        {
          "output_type": "display_data",
          "data": {
            "text/plain": [
              "<Figure size 432x288 with 1 Axes>"
            ],
            "image/png": "[encoded data removed]"
          },
          "metadata": {
            "needs_background": "light"
          }
        }
      ]
    },
    {
      "cell_type": "code",
      "source": [
        "plt.plot(history.history['accuracy'])\n",
        "plt.plot(history.history['val_accuracy'])"
      ],
      "metadata": {
        "colab": {
          "base_uri": "https://localhost:8080/",
          "height": 282
        },
        "id": "B10hU_k7_h8l",
        "outputId": "94f9fb2f-8a48-42e5-9a8e-ebad93b6cf0b"
      },
      "execution_count": null,
      "outputs": [
        {
          "output_type": "execute_result",
          "data": {
            "text/plain": [
              "[<matplotlib.lines.Line2D at 0x7f17f92df410>]"
            ]
          },
          "metadata": {},
          "execution_count": 94
        },
        {
          "output_type": "display_data",
          "data": {
            "text/plain": [
              "<Figure size 432x288 with 1 Axes>"
            ],
            "image/png": "[encoded data removed]"
          },
          "metadata": {
            "needs_background": "light"
          }
        }
      ]
    }
  ]
}