{
 "cells": [
  {
   "cell_type": "markdown",
   "metadata": {},
   "source": [
    "# Importing Dpendencies"
   ]
  },
  {
   "cell_type": "code",
   "execution_count": 39,
   "metadata": {},
   "outputs": [],
   "source": [
    "import numpy as np \n",
    "import pandas as pd\n",
    "import matplotlib.pyplot as plt\n",
    "import seaborn as sns"
   ]
  },
  {
   "cell_type": "markdown",
   "metadata": {},
   "source": [
    "Loading Data"
   ]
  },
  {
   "cell_type": "code",
   "execution_count": 40,
   "metadata": {},
   "outputs": [],
   "source": [
    "df= pd.read_csv(r'C:\\Users\\Administrator\\Desktop\\WIKI-PRICES.csv')\n",
    "data= pd.read_csv(r'C:\\Users\\Administrator\\Desktop\\WIKI-PRICES.csv')"
   ]
  },
  {
   "cell_type": "code",
   "execution_count": 41,
   "metadata": {},
   "outputs": [
    {
     "data": {
      "text/html": [
       "<div>\n",
       "<style scoped>\n",
       "    .dataframe tbody tr th:only-of-type {\n",
       "        vertical-align: middle;\n",
       "    }\n",
       "\n",
       "    .dataframe tbody tr th {\n",
       "        vertical-align: top;\n",
       "    }\n",
       "\n",
       "    .dataframe thead th {\n",
       "        text-align: right;\n",
       "    }\n",
       "</style>\n",
       "<table border=\"1\" class=\"dataframe\">\n",
       "  <thead>\n",
       "    <tr style=\"text-align: right;\">\n",
       "      <th></th>\n",
       "      <th>ticker</th>\n",
       "      <th>date</th>\n",
       "      <th>open</th>\n",
       "      <th>high</th>\n",
       "      <th>low</th>\n",
       "      <th>close</th>\n",
       "      <th>volume</th>\n",
       "      <th>ex-dividend</th>\n",
       "      <th>split_ratio</th>\n",
       "      <th>adj_open</th>\n",
       "      <th>adj_high</th>\n",
       "      <th>adj_low</th>\n",
       "      <th>adj_close</th>\n",
       "      <th>adj_volume</th>\n",
       "    </tr>\n",
       "  </thead>\n",
       "  <tbody>\n",
       "    <tr>\n",
       "      <th>0</th>\n",
       "      <td>ZUMZ</td>\n",
       "      <td>3/27/2018</td>\n",
       "      <td>24.65</td>\n",
       "      <td>24.65</td>\n",
       "      <td>23.3500</td>\n",
       "      <td>23.60</td>\n",
       "      <td>403884</td>\n",
       "      <td>0.0</td>\n",
       "      <td>1</td>\n",
       "      <td>24.65</td>\n",
       "      <td>24.65</td>\n",
       "      <td>23.3500</td>\n",
       "      <td>23.60</td>\n",
       "      <td>403884</td>\n",
       "    </tr>\n",
       "    <tr>\n",
       "      <th>1</th>\n",
       "      <td>ZUMZ</td>\n",
       "      <td>3/26/2018</td>\n",
       "      <td>23.75</td>\n",
       "      <td>24.80</td>\n",
       "      <td>23.7000</td>\n",
       "      <td>24.65</td>\n",
       "      <td>375320</td>\n",
       "      <td>0.0</td>\n",
       "      <td>1</td>\n",
       "      <td>23.75</td>\n",
       "      <td>24.80</td>\n",
       "      <td>23.7000</td>\n",
       "      <td>24.65</td>\n",
       "      <td>375320</td>\n",
       "    </tr>\n",
       "    <tr>\n",
       "      <th>2</th>\n",
       "      <td>ZUMZ</td>\n",
       "      <td>3/23/2018</td>\n",
       "      <td>23.55</td>\n",
       "      <td>24.20</td>\n",
       "      <td>23.4500</td>\n",
       "      <td>23.55</td>\n",
       "      <td>301584</td>\n",
       "      <td>0.0</td>\n",
       "      <td>1</td>\n",
       "      <td>23.55</td>\n",
       "      <td>24.20</td>\n",
       "      <td>23.4500</td>\n",
       "      <td>23.55</td>\n",
       "      <td>301584</td>\n",
       "    </tr>\n",
       "    <tr>\n",
       "      <th>3</th>\n",
       "      <td>ZUMZ</td>\n",
       "      <td>3/22/2018</td>\n",
       "      <td>23.90</td>\n",
       "      <td>24.35</td>\n",
       "      <td>23.3000</td>\n",
       "      <td>23.35</td>\n",
       "      <td>269607</td>\n",
       "      <td>0.0</td>\n",
       "      <td>1</td>\n",
       "      <td>23.90</td>\n",
       "      <td>24.35</td>\n",
       "      <td>23.3000</td>\n",
       "      <td>23.35</td>\n",
       "      <td>269607</td>\n",
       "    </tr>\n",
       "    <tr>\n",
       "      <th>4</th>\n",
       "      <td>ZUMZ</td>\n",
       "      <td>3/21/2018</td>\n",
       "      <td>23.80</td>\n",
       "      <td>24.60</td>\n",
       "      <td>23.6058</td>\n",
       "      <td>23.95</td>\n",
       "      <td>354092</td>\n",
       "      <td>0.0</td>\n",
       "      <td>1</td>\n",
       "      <td>23.80</td>\n",
       "      <td>24.60</td>\n",
       "      <td>23.6058</td>\n",
       "      <td>23.95</td>\n",
       "      <td>354092</td>\n",
       "    </tr>\n",
       "  </tbody>\n",
       "</table>\n",
       "</div>"
      ],
      "text/plain": [
       "  ticker       date   open   high      low  close  volume  ex-dividend  \\\n",
       "0   ZUMZ  3/27/2018  24.65  24.65  23.3500  23.60  403884          0.0   \n",
       "1   ZUMZ  3/26/2018  23.75  24.80  23.7000  24.65  375320          0.0   \n",
       "2   ZUMZ  3/23/2018  23.55  24.20  23.4500  23.55  301584          0.0   \n",
       "3   ZUMZ  3/22/2018  23.90  24.35  23.3000  23.35  269607          0.0   \n",
       "4   ZUMZ  3/21/2018  23.80  24.60  23.6058  23.95  354092          0.0   \n",
       "\n",
       "   split_ratio  adj_open  adj_high  adj_low  adj_close  adj_volume  \n",
       "0            1     24.65     24.65  23.3500      23.60      403884  \n",
       "1            1     23.75     24.80  23.7000      24.65      375320  \n",
       "2            1     23.55     24.20  23.4500      23.55      301584  \n",
       "3            1     23.90     24.35  23.3000      23.35      269607  \n",
       "4            1     23.80     24.60  23.6058      23.95      354092  "
      ]
     },
     "execution_count": 41,
     "metadata": {},
     "output_type": "execute_result"
    }
   ],
   "source": [
    "df.head()"
   ]
  },
  {
   "cell_type": "markdown",
   "metadata": {},
   "source": [
    "Data Information"
   ]
  },
  {
   "cell_type": "code",
   "execution_count": 42,
   "metadata": {},
   "outputs": [
    {
     "data": {
      "text/plain": [
       "(7482, 14)"
      ]
     },
     "execution_count": 42,
     "metadata": {},
     "output_type": "execute_result"
    }
   ],
   "source": [
    "df.shape"
   ]
  },
  {
   "cell_type": "code",
   "execution_count": 43,
   "metadata": {},
   "outputs": [
    {
     "data": {
      "text/plain": [
       "ticker         0\n",
       "date           0\n",
       "open           0\n",
       "high           0\n",
       "low            0\n",
       "close          0\n",
       "volume         0\n",
       "ex-dividend    0\n",
       "split_ratio    0\n",
       "adj_open       0\n",
       "adj_high       0\n",
       "adj_low        0\n",
       "adj_close      0\n",
       "adj_volume     0\n",
       "dtype: int64"
      ]
     },
     "execution_count": 43,
     "metadata": {},
     "output_type": "execute_result"
    }
   ],
   "source": [
    "df.isnull().sum()"
   ]
  },
  {
   "cell_type": "code",
   "execution_count": 44,
   "metadata": {},
   "outputs": [
    {
     "name": "stdout",
     "output_type": "stream",
     "text": [
      "<class 'pandas.core.frame.DataFrame'>\n",
      "RangeIndex: 7482 entries, 0 to 7481\n",
      "Data columns (total 14 columns):\n",
      " #   Column       Non-Null Count  Dtype  \n",
      "---  ------       --------------  -----  \n",
      " 0   ticker       7482 non-null   object \n",
      " 1   date         7482 non-null   object \n",
      " 2   open         7482 non-null   float64\n",
      " 3   high         7482 non-null   float64\n",
      " 4   low          7482 non-null   float64\n",
      " 5   close        7482 non-null   float64\n",
      " 6   volume       7482 non-null   int64  \n",
      " 7   ex-dividend  7482 non-null   float64\n",
      " 8   split_ratio  7482 non-null   int64  \n",
      " 9   adj_open     7482 non-null   float64\n",
      " 10  adj_high     7482 non-null   float64\n",
      " 11  adj_low      7482 non-null   float64\n",
      " 12  adj_close    7482 non-null   float64\n",
      " 13  adj_volume   7482 non-null   int64  \n",
      "dtypes: float64(9), int64(3), object(2)\n",
      "memory usage: 760.0+ KB\n"
     ]
    }
   ],
   "source": [
    "df.info()"
   ]
  },
  {
   "cell_type": "code",
   "execution_count": 45,
   "metadata": {},
   "outputs": [
    {
     "data": {
      "text/html": [
       "<div>\n",
       "<style scoped>\n",
       "    .dataframe tbody tr th:only-of-type {\n",
       "        vertical-align: middle;\n",
       "    }\n",
       "\n",
       "    .dataframe tbody tr th {\n",
       "        vertical-align: top;\n",
       "    }\n",
       "\n",
       "    .dataframe thead th {\n",
       "        text-align: right;\n",
       "    }\n",
       "</style>\n",
       "<table border=\"1\" class=\"dataframe\">\n",
       "  <thead>\n",
       "    <tr style=\"text-align: right;\">\n",
       "      <th></th>\n",
       "      <th>ticker</th>\n",
       "      <th>date</th>\n",
       "      <th>open</th>\n",
       "      <th>high</th>\n",
       "      <th>low</th>\n",
       "      <th>close</th>\n",
       "      <th>volume</th>\n",
       "      <th>ex-dividend</th>\n",
       "      <th>split_ratio</th>\n",
       "      <th>adj_open</th>\n",
       "      <th>adj_high</th>\n",
       "      <th>adj_low</th>\n",
       "      <th>adj_close</th>\n",
       "      <th>adj_volume</th>\n",
       "    </tr>\n",
       "  </thead>\n",
       "  <tbody>\n",
       "    <tr>\n",
       "      <th>7477</th>\n",
       "      <td>ZQK</td>\n",
       "      <td>1/8/2004</td>\n",
       "      <td>17.80</td>\n",
       "      <td>17.89</td>\n",
       "      <td>17.45</td>\n",
       "      <td>17.69</td>\n",
       "      <td>370100</td>\n",
       "      <td>0.0</td>\n",
       "      <td>1</td>\n",
       "      <td>8.900</td>\n",
       "      <td>8.945</td>\n",
       "      <td>8.725</td>\n",
       "      <td>8.845</td>\n",
       "      <td>740200</td>\n",
       "    </tr>\n",
       "    <tr>\n",
       "      <th>7478</th>\n",
       "      <td>ZQK</td>\n",
       "      <td>1/7/2004</td>\n",
       "      <td>17.75</td>\n",
       "      <td>17.85</td>\n",
       "      <td>17.45</td>\n",
       "      <td>17.70</td>\n",
       "      <td>399100</td>\n",
       "      <td>0.0</td>\n",
       "      <td>1</td>\n",
       "      <td>8.875</td>\n",
       "      <td>8.925</td>\n",
       "      <td>8.725</td>\n",
       "      <td>8.850</td>\n",
       "      <td>798200</td>\n",
       "    </tr>\n",
       "    <tr>\n",
       "      <th>7479</th>\n",
       "      <td>ZQK</td>\n",
       "      <td>1/6/2004</td>\n",
       "      <td>17.70</td>\n",
       "      <td>17.91</td>\n",
       "      <td>17.61</td>\n",
       "      <td>17.75</td>\n",
       "      <td>458900</td>\n",
       "      <td>0.0</td>\n",
       "      <td>1</td>\n",
       "      <td>8.850</td>\n",
       "      <td>8.955</td>\n",
       "      <td>8.805</td>\n",
       "      <td>8.875</td>\n",
       "      <td>917800</td>\n",
       "    </tr>\n",
       "    <tr>\n",
       "      <th>7480</th>\n",
       "      <td>ZQK</td>\n",
       "      <td>1/5/2004</td>\n",
       "      <td>17.52</td>\n",
       "      <td>17.97</td>\n",
       "      <td>17.26</td>\n",
       "      <td>17.71</td>\n",
       "      <td>750100</td>\n",
       "      <td>0.0</td>\n",
       "      <td>1</td>\n",
       "      <td>8.760</td>\n",
       "      <td>8.985</td>\n",
       "      <td>8.630</td>\n",
       "      <td>8.855</td>\n",
       "      <td>1500200</td>\n",
       "    </tr>\n",
       "    <tr>\n",
       "      <th>7481</th>\n",
       "      <td>ZQK</td>\n",
       "      <td>1/2/2004</td>\n",
       "      <td>17.77</td>\n",
       "      <td>17.99</td>\n",
       "      <td>17.58</td>\n",
       "      <td>17.60</td>\n",
       "      <td>330800</td>\n",
       "      <td>0.0</td>\n",
       "      <td>1</td>\n",
       "      <td>8.885</td>\n",
       "      <td>8.995</td>\n",
       "      <td>8.790</td>\n",
       "      <td>8.800</td>\n",
       "      <td>661600</td>\n",
       "    </tr>\n",
       "  </tbody>\n",
       "</table>\n",
       "</div>"
      ],
      "text/plain": [
       "     ticker      date   open   high    low  close  volume  ex-dividend  \\\n",
       "7477    ZQK  1/8/2004  17.80  17.89  17.45  17.69  370100          0.0   \n",
       "7478    ZQK  1/7/2004  17.75  17.85  17.45  17.70  399100          0.0   \n",
       "7479    ZQK  1/6/2004  17.70  17.91  17.61  17.75  458900          0.0   \n",
       "7480    ZQK  1/5/2004  17.52  17.97  17.26  17.71  750100          0.0   \n",
       "7481    ZQK  1/2/2004  17.77  17.99  17.58  17.60  330800          0.0   \n",
       "\n",
       "      split_ratio  adj_open  adj_high  adj_low  adj_close  adj_volume  \n",
       "7477            1     8.900     8.945    8.725      8.845      740200  \n",
       "7478            1     8.875     8.925    8.725      8.850      798200  \n",
       "7479            1     8.850     8.955    8.805      8.875      917800  \n",
       "7480            1     8.760     8.985    8.630      8.855     1500200  \n",
       "7481            1     8.885     8.995    8.790      8.800      661600  "
      ]
     },
     "execution_count": 45,
     "metadata": {},
     "output_type": "execute_result"
    }
   ],
   "source": [
    "df.tail()"
   ]
  },
  {
   "cell_type": "code",
   "execution_count": 46,
   "metadata": {},
   "outputs": [
    {
     "data": {
      "text/plain": [
       "Index(['ticker', 'date', 'open', 'high', 'low', 'close', 'volume',\n",
       "       'ex-dividend', 'split_ratio', 'adj_open', 'adj_high', 'adj_low',\n",
       "       'adj_close', 'adj_volume'],\n",
       "      dtype='object')"
      ]
     },
     "execution_count": 46,
     "metadata": {},
     "output_type": "execute_result"
    }
   ],
   "source": [
    "df.columns"
   ]
  },
  {
   "cell_type": "markdown",
   "metadata": {},
   "source": [
    "# Data PreProcessing"
   ]
  },
  {
   "cell_type": "code",
   "execution_count": 47,
   "metadata": {},
   "outputs": [],
   "source": [
    "df=df.drop(['ticker', 'date'], axis = 1 )"
   ]
  },
  {
   "cell_type": "code",
   "execution_count": 48,
   "metadata": {},
   "outputs": [
    {
     "data": {
      "text/plain": [
       "(7482, 12)"
      ]
     },
     "execution_count": 48,
     "metadata": {},
     "output_type": "execute_result"
    }
   ],
   "source": [
    "df.shape"
   ]
  },
  {
   "cell_type": "code",
   "execution_count": 49,
   "metadata": {},
   "outputs": [],
   "source": [
    "df['HL_PCT'] = df.adj_high - df.adj_low "
   ]
  },
  {
   "cell_type": "code",
   "execution_count": 50,
   "metadata": {},
   "outputs": [],
   "source": [
    "df['HL_PCT'] = df.HL_PCT / df.adj_close"
   ]
  },
  {
   "cell_type": "code",
   "execution_count": 51,
   "metadata": {},
   "outputs": [],
   "source": [
    "df['HL_PCT'] = df.HL_PCT * 100"
   ]
  },
  {
   "cell_type": "code",
   "execution_count": 52,
   "metadata": {},
   "outputs": [
    {
     "data": {
      "text/plain": [
       "0       5.508475\n",
       "1       4.462475\n",
       "2       3.184713\n",
       "3       4.496788\n",
       "4       4.151148\n",
       "          ...   \n",
       "7477    2.487281\n",
       "7478    2.259887\n",
       "7479    1.690141\n",
       "7480    4.009034\n",
       "7481    2.329545\n",
       "Name: HL_PCT, Length: 7482, dtype: float64"
      ]
     },
     "execution_count": 52,
     "metadata": {},
     "output_type": "execute_result"
    }
   ],
   "source": [
    "df['HL_PCT']"
   ]
  },
  {
   "cell_type": "code",
   "execution_count": 53,
   "metadata": {},
   "outputs": [
    {
     "data": {
      "text/html": [
       "<div>\n",
       "<style scoped>\n",
       "    .dataframe tbody tr th:only-of-type {\n",
       "        vertical-align: middle;\n",
       "    }\n",
       "\n",
       "    .dataframe tbody tr th {\n",
       "        vertical-align: top;\n",
       "    }\n",
       "\n",
       "    .dataframe thead th {\n",
       "        text-align: right;\n",
       "    }\n",
       "</style>\n",
       "<table border=\"1\" class=\"dataframe\">\n",
       "  <thead>\n",
       "    <tr style=\"text-align: right;\">\n",
       "      <th></th>\n",
       "      <th>open</th>\n",
       "      <th>high</th>\n",
       "      <th>low</th>\n",
       "      <th>close</th>\n",
       "      <th>volume</th>\n",
       "      <th>ex-dividend</th>\n",
       "      <th>split_ratio</th>\n",
       "      <th>adj_open</th>\n",
       "      <th>adj_high</th>\n",
       "      <th>adj_low</th>\n",
       "      <th>adj_close</th>\n",
       "      <th>adj_volume</th>\n",
       "      <th>HL_PCT</th>\n",
       "    </tr>\n",
       "  </thead>\n",
       "  <tbody>\n",
       "    <tr>\n",
       "      <th>0</th>\n",
       "      <td>24.65</td>\n",
       "      <td>24.65</td>\n",
       "      <td>23.3500</td>\n",
       "      <td>23.60</td>\n",
       "      <td>403884</td>\n",
       "      <td>0.0</td>\n",
       "      <td>1</td>\n",
       "      <td>24.65</td>\n",
       "      <td>24.65</td>\n",
       "      <td>23.3500</td>\n",
       "      <td>23.60</td>\n",
       "      <td>403884</td>\n",
       "      <td>5.508475</td>\n",
       "    </tr>\n",
       "    <tr>\n",
       "      <th>1</th>\n",
       "      <td>23.75</td>\n",
       "      <td>24.80</td>\n",
       "      <td>23.7000</td>\n",
       "      <td>24.65</td>\n",
       "      <td>375320</td>\n",
       "      <td>0.0</td>\n",
       "      <td>1</td>\n",
       "      <td>23.75</td>\n",
       "      <td>24.80</td>\n",
       "      <td>23.7000</td>\n",
       "      <td>24.65</td>\n",
       "      <td>375320</td>\n",
       "      <td>4.462475</td>\n",
       "    </tr>\n",
       "    <tr>\n",
       "      <th>2</th>\n",
       "      <td>23.55</td>\n",
       "      <td>24.20</td>\n",
       "      <td>23.4500</td>\n",
       "      <td>23.55</td>\n",
       "      <td>301584</td>\n",
       "      <td>0.0</td>\n",
       "      <td>1</td>\n",
       "      <td>23.55</td>\n",
       "      <td>24.20</td>\n",
       "      <td>23.4500</td>\n",
       "      <td>23.55</td>\n",
       "      <td>301584</td>\n",
       "      <td>3.184713</td>\n",
       "    </tr>\n",
       "    <tr>\n",
       "      <th>3</th>\n",
       "      <td>23.90</td>\n",
       "      <td>24.35</td>\n",
       "      <td>23.3000</td>\n",
       "      <td>23.35</td>\n",
       "      <td>269607</td>\n",
       "      <td>0.0</td>\n",
       "      <td>1</td>\n",
       "      <td>23.90</td>\n",
       "      <td>24.35</td>\n",
       "      <td>23.3000</td>\n",
       "      <td>23.35</td>\n",
       "      <td>269607</td>\n",
       "      <td>4.496788</td>\n",
       "    </tr>\n",
       "    <tr>\n",
       "      <th>4</th>\n",
       "      <td>23.80</td>\n",
       "      <td>24.60</td>\n",
       "      <td>23.6058</td>\n",
       "      <td>23.95</td>\n",
       "      <td>354092</td>\n",
       "      <td>0.0</td>\n",
       "      <td>1</td>\n",
       "      <td>23.80</td>\n",
       "      <td>24.60</td>\n",
       "      <td>23.6058</td>\n",
       "      <td>23.95</td>\n",
       "      <td>354092</td>\n",
       "      <td>4.151148</td>\n",
       "    </tr>\n",
       "  </tbody>\n",
       "</table>\n",
       "</div>"
      ],
      "text/plain": [
       "    open   high      low  close  volume  ex-dividend  split_ratio  adj_open  \\\n",
       "0  24.65  24.65  23.3500  23.60  403884          0.0            1     24.65   \n",
       "1  23.75  24.80  23.7000  24.65  375320          0.0            1     23.75   \n",
       "2  23.55  24.20  23.4500  23.55  301584          0.0            1     23.55   \n",
       "3  23.90  24.35  23.3000  23.35  269607          0.0            1     23.90   \n",
       "4  23.80  24.60  23.6058  23.95  354092          0.0            1     23.80   \n",
       "\n",
       "   adj_high  adj_low  adj_close  adj_volume    HL_PCT  \n",
       "0     24.65  23.3500      23.60      403884  5.508475  \n",
       "1     24.80  23.7000      24.65      375320  4.462475  \n",
       "2     24.20  23.4500      23.55      301584  3.184713  \n",
       "3     24.35  23.3000      23.35      269607  4.496788  \n",
       "4     24.60  23.6058      23.95      354092  4.151148  "
      ]
     },
     "execution_count": 53,
     "metadata": {},
     "output_type": "execute_result"
    }
   ],
   "source": [
    "df.head()"
   ]
  },
  {
   "cell_type": "code",
   "execution_count": 54,
   "metadata": {},
   "outputs": [],
   "source": [
    "df['PCT_Change']= df.adj_open - df.adj_close"
   ]
  },
  {
   "cell_type": "code",
   "execution_count": 55,
   "metadata": {},
   "outputs": [],
   "source": [
    "df['PCT_Change']= df.PCT_Change / df.adj_open"
   ]
  },
  {
   "cell_type": "code",
   "execution_count": 56,
   "metadata": {},
   "outputs": [],
   "source": [
    "df['PCT_Change']= df.PCT_Change * 100"
   ]
  },
  {
   "cell_type": "code",
   "execution_count": 57,
   "metadata": {},
   "outputs": [
    {
     "data": {
      "text/plain": [
       "0       4.259635\n",
       "1      -3.789474\n",
       "2       0.000000\n",
       "3       2.301255\n",
       "4      -0.630252\n",
       "          ...   \n",
       "7477    0.617978\n",
       "7478    0.281690\n",
       "7479   -0.282486\n",
       "7480   -1.084475\n",
       "7481    0.956669\n",
       "Name: PCT_Change, Length: 7482, dtype: float64"
      ]
     },
     "execution_count": 57,
     "metadata": {},
     "output_type": "execute_result"
    }
   ],
   "source": [
    "df['PCT_Change']"
   ]
  },
  {
   "cell_type": "code",
   "execution_count": 58,
   "metadata": {},
   "outputs": [
    {
     "data": {
      "text/html": [
       "<div>\n",
       "<style scoped>\n",
       "    .dataframe tbody tr th:only-of-type {\n",
       "        vertical-align: middle;\n",
       "    }\n",
       "\n",
       "    .dataframe tbody tr th {\n",
       "        vertical-align: top;\n",
       "    }\n",
       "\n",
       "    .dataframe thead th {\n",
       "        text-align: right;\n",
       "    }\n",
       "</style>\n",
       "<table border=\"1\" class=\"dataframe\">\n",
       "  <thead>\n",
       "    <tr style=\"text-align: right;\">\n",
       "      <th></th>\n",
       "      <th>open</th>\n",
       "      <th>high</th>\n",
       "      <th>low</th>\n",
       "      <th>close</th>\n",
       "      <th>volume</th>\n",
       "      <th>ex-dividend</th>\n",
       "      <th>split_ratio</th>\n",
       "      <th>adj_open</th>\n",
       "      <th>adj_high</th>\n",
       "      <th>adj_low</th>\n",
       "      <th>adj_close</th>\n",
       "      <th>adj_volume</th>\n",
       "      <th>HL_PCT</th>\n",
       "      <th>PCT_Change</th>\n",
       "    </tr>\n",
       "  </thead>\n",
       "  <tbody>\n",
       "    <tr>\n",
       "      <th>0</th>\n",
       "      <td>24.65</td>\n",
       "      <td>24.65</td>\n",
       "      <td>23.3500</td>\n",
       "      <td>23.60</td>\n",
       "      <td>403884</td>\n",
       "      <td>0.0</td>\n",
       "      <td>1</td>\n",
       "      <td>24.65</td>\n",
       "      <td>24.65</td>\n",
       "      <td>23.3500</td>\n",
       "      <td>23.60</td>\n",
       "      <td>403884</td>\n",
       "      <td>5.508475</td>\n",
       "      <td>4.259635</td>\n",
       "    </tr>\n",
       "    <tr>\n",
       "      <th>1</th>\n",
       "      <td>23.75</td>\n",
       "      <td>24.80</td>\n",
       "      <td>23.7000</td>\n",
       "      <td>24.65</td>\n",
       "      <td>375320</td>\n",
       "      <td>0.0</td>\n",
       "      <td>1</td>\n",
       "      <td>23.75</td>\n",
       "      <td>24.80</td>\n",
       "      <td>23.7000</td>\n",
       "      <td>24.65</td>\n",
       "      <td>375320</td>\n",
       "      <td>4.462475</td>\n",
       "      <td>-3.789474</td>\n",
       "    </tr>\n",
       "    <tr>\n",
       "      <th>2</th>\n",
       "      <td>23.55</td>\n",
       "      <td>24.20</td>\n",
       "      <td>23.4500</td>\n",
       "      <td>23.55</td>\n",
       "      <td>301584</td>\n",
       "      <td>0.0</td>\n",
       "      <td>1</td>\n",
       "      <td>23.55</td>\n",
       "      <td>24.20</td>\n",
       "      <td>23.4500</td>\n",
       "      <td>23.55</td>\n",
       "      <td>301584</td>\n",
       "      <td>3.184713</td>\n",
       "      <td>0.000000</td>\n",
       "    </tr>\n",
       "    <tr>\n",
       "      <th>3</th>\n",
       "      <td>23.90</td>\n",
       "      <td>24.35</td>\n",
       "      <td>23.3000</td>\n",
       "      <td>23.35</td>\n",
       "      <td>269607</td>\n",
       "      <td>0.0</td>\n",
       "      <td>1</td>\n",
       "      <td>23.90</td>\n",
       "      <td>24.35</td>\n",
       "      <td>23.3000</td>\n",
       "      <td>23.35</td>\n",
       "      <td>269607</td>\n",
       "      <td>4.496788</td>\n",
       "      <td>2.301255</td>\n",
       "    </tr>\n",
       "    <tr>\n",
       "      <th>4</th>\n",
       "      <td>23.80</td>\n",
       "      <td>24.60</td>\n",
       "      <td>23.6058</td>\n",
       "      <td>23.95</td>\n",
       "      <td>354092</td>\n",
       "      <td>0.0</td>\n",
       "      <td>1</td>\n",
       "      <td>23.80</td>\n",
       "      <td>24.60</td>\n",
       "      <td>23.6058</td>\n",
       "      <td>23.95</td>\n",
       "      <td>354092</td>\n",
       "      <td>4.151148</td>\n",
       "      <td>-0.630252</td>\n",
       "    </tr>\n",
       "  </tbody>\n",
       "</table>\n",
       "</div>"
      ],
      "text/plain": [
       "    open   high      low  close  volume  ex-dividend  split_ratio  adj_open  \\\n",
       "0  24.65  24.65  23.3500  23.60  403884          0.0            1     24.65   \n",
       "1  23.75  24.80  23.7000  24.65  375320          0.0            1     23.75   \n",
       "2  23.55  24.20  23.4500  23.55  301584          0.0            1     23.55   \n",
       "3  23.90  24.35  23.3000  23.35  269607          0.0            1     23.90   \n",
       "4  23.80  24.60  23.6058  23.95  354092          0.0            1     23.80   \n",
       "\n",
       "   adj_high  adj_low  adj_close  adj_volume    HL_PCT  PCT_Change  \n",
       "0     24.65  23.3500      23.60      403884  5.508475    4.259635  \n",
       "1     24.80  23.7000      24.65      375320  4.462475   -3.789474  \n",
       "2     24.20  23.4500      23.55      301584  3.184713    0.000000  \n",
       "3     24.35  23.3000      23.35      269607  4.496788    2.301255  \n",
       "4     24.60  23.6058      23.95      354092  4.151148   -0.630252  "
      ]
     },
     "execution_count": 58,
     "metadata": {},
     "output_type": "execute_result"
    }
   ],
   "source": [
    "df.head()"
   ]
  },
  {
   "cell_type": "markdown",
   "metadata": {},
   "source": [
    "# Train Test Split"
   ]
  },
  {
   "cell_type": "code",
   "execution_count": 59,
   "metadata": {},
   "outputs": [],
   "source": [
    "#df.to_numpy()"
   ]
  },
  {
   "cell_type": "code",
   "execution_count": 60,
   "metadata": {},
   "outputs": [],
   "source": [
    "x= df.drop(['close'], axis= 1)\n",
    "y= df['close']"
   ]
  },
  {
   "cell_type": "code",
   "execution_count": 61,
   "metadata": {},
   "outputs": [],
   "source": [
    "from sklearn.model_selection import train_test_split\n",
    "x_train,x_test,y_train,y_test=train_test_split(x,y,test_size=0.25,random_state= 42)"
   ]
  },
  {
   "cell_type": "markdown",
   "metadata": {},
   "source": [
    "Scaling"
   ]
  },
  {
   "cell_type": "code",
   "execution_count": 62,
   "metadata": {},
   "outputs": [],
   "source": [
    "from sklearn.preprocessing import MinMaxScaler\n",
    "scaler=MinMaxScaler()\n",
    "x_train_scaled = scaler.fit_transform(x_train)\n",
    "x_test_scaled = scaler.transform(x_test)"
   ]
  },
  {
   "cell_type": "markdown",
   "metadata": {},
   "source": [
    "# Model Building"
   ]
  },
  {
   "cell_type": "code",
   "execution_count": 63,
   "metadata": {},
   "outputs": [
    {
     "data": {
      "text/plain": [
       "LinearRegression(copy_X=True, fit_intercept=True, n_jobs=1, normalize=False)"
      ]
     },
     "execution_count": 63,
     "metadata": {},
     "output_type": "execute_result"
    }
   ],
   "source": [
    "from sklearn.linear_model import LinearRegression\n",
    "model= LinearRegression()\n",
    "model.fit(x_train,y_train)"
   ]
  },
  {
   "cell_type": "code",
   "execution_count": 64,
   "metadata": {},
   "outputs": [],
   "source": [
    "y_pred= model.predict(x_test)"
   ]
  },
  {
   "cell_type": "code",
   "execution_count": 65,
   "metadata": {},
   "outputs": [
    {
     "data": {
      "text/plain": [
       "array([32.42535702,  9.6568561 , 15.85860325, ..., 20.87676257,\n",
       "        3.34707239, 13.44572567])"
      ]
     },
     "execution_count": 65,
     "metadata": {},
     "output_type": "execute_result"
    }
   ],
   "source": [
    "y_pred"
   ]
  },
  {
   "cell_type": "markdown",
   "metadata": {},
   "source": [
    "# Accuracy 99.9%"
   ]
  },
  {
   "cell_type": "code",
   "execution_count": 66,
   "metadata": {},
   "outputs": [
    {
     "name": "stdout",
     "output_type": "stream",
     "text": [
      "model accuracy = 0.9999937481694745\n"
     ]
    }
   ],
   "source": [
    "acc= model.score(x_test,y_test)\n",
    "print('model accuracy =', acc)"
   ]
  },
  {
   "cell_type": "code",
   "execution_count": 67,
   "metadata": {},
   "outputs": [
    {
     "name": "stdout",
     "output_type": "stream",
     "text": [
      "mean squared error= 0.001595603037272549\n",
      "mean absolute error= 0.013731205042398912\n"
     ]
    }
   ],
   "source": [
    "from sklearn.metrics import mean_squared_error,mean_absolute_error\n",
    "mse= mean_squared_error(y_test,y_pred)\n",
    "mae = mean_absolute_error(y_test,y_pred)\n",
    "print('mean squared error=',mse)\n",
    "print('mean absolute error=', mae)"
   ]
  },
  {
   "cell_type": "code",
   "execution_count": 68,
   "metadata": {},
   "outputs": [
    {
     "data": {
      "text/html": [
       "<div>\n",
       "<style scoped>\n",
       "    .dataframe tbody tr th:only-of-type {\n",
       "        vertical-align: middle;\n",
       "    }\n",
       "\n",
       "    .dataframe tbody tr th {\n",
       "        vertical-align: top;\n",
       "    }\n",
       "\n",
       "    .dataframe thead th {\n",
       "        text-align: right;\n",
       "    }\n",
       "</style>\n",
       "<table border=\"1\" class=\"dataframe\">\n",
       "  <thead>\n",
       "    <tr style=\"text-align: right;\">\n",
       "      <th></th>\n",
       "      <th>open</th>\n",
       "      <th>high</th>\n",
       "      <th>low</th>\n",
       "      <th>close</th>\n",
       "      <th>volume</th>\n",
       "      <th>ex-dividend</th>\n",
       "      <th>split_ratio</th>\n",
       "      <th>adj_open</th>\n",
       "      <th>adj_high</th>\n",
       "      <th>adj_low</th>\n",
       "      <th>adj_close</th>\n",
       "      <th>adj_volume</th>\n",
       "      <th>HL_PCT</th>\n",
       "      <th>PCT_Change</th>\n",
       "    </tr>\n",
       "  </thead>\n",
       "  <tbody>\n",
       "    <tr>\n",
       "      <th>0</th>\n",
       "      <td>24.65</td>\n",
       "      <td>24.65</td>\n",
       "      <td>23.3500</td>\n",
       "      <td>23.60</td>\n",
       "      <td>403884</td>\n",
       "      <td>0.0</td>\n",
       "      <td>1</td>\n",
       "      <td>24.65</td>\n",
       "      <td>24.65</td>\n",
       "      <td>23.3500</td>\n",
       "      <td>23.60</td>\n",
       "      <td>403884</td>\n",
       "      <td>5.508475</td>\n",
       "      <td>4.259635</td>\n",
       "    </tr>\n",
       "    <tr>\n",
       "      <th>1</th>\n",
       "      <td>23.75</td>\n",
       "      <td>24.80</td>\n",
       "      <td>23.7000</td>\n",
       "      <td>24.65</td>\n",
       "      <td>375320</td>\n",
       "      <td>0.0</td>\n",
       "      <td>1</td>\n",
       "      <td>23.75</td>\n",
       "      <td>24.80</td>\n",
       "      <td>23.7000</td>\n",
       "      <td>24.65</td>\n",
       "      <td>375320</td>\n",
       "      <td>4.462475</td>\n",
       "      <td>-3.789474</td>\n",
       "    </tr>\n",
       "    <tr>\n",
       "      <th>2</th>\n",
       "      <td>23.55</td>\n",
       "      <td>24.20</td>\n",
       "      <td>23.4500</td>\n",
       "      <td>23.55</td>\n",
       "      <td>301584</td>\n",
       "      <td>0.0</td>\n",
       "      <td>1</td>\n",
       "      <td>23.55</td>\n",
       "      <td>24.20</td>\n",
       "      <td>23.4500</td>\n",
       "      <td>23.55</td>\n",
       "      <td>301584</td>\n",
       "      <td>3.184713</td>\n",
       "      <td>0.000000</td>\n",
       "    </tr>\n",
       "    <tr>\n",
       "      <th>3</th>\n",
       "      <td>23.90</td>\n",
       "      <td>24.35</td>\n",
       "      <td>23.3000</td>\n",
       "      <td>23.35</td>\n",
       "      <td>269607</td>\n",
       "      <td>0.0</td>\n",
       "      <td>1</td>\n",
       "      <td>23.90</td>\n",
       "      <td>24.35</td>\n",
       "      <td>23.3000</td>\n",
       "      <td>23.35</td>\n",
       "      <td>269607</td>\n",
       "      <td>4.496788</td>\n",
       "      <td>2.301255</td>\n",
       "    </tr>\n",
       "    <tr>\n",
       "      <th>4</th>\n",
       "      <td>23.80</td>\n",
       "      <td>24.60</td>\n",
       "      <td>23.6058</td>\n",
       "      <td>23.95</td>\n",
       "      <td>354092</td>\n",
       "      <td>0.0</td>\n",
       "      <td>1</td>\n",
       "      <td>23.80</td>\n",
       "      <td>24.60</td>\n",
       "      <td>23.6058</td>\n",
       "      <td>23.95</td>\n",
       "      <td>354092</td>\n",
       "      <td>4.151148</td>\n",
       "      <td>-0.630252</td>\n",
       "    </tr>\n",
       "  </tbody>\n",
       "</table>\n",
       "</div>"
      ],
      "text/plain": [
       "    open   high      low  close  volume  ex-dividend  split_ratio  adj_open  \\\n",
       "0  24.65  24.65  23.3500  23.60  403884          0.0            1     24.65   \n",
       "1  23.75  24.80  23.7000  24.65  375320          0.0            1     23.75   \n",
       "2  23.55  24.20  23.4500  23.55  301584          0.0            1     23.55   \n",
       "3  23.90  24.35  23.3000  23.35  269607          0.0            1     23.90   \n",
       "4  23.80  24.60  23.6058  23.95  354092          0.0            1     23.80   \n",
       "\n",
       "   adj_high  adj_low  adj_close  adj_volume    HL_PCT  PCT_Change  \n",
       "0     24.65  23.3500      23.60      403884  5.508475    4.259635  \n",
       "1     24.80  23.7000      24.65      375320  4.462475   -3.789474  \n",
       "2     24.20  23.4500      23.55      301584  3.184713    0.000000  \n",
       "3     24.35  23.3000      23.35      269607  4.496788    2.301255  \n",
       "4     24.60  23.6058      23.95      354092  4.151148   -0.630252  "
      ]
     },
     "execution_count": 68,
     "metadata": {},
     "output_type": "execute_result"
    }
   ],
   "source": [
    "df.head()"
   ]
  },
  {
   "cell_type": "code",
   "execution_count": 69,
   "metadata": {},
   "outputs": [],
   "source": [
    "data['date'] = pd.to_datetime(data['date'])"
   ]
  },
  {
   "cell_type": "code",
   "execution_count": 70,
   "metadata": {},
   "outputs": [
    {
     "data": {
      "text/html": [
       "<div>\n",
       "<style scoped>\n",
       "    .dataframe tbody tr th:only-of-type {\n",
       "        vertical-align: middle;\n",
       "    }\n",
       "\n",
       "    .dataframe tbody tr th {\n",
       "        vertical-align: top;\n",
       "    }\n",
       "\n",
       "    .dataframe thead th {\n",
       "        text-align: right;\n",
       "    }\n",
       "</style>\n",
       "<table border=\"1\" class=\"dataframe\">\n",
       "  <thead>\n",
       "    <tr style=\"text-align: right;\">\n",
       "      <th></th>\n",
       "      <th>ticker</th>\n",
       "      <th>date</th>\n",
       "      <th>open</th>\n",
       "      <th>high</th>\n",
       "      <th>low</th>\n",
       "      <th>close</th>\n",
       "      <th>volume</th>\n",
       "      <th>ex-dividend</th>\n",
       "      <th>split_ratio</th>\n",
       "      <th>adj_open</th>\n",
       "      <th>adj_high</th>\n",
       "      <th>adj_low</th>\n",
       "      <th>adj_close</th>\n",
       "      <th>adj_volume</th>\n",
       "      <th>date_year</th>\n",
       "    </tr>\n",
       "  </thead>\n",
       "  <tbody>\n",
       "    <tr>\n",
       "      <th>2851</th>\n",
       "      <td>ZUMZ</td>\n",
       "      <td>2006-11-24</td>\n",
       "      <td>28.20</td>\n",
       "      <td>28.490</td>\n",
       "      <td>27.95</td>\n",
       "      <td>28.04</td>\n",
       "      <td>61700</td>\n",
       "      <td>0.0</td>\n",
       "      <td>1</td>\n",
       "      <td>28.200000</td>\n",
       "      <td>28.490000</td>\n",
       "      <td>27.950000</td>\n",
       "      <td>28.040000</td>\n",
       "      <td>61700</td>\n",
       "      <td>2006</td>\n",
       "    </tr>\n",
       "    <tr>\n",
       "      <th>2721</th>\n",
       "      <td>ZUMZ</td>\n",
       "      <td>2007-06-05</td>\n",
       "      <td>38.51</td>\n",
       "      <td>39.570</td>\n",
       "      <td>38.48</td>\n",
       "      <td>39.57</td>\n",
       "      <td>620100</td>\n",
       "      <td>0.0</td>\n",
       "      <td>1</td>\n",
       "      <td>38.510000</td>\n",
       "      <td>39.570000</td>\n",
       "      <td>38.480000</td>\n",
       "      <td>39.570000</td>\n",
       "      <td>620100</td>\n",
       "      <td>2007</td>\n",
       "    </tr>\n",
       "    <tr>\n",
       "      <th>3628</th>\n",
       "      <td>ZTS</td>\n",
       "      <td>2016-09-14</td>\n",
       "      <td>50.42</td>\n",
       "      <td>50.830</td>\n",
       "      <td>50.35</td>\n",
       "      <td>50.55</td>\n",
       "      <td>3544356</td>\n",
       "      <td>0.0</td>\n",
       "      <td>1</td>\n",
       "      <td>50.035152</td>\n",
       "      <td>50.442022</td>\n",
       "      <td>49.965686</td>\n",
       "      <td>50.164159</td>\n",
       "      <td>3544356</td>\n",
       "      <td>2016</td>\n",
       "    </tr>\n",
       "    <tr>\n",
       "      <th>2777</th>\n",
       "      <td>ZUMZ</td>\n",
       "      <td>2007-03-15</td>\n",
       "      <td>38.95</td>\n",
       "      <td>40.250</td>\n",
       "      <td>38.06</td>\n",
       "      <td>39.56</td>\n",
       "      <td>2615200</td>\n",
       "      <td>0.0</td>\n",
       "      <td>1</td>\n",
       "      <td>38.950000</td>\n",
       "      <td>40.250000</td>\n",
       "      <td>38.060000</td>\n",
       "      <td>39.560000</td>\n",
       "      <td>2615200</td>\n",
       "      <td>2007</td>\n",
       "    </tr>\n",
       "    <tr>\n",
       "      <th>1840</th>\n",
       "      <td>ZUMZ</td>\n",
       "      <td>2010-12-01</td>\n",
       "      <td>32.47</td>\n",
       "      <td>33.129</td>\n",
       "      <td>31.10</td>\n",
       "      <td>31.57</td>\n",
       "      <td>1090900</td>\n",
       "      <td>0.0</td>\n",
       "      <td>1</td>\n",
       "      <td>32.470000</td>\n",
       "      <td>33.129000</td>\n",
       "      <td>31.100000</td>\n",
       "      <td>31.570000</td>\n",
       "      <td>1090900</td>\n",
       "      <td>2010</td>\n",
       "    </tr>\n",
       "  </tbody>\n",
       "</table>\n",
       "</div>"
      ],
      "text/plain": [
       "     ticker       date   open    high    low  close   volume  ex-dividend  \\\n",
       "2851   ZUMZ 2006-11-24  28.20  28.490  27.95  28.04    61700          0.0   \n",
       "2721   ZUMZ 2007-06-05  38.51  39.570  38.48  39.57   620100          0.0   \n",
       "3628    ZTS 2016-09-14  50.42  50.830  50.35  50.55  3544356          0.0   \n",
       "2777   ZUMZ 2007-03-15  38.95  40.250  38.06  39.56  2615200          0.0   \n",
       "1840   ZUMZ 2010-12-01  32.47  33.129  31.10  31.57  1090900          0.0   \n",
       "\n",
       "      split_ratio   adj_open   adj_high    adj_low  adj_close  adj_volume  \\\n",
       "2851            1  28.200000  28.490000  27.950000  28.040000       61700   \n",
       "2721            1  38.510000  39.570000  38.480000  39.570000      620100   \n",
       "3628            1  50.035152  50.442022  49.965686  50.164159     3544356   \n",
       "2777            1  38.950000  40.250000  38.060000  39.560000     2615200   \n",
       "1840            1  32.470000  33.129000  31.100000  31.570000     1090900   \n",
       "\n",
       "      date_year  \n",
       "2851       2006  \n",
       "2721       2007  \n",
       "3628       2016  \n",
       "2777       2007  \n",
       "1840       2010  "
      ]
     },
     "execution_count": 70,
     "metadata": {},
     "output_type": "execute_result"
    }
   ],
   "source": [
    "data['date_year'] = data['date'].dt.year\n",
    "\n",
    "data.sample(5)"
   ]
  },
  {
   "cell_type": "code",
   "execution_count": null,
   "metadata": {},
   "outputs": [],
   "source": []
  }
 ],
 "metadata": {
  "kernelspec": {
   "display_name": "Python 3",
   "language": "python",
   "name": "python3"
  },
  "language_info": {
   "codemirror_mode": {
    "name": "ipython",
    "version": 3
   },
   "file_extension": ".py",
   "mimetype": "text/x-python",
   "name": "python",
   "nbconvert_exporter": "python",
   "pygments_lexer": "ipython3",
   "version": "3.6.4"
  }
 },
 "nbformat": 4,
 "nbformat_minor": 2
}
